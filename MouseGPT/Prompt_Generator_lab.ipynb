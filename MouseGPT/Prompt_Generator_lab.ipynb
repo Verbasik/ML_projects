{
  "cells": [
    {
      "cell_type": "markdown",
      "metadata": {},
      "source": [
        "## Техническое описание класса UCB:\n",
        "\n",
        "**Функциональность:**\n",
        "\n",
        "1. **Взаимодействие с LLM:**\n",
        "    - Класс `BaseAgent` инкапсулирует логику взаимодействия с LLM (конкретно, моделью `gpt-4o-mini` через OpenAI API). \n",
        "    - Он принимает системный промпт при инициализации и предоставляет метод `__call__` для отправки сообщений модели и получения ответов.\n",
        "\n",
        "2. **Оптимизация промпта:**\n",
        "    - Класс `PromptOptimizer` отвечает за оптимизацию промпта, используя экземпляр `BaseAgent` для связи с LLM. \n",
        "    - Он принимает на вход:\n",
        "        -  исходный промпт, \n",
        "        -  параметры оптимизации (количество итераций, размер пучка для Монте-Карло, параметры градиентного спуска, критерии оценки в формате JSON).\n",
        "\n",
        "3. **Генерация кандидатов (`generate_candidates`)**:\n",
        "    - Создает список потенциально улучшенных промптов на основе текущего, используя два подхода:\n",
        "        - **Метод Монте-Карло (`generate_monte_carlo_candidate`)**: Генерирует перефразированные версии промпта, запрашивая у LLM \"перефразировать, сохраняя смысл\".\n",
        "        - **Градиентный спуск (`generate_gradient_candidate`)**: \n",
        "            - Получает ответ LLM на текущий промпт.\n",
        "            - Вызывает `generate_gradient()` для анализа ответа и получения текстового описания потенциальных улучшений (градиента).\n",
        "            - Запрашивает у LLM несколько (`steps_per_gradient`) улучшенных вариантов промпта, основываясь на сгенерированном градиенте.\n",
        "\n",
        "4. **Оценка кандидатов (`evaluate_candidates`)**:\n",
        "    - Оценивает каждый сгенерированный промпт-кандидат, вызывая `evaluate_response()` и возвращая список оценок.\n",
        "\n",
        "5. **Оценка ответа (`evaluate_response`)**:\n",
        "    - **Ключевая функция, определяющая качество ответа LLM на данный промпт.**\n",
        "    - Анализирует ответ на соответствие критериям, заданным в `evaluation_criteria`:\n",
        "        - Для каждого критерия вызывает `check_criterion()`, чтобы проверить, выполняется ли условие.\n",
        "        - Начисляет или снимает баллы в зависимости от важности (`weight`) и обязательности (`required`) критерия.\n",
        "    - Дополнительно рассчитывает метрики ROUGE и BLEU, сравнивая ответ с исходным промптом, и включает их в общую оценку с заданными весами.\n",
        "    - Возвращает нормализованную оценку в диапазоне [-1, 1].\n",
        "\n",
        "6. **Проверка критерия (`check_criterion`)**:\n",
        "    - Принимает на вход ответ LLM и строку `criterion_check`, содержащую код Python для проверки.\n",
        "    - Выполняет этот код, передавая `response` как контекст, что позволяет задавать **произвольные критерии оценки** на языке Python.\n",
        "    - Возвращает True, если условие выполнено, и False в противном случае.\n",
        "\n",
        "7. **Выбор лучшего кандидата (`select_best_candidate`)**:\n",
        "    - Использует алгоритм UCB для выбора наилучшего кандидата из списка, балансируя между исследованием новых кандидатов и эксплуатацией уже известных хороших.\n",
        "    - Учитывает не только среднюю оценку кандидата, но и дисперсию оценок, что позволяет делать более обоснованный выбор в условиях неопределенности.\n",
        "\n",
        "8. **Генерация градиента (`generate_gradient`)**:\n",
        "    - **Функция, автоматизирующая процесс определения критериев оценки и генерации градиента для улучшения промпта.**\n",
        "    - Отправляет LLM запрос с текущим промптом и просьбой:\n",
        "        - Определить наиболее важные критерии оценки для этого промпта.\n",
        "        - Сгенерировать для каждого критерия текстовое описание возможных улучшений (градиент).\n",
        "    - Ожидает ответ в строго определенном формате JSON, содержащем список критериев с их описанием, важностью, обязательностью и кодом проверки.\n",
        "    - Анализирует ответ LLM на соответствие сгенерированным критериям.\n",
        "    - Формирует итоговый текстовый градиент, перечисляя невыполненные критерии и предлагаемые LLM улучшения.\n",
        "\n",
        "**Механизмы:**\n",
        "\n",
        "- **Метод Монте-Карло:** Используется для стохастического поиска в пространстве промптов, генерируя случайные вариации.\n",
        "- **Градиентный спуск:**  Направляет поиск в сторону улучшения промпта, основываясь на анализе ответов LLM и сгенерированных градиентах.\n",
        "- **Алгоритм UCB:**  Обеспечивает баланс между исследованием новых кандидатов и использованием уже известных хороших, ускоряя сходимость оптимизации.\n",
        "- **Динамическая генерация критериев оценки:** Делегирует LLM задачу определения критериев оценки, адаптируя процесс оптимизации к конкретным промптам и задачам.\n",
        "- **Метрики ROUGE и BLEU:** Используются для оценки качества сгенерированного текста путем сравнения его с исходным промптом. ROUGE измеряет степень перекрытия n-грамм между текстами, а BLEU оценивает точность перевода, сравнивая сгенерированный текст с несколькими референтными переводами. \n",
        "\n"
      ]
    },
    {
      "cell_type": "markdown",
      "metadata": {},
      "source": [
        "---\n",
        "\n",
        "### **Математическая формализация и пояснение механизмов**\n",
        "\n",
        "#### **Метод Монте-Карло**\n",
        "\n",
        "#### **Определение**\n",
        "\n",
        "**Метод Монте-Карло** — это стохастический метод, который использует случайные выборки для моделирования и решения математических и физических задач. В контексте поиска в пространстве промптов, метод Монте-Карло генерирует случайные вариации промптов и оценивает их эффективность с целью нахождения оптимального или приближенного решения.\n",
        "\n",
        "#### **Механизм работы алгоритма**\n",
        "\n",
        "Процесс метода Монте-Карло можно разделить на несколько основных шагов:\n",
        "\n",
        "1. **Генерация случайных промптов.** В этом шаге случайно выбираются или варьируются параметры, которые влияют на формирование промпта.\n",
        "2. **Оценка промптов.** Каждый сгенерированный промпт оценивается по заранее определенным метрикам или критериям (например, по качеству сгенерированного текста).\n",
        "3. **Агрегация результатов.** На основе множества испытаний рассчитывается средняя или интегральная метрика, характеризующая эффективность определенных параметров.\n",
        "4. **Анализ результатов.** Изучение распределения результатов позволяет сделать выводы о том, какие параметры или их комбинации работают лучше всего.\n",
        "\n",
        "#### **Математическая формализация**\n",
        "\n",
        "Предположим, что мы оцениваем функцию $f(x)$ на основе случайных выборок $x_1, x_2, \\dots, x_N$, которые следуют определенному распределению вероятностей $P(x)$. Оценка ожидаемого значения $E[f(x)]$ функции $f(x)$ с помощью метода Монте-Карло вычисляется как:\n",
        "\n",
        "$$E[f(x)] \\approx \\frac{1}{N} \\sum_{i=1}^{N} f(x_i)$$\n",
        "\n",
        "где $N$ — количество случайных выборок.\n",
        "\n",
        "#### **Вывод**\n",
        "\n",
        "Метод Монте-Карло — это мощный и гибкий инструмент, который может быть использован для решения задач оптимизации в случаях, когда аналитическое решение невозможно или трудно найти. В контексте генерации и оптимизации промптов этот метод помогает находить лучшие вариации за счет случайного исследования пространства возможных решений.\n",
        "\n",
        "---\n",
        "\n",
        "#### **Алгоритм UCB**\n",
        "\n",
        "#### **Определение**\n",
        "\n",
        "**Upper Confidence Bound (UCB)** — это алгоритм, предназначенный для решения задачи многорукого бандита, который балансирует между исследованием новых вариантов (exploration) и использованием известных хороших вариантов (exploitation). В контексте оптимизации промптов, UCB позволяет ускорить процесс нахождения оптимального промпта, обеспечивая быстрый переход от исследования новых вариантов к использованию найденных эффективных решений.\n",
        "\n",
        "#### **Механизм работы алгоритма**\n",
        "\n",
        "Алгоритм UCB работает следующим образом:\n",
        "\n",
        "1. **Инициализация.** В начале каждому промпту присваивается начальное значение оценки.\n",
        "2. **Выбор промпта.** Для каждого промпта рассчитывается доверительный интервал, и выбирается тот, у которого верхняя граница доверительного интервала (Upper Confidence Bound) максимальна.\n",
        "3. **Обновление оценки.** После выбора и оценки промпта, его значение обновляется на основе полученного результата.\n",
        "4. **Повторение процесса.** Шаги 2 и 3 повторяются до достижения сходимости, при этом со временем алгоритм все больше использует наиболее успешные промпты.\n",
        "\n",
        "#### **Математическая формализация**\n",
        "\n",
        "Для каждого промпта $i$ на шаге $t$ UCB рассчитывается следующим образом:\n",
        "\n",
        "$$a_i(t) = \\bar{x}_i(t) + c \\sqrt{\\frac{2 \\ln t}{n_i(t)}}$$\n",
        "\n",
        "где:\n",
        "- $\\bar{x}_i(t)$ — среднее значение награды для промпта $i$ до момента $t$,\n",
        "- $n_i(t)$ — количество раз, когда промпт $i$ был выбран до момента $t$,\n",
        "- $c$ — параметр, регулирующий степень исследования (exploration),\n",
        "- $t$ — текущее количество шагов.\n",
        "\n",
        "#### **Вывод**\n",
        "\n",
        "Алгоритм UCB эффективно балансирует между исследованием новых вариантов и использованием известных успешных вариантов. В задачах оптимизации промптов UCB может существенно сократить время, необходимое для нахождения оптимального решения, благодаря своим адаптивным свойствам.\n",
        "\n",
        "---\n",
        "\n",
        "#### **Метрики ROUGE и BLEU**\n",
        "\n",
        "#### **Определение**\n",
        "\n",
        "**ROUGE** (Recall-Oriented Understudy for Gisting Evaluation) и **BLEU** (Bilingual Evaluation Understudy) — это метрики, используемые для оценки качества текста, сгенерированного алгоритмами на основе исходного текста (референсного промпта). ROUGE измеряет степень перекрытия n-грамм между сгенерированным текстом и референсом, в то время как BLEU оценивает точность перевода, сравнивая сгенерированный текст с одним или несколькими референтными переводами.\n",
        "\n",
        "#### **Механизм работы алгоритма**\n",
        "\n",
        "#### **ROUGE**\n",
        "1. **Разбиение текста на n-граммы.** Оба текста (сгенерированный и референсный) разбиваются на n-граммы — последовательности из n слов.\n",
        "2. **Подсчет совпадений.** Подсчитывается количество совпадений n-грамм между двумя текстами.\n",
        "3. **Оценка перекрытия.** Рассчитываются различные метрики, такие как ROUGE-N, ROUGE-L, которые отражают степень перекрытия n-грамм, длины последовательностей слов и т.д.\n",
        "\n",
        "#### **BLEU**\n",
        "1. **Разбиение текста на n-граммы.** Текст и референсный перевод разбиваются на n-граммы.\n",
        "2. **Подсчет совпадений.** Подсчитывается количество совпадений n-грамм между сгенерированным текстом и каждым референсным переводом.\n",
        "3. **Корректировка длины.** Вводится штраф за длину, чтобы учитывать, что слишком короткий текст может получить высокую оценку за совпадение n-грамм, но не быть точным переводом.\n",
        "4. **Сводка результатов.** Вычисляется среднее значение точности для всех n-грамм с учетом штрафа за длину.\n",
        "\n",
        "#### **Математическая формализация**\n",
        "\n",
        "#### **ROUGE-N**\n",
        "Метрика ROUGE-N для n-грамм вычисляется как:\n",
        "\n",
        "$$\\text{ROUGE-N} = \\frac{\\sum_{s \\in \\text{ref}} \\sum_{n\\text{-gram} \\in s} \\min(\\text{Count}_\\text{match}(n\\text{-gram}), \\text{Count}_\\text{gen}(n\\text{-gram}))}{\\sum_{s \\in \\text{ref}} \\sum_{n\\text{-gram} \\in s} \\text{Count}_\\text{ref}(n\\text{-gram})}$$\n",
        "\n",
        "#### **BLEU**\n",
        "Метрика BLEU вычисляется как:\n",
        "\n",
        "$$\\text{BLEU} = BP \\cdot \\exp \\left( \\sum_{n=1}^{N} w_n \\log p_n \\right)$$\n",
        "\n",
        "где:\n",
        "- $BP$ — штраф за длину (brevity penalty),\n",
        "- $p_n$ — точность для n-грамм,\n",
        "- $w_n$ — весовая коэффициента для n-грамм.\n",
        "\n",
        "#### **Вывод**\n",
        "\n",
        "Метрики ROUGE и BLEU являются стандартными инструментами для оценки качества сгенерированного текста в задачах обработки естественного языка. ROUGE подчеркивает степень покрытия текстовых сегментов, а BLEU — точность и адекватность перевода. Эти метрики помогают объективно оценивать, насколько сгенерированный текст соответствует ожиданиям на основе исходных данных.\n"
      ]
    },
    {
      "cell_type": "code",
      "execution_count": 94,
      "metadata": {},
      "outputs": [],
      "source": [
        "# ============================\n",
        "# БЛОК ИМПОРТОВ\n",
        "# ============================\n",
        "\n",
        "# Импорт стандартных библиотек\n",
        "import json\n",
        "import random\n",
        "\n",
        "# Импорт внешних библиотек\n",
        "import numpy as np\n",
        "import openai\n",
        "import rouge\n",
        "import sacrebleu\n",
        "import matplotlib.pyplot as plt\n",
        "from sklearn.manifold import TSNE\n",
        "\n",
        "# Импорт библиотек LangChain\n",
        "from langchain_openai import ChatOpenAI, OpenAIEmbeddings\n",
        "from langchain_core.messages import BaseMessage, HumanMessage, SystemMessage\n",
        "\n",
        "# Импорт внутренних библиотек\n",
        "from back.file_manager import FileManager\n",
        "\n",
        "import random\n",
        "import numpy as np\n",
        "from collections import namedtuple\n",
        "\n",
        "from sklearn.manifold import TSNE\n",
        "import networkx as nx"
      ]
    },
    {
      "cell_type": "markdown",
      "metadata": {},
      "source": [
        "---\n",
        "### Chat-GPT"
      ]
    },
    {
      "cell_type": "code",
      "execution_count": 95,
      "metadata": {},
      "outputs": [],
      "source": [
        "class BaseAgent:\n",
        "    \"\"\"\n",
        "    Description:\n",
        "        Класс для взаимодействия с LLM через OpenAI API.\n",
        "\n",
        "    Attributes:\n",
        "        system_prompt: Начальный системный промпт для модели.\n",
        "    \"\"\"\n",
        "    def __init__(self, system_prompt: str):\n",
        "        \"\"\"\n",
        "        Description:\n",
        "            Инициализация класса BaseAgent.\n",
        "\n",
        "        Args:\n",
        "            system_prompt: Начальный системный промпт для модели.\n",
        "        \"\"\"\n",
        "        self.system_prompt = system_prompt\n",
        "\n",
        "    def __call__(self, messages: list) -> str:\n",
        "        \"\"\"\n",
        "        Description:\n",
        "            Выполнение вызова к LLM с заданными сообщениями.\n",
        "\n",
        "        Args:\n",
        "            messages: Список сообщений для отправки в LLM.\n",
        "\n",
        "        Returns:\n",
        "            Ответ модели в виде строки.\n",
        "        \"\"\"\n",
        "        response = openai.chat.completions.create(\n",
        "            model=\"gpt-4o-mini\", \n",
        "            messages=[\n",
        "                {\"role\": \"system\", \n",
        "                 \"content\": self.system_prompt},\n",
        "                *messages\n",
        "            ]\n",
        "        ).choices[0].message.content\n",
        "        return response"
      ]
    },
    {
      "cell_type": "markdown",
      "metadata": {},
      "source": [
        "---\n",
        "### TGI - Llama 3.1 70B"
      ]
    },
    {
      "cell_type": "code",
      "execution_count": 96,
      "metadata": {},
      "outputs": [],
      "source": [
        "# class BaseAgent:\n",
        "#     \"\"\"\n",
        "#     Description:\n",
        "#         Класс для взаимодействия с моделью ChatOpenAI.\n",
        "#     \"\"\"\n",
        "    \n",
        "#     def __init__(self, system_prompt: str):\n",
        "#         \"\"\"\n",
        "#         Description:\n",
        "#             Инициализирует экземпляр CustomChatModel.\n",
        "            \n",
        "#         Args:\n",
        "#             system_prompt: Начальный системный промпт для модели.\n",
        "#         \"\"\"\n",
        "#         self.system_prompt = system_prompt\n",
        "        \n",
        "#         self.client = ChatOpenAI(\n",
        "#             base_url=os.getenv(\"TGI_URL\"),\n",
        "#             api_key=\"-\",\n",
        "#             model=os.getenv(\"MODEL_NAME\"),\n",
        "#             temperature=0.1,\n",
        "#             n=10,\n",
        "#             top_p=0.9,\n",
        "#             max_tokens=4096,\n",
        "#             streaming=False,\n",
        "#             verbose=True,\n",
        "#         )\n",
        "    \n",
        "#     def __call__(self, messages: List[BaseMessage]) -> str:\n",
        "#         \"\"\"\n",
        "#         Description:\n",
        "#             Генерирует ответ от модели на основе предоставленных сообщений.\n",
        "\n",
        "#         Args:\n",
        "#             messages (List[BaseMessage]): Список сообщений для отправки модели.\n",
        "\n",
        "#         Returns:\n",
        "#             str: Ответ от модели в виде строки.\n",
        "#         \"\"\"\n",
        "#         messages = [\n",
        "#             SystemMessage(content = self.system_prompt),\n",
        "#             HumanMessage(content = messages)\n",
        "#         ]\n",
        "        \n",
        "#         # Вызов API\n",
        "#         response = self.client.invoke(messages)\n",
        "        \n",
        "#         return response.content"
      ]
    },
    {
      "cell_type": "code",
      "execution_count": 97,
      "metadata": {},
      "outputs": [],
      "source": [
        "class UCB:\n",
        "    \"\"\"\n",
        "    Description:\n",
        "        Класс для оптимизации промпта с использованием методов Монте-Карло и градиентного спуска.\n",
        "        Теперь включает методы для визуализации эмбендингов.\n",
        "    \"\"\"\n",
        "    def __init__(self,\n",
        "                 llm: BaseAgent,\n",
        "                 initial_prompt: str,\n",
        "                 num_iterations: int = 1,\n",
        "                 beam_size: int = 4,\n",
        "                 steps_per_gradient: int = 2,\n",
        "                 evaluation_criteria: str = '{}'):\n",
        "        \"\"\"\n",
        "        Description:\n",
        "            Инициализация класса PromptOptimizer.\n",
        "\n",
        "        Args:\n",
        "            llm: Экземпляр класса BaseAgent для взаимодействия с LLM.\n",
        "            initial_prompt: Исходный промпт для оптимизации.\n",
        "            num_iterations: Количество итераций оптимизации.\n",
        "            beam_size: Размер выборки для поиска лучшего кандидата.\n",
        "            steps_per_gradient: Количество шагов на градиент.\n",
        "            evaluation_criteria: Конфигурация для оценки ответов модели в формате JSON.\n",
        "        \"\"\"\n",
        "        self.llm = llm\n",
        "        self.prompt = initial_prompt\n",
        "        self.num_iterations = num_iterations\n",
        "        self.beam_size = beam_size\n",
        "        self.steps_per_gradient = steps_per_gradient\n",
        "        self.evaluation_criteria = json.loads(evaluation_criteria)\n",
        "        self.embeddings = OpenAIEmbeddings()\n",
        "\n",
        "    def optimize(self) -> str:\n",
        "        \"\"\"\n",
        "        Description:\n",
        "            Основной метод оптимизации промпта.\n",
        "\n",
        "        Returns:\n",
        "            Оптимизированный промпт.\n",
        "        \"\"\"\n",
        "        for i in range(self.num_iterations):\n",
        "            print(f\"[INFO] === Iteration {i+1}/{self.num_iterations} ===\")\n",
        "            # Генерируем кандидатов на основе текущего промпта\n",
        "            candidates = self.generate_candidates()\n",
        "            # Оцениваем каждого кандидата\n",
        "            candidate_scores = self.evaluate_candidates(candidates, self.evaluation_criteria)\n",
        "            # Выбираем лучшего кандидата по результатам оценки\n",
        "            best_candidate_idx = self.select_best_candidate(candidate_scores)\n",
        "            # Обновляем текущий промпт лучшим кандидатом\n",
        "            self.prompt = candidates[best_candidate_idx]\n",
        "            print(f\"[INFO] Best prompt at iteration {i+1}: {self.prompt}\\n\")\n",
        "            \n",
        "            # Визуализируем эмбендинги кандидатов\n",
        "            self.visualize_embeddings(candidates)\n",
        "\n",
        "        return self.prompt\n",
        "\n",
        "    def generate_candidates(self) -> list:\n",
        "        \"\"\"\n",
        "        Description:\n",
        "            Генерация списка кандидатов на основе исходного промпта.\n",
        "\n",
        "        Returns:\n",
        "            Список сгенерированных кандидатов.\n",
        "        \"\"\"\n",
        "        candidates = [self.prompt]\n",
        "        \n",
        "        # Генерация кандидатов с использованием метода Монте-Карло\n",
        "        for _ in range(self.beam_size):\n",
        "            monte_carlo_candidate = self.generate_monte_carlo_candidate(self.prompt)\n",
        "            candidates.append(monte_carlo_candidate)\n",
        "        \n",
        "        # Генерация кандидатов на основе градиентного спуска\n",
        "        for _ in range(self.beam_size):\n",
        "            gradient_candidate = self.generate_gradient_candidate(self.prompt)\n",
        "            candidates.append(gradient_candidate)\n",
        "        \n",
        "        return candidates\n",
        "\n",
        "    def generate_monte_carlo_candidate(self, prompt: str) -> str:\n",
        "        \"\"\"\n",
        "        Description:\n",
        "            Генерация кандидата с использованием метода Монте-Карло.\n",
        "\n",
        "        Args:\n",
        "            prompt: Исходный промпт.\n",
        "\n",
        "        Returns:\n",
        "            Сгенерированный промпт.\n",
        "        \"\"\"\n",
        "        paraphrased_prompt = self.llm(messages=[{\"role\": \"user\", \"content\": f\"Перефразируй следующий текст, сохраняя смысл:\\n{prompt}\"}])\n",
        "        return paraphrased_prompt\n",
        "\n",
        "    def generate_gradient_candidate(self, prompt: str) -> str:\n",
        "        \"\"\"\n",
        "        Description:\n",
        "            Генерация кандидата с использованием адаптивного градиентного подхода, учитывающего историю изменений.\n",
        "\n",
        "        Args:\n",
        "            prompt: Исходный промпт.\n",
        "\n",
        "        Returns:\n",
        "            Сгенерированный промпт с улучшениями.\n",
        "        \"\"\"\n",
        "        # Получаем ответ от LLM на исходный промпт\n",
        "        response = self.llm(messages=[{\"role\": \"user\", \"content\": prompt}])\n",
        "\n",
        "        # Генерируем текстовые улучшения на основе анализа ответа LLM\n",
        "        gradient = self.generate_gradient(prompt, response)\n",
        "\n",
        "        # Запрашиваем у LLM улучшенные версии промпта на основе предложенных улучшений\n",
        "        improved_prompt = self.llm(messages=[{\"role\": \"user\", \"content\": f\"\"\"\n",
        "            <task>\n",
        "                <goal>Оптимизировать текущий промпт для ИИ-помощника.</goal>\n",
        "                <input>\n",
        "                    <current_prompt>{prompt}</current_prompt>\n",
        "                    <history_of_changes>{gradient}</history_of_changes>\n",
        "                </input>\n",
        "                <requirements>\n",
        "                    <step_count>{self.steps_per_gradient}</step_count>\n",
        "                    <adaptiveness>Повышенная адаптивность с каждым шагом улучшений.</adaptiveness>\n",
        "                    <quality>Каждая версия должна быть лучше предыдущей, учитывать изменения и улучшаться по градиенту.</quality>\n",
        "                </requirements>\n",
        "                <output>\n",
        "                    <improved_prompts>Список улучшенных версий промпта.</improved_prompts>\n",
        "                </output>\n",
        "            </task>\n",
        "            <examples>\n",
        "                <example_1>Версия промпта с добавленным контекстом.</example_1>\n",
        "                <example_2>Версия промпта с улучшенной структурой.</example_2>\n",
        "            </examples>\n",
        "            \"\"\"}])\n",
        "        \n",
        "        return improved_prompt\n",
        "\n",
        "    def evaluate_candidates(self, candidates: list, evaluation_criteria: dict) -> list:\n",
        "        \"\"\"\n",
        "        Description:\n",
        "            Оценка кандидатов на основе заданных критериев.\n",
        "\n",
        "        Args:\n",
        "            candidates: Список кандидатов.\n",
        "            evaluation_criteria: Словарь с критериями оценки.\n",
        "\n",
        "        Returns:\n",
        "            Список оценок для каждого кандидата.\n",
        "        \"\"\"\n",
        "        print(\"[INFO] Evaluating candidates...\")\n",
        "        \n",
        "        candidate_scores = []\n",
        "\n",
        "        for candidate in candidates:\n",
        "            # Получаем ответ от LLM на каждый кандидатский промпт\n",
        "            response = self.llm(messages=[{\"role\": \"user\", \"content\": candidate}])\n",
        "            # Оцениваем ответ на основе заданных критериев\n",
        "            score = self.evaluate_response(response, evaluation_criteria)\n",
        "            candidate_scores.append(score)\n",
        "        \n",
        "        print(f\"[INFO] Candidate scores: {candidate_scores}\")\n",
        "        return candidate_scores\n",
        "\n",
        "    def evaluate_response(self, response: str, evaluation_criteria: dict) -> float:\n",
        "        \"\"\"\n",
        "        Description:\n",
        "            Оценивает ответ LLM на основе заданных критериев, переданных в конфигурации.\n",
        "\n",
        "        Args:\n",
        "            response: Ответ модели.\n",
        "\n",
        "        Returns:\n",
        "            Оценка (число), представляющая качество ответа.\n",
        "        \"\"\"\n",
        "        score = 0\n",
        "        total_possible_score = 0\n",
        "        \n",
        "        for criterion in evaluation_criteria.get(\"criteria\", []):\n",
        "            criterion_name = criterion.get(\"name\")\n",
        "            criterion_required = criterion.get(\"required\", False)\n",
        "            criterion_check = criterion.get(\"check\", \"True\")\n",
        "            criterion_weight = criterion.get(\"weight\", 1)\n",
        "            total_possible_score += criterion_weight\n",
        "\n",
        "            try:\n",
        "                # Проверяем выполнение условия для критерия\n",
        "                criterion_met = self.check_criterion(response, criterion_check)\n",
        "                print(f\"[DEBUG] Evaluating criterion '{criterion_name}': Met = {criterion_met}, Required = {criterion_required}, Weight = {criterion_weight}\")\n",
        "                \n",
        "                if criterion_met:\n",
        "                    score += criterion_weight\n",
        "                elif criterion_required:\n",
        "                    # Если критерий обязателен и не выполнен, снижаем итоговый балл\n",
        "                    score -= criterion_weight\n",
        "                else:\n",
        "                    print(f\"[WARN] Criterion '{criterion_name}' not met, but not required.\")\n",
        "            except Exception as e:\n",
        "                print(f\"[ERROR] Error evaluating criterion '{criterion_name}': {e}\")\n",
        "        \n",
        "        # Вычисление метрик ROUGE и BLEU\n",
        "        rouge_scorer = rouge.Rouge()\n",
        "        rouge_scores = rouge_scorer.get_scores(response, self.prompt)[0]\n",
        "        print(f\"[INFO] ROUGE scores: {rouge_scores}\")\n",
        "\n",
        "        bleu_score = sacrebleu.corpus_bleu([response], [[self.prompt]]).score\n",
        "        print(f\"[INFO] BLEU score: {bleu_score}\")\n",
        "\n",
        "        # Включение ROUGE и BLEU в итоговую оценку\n",
        "        rouge_weight = evaluation_criteria.get(\"rouge_weight\", 0.2)\n",
        "        bleu_weight = evaluation_criteria.get(\"bleu_weight\", 0.2)\n",
        "\n",
        "        total_possible_score += rouge_weight + bleu_weight\n",
        "        score += rouge_scores['rouge-l']['f'] * rouge_weight\n",
        "        score += bleu_score / 100 * bleu_weight\n",
        "\n",
        "        # Нормализуем оценку в диапазоне от -1 до 1\n",
        "        normalized_score = score / total_possible_score if total_possible_score > 0 else 0\n",
        "        print(f\"[INFO] Total score for the response: {score} / {total_possible_score} (Normalized: {normalized_score})\")\n",
        "        print('=' * 101)\n",
        "\n",
        "        return max(min(normalized_score, 1), -1)  # Ограничиваем результат в диапазоне [-1, 1]\n",
        "\n",
        "    def check_criterion(self, response: str, criterion_check: str) -> bool:\n",
        "        \"\"\"\n",
        "        Description:\n",
        "            Проверка ответа LLM на соответствие критерию.\n",
        "\n",
        "        Args:\n",
        "            response: Ответ LLM.\n",
        "            criterion_check: Строка с условием проверки.\n",
        "\n",
        "        Returns:\n",
        "            True, если ответ соответствует критерию, иначе False.\n",
        "        \"\"\"\n",
        "        # Формируем запрос к LLM, чтобы она проверила соответствие ответа критерию\n",
        "        prompt = f\"\"\"\n",
        "        <context>\n",
        "            <input>\n",
        "                <response>{response}</response>\n",
        "                <criterion_check>{criterion_check}</criterion_check>\n",
        "            </input>\n",
        "            <task>\n",
        "                <question>Соответствует ли данный ответ критерию?</question>\n",
        "                <instructions>Ответь \"True\", если критерий выполнен, и \"False\", если не выполнен.</instructions>\n",
        "            </task>\n",
        "        </context>\n",
        "        \"\"\"\n",
        "        \n",
        "        # Получаем ответ от LLM на запрос\n",
        "        llm_response = self.llm(messages=[{\"role\": \"user\", \"content\": prompt}])\n",
        "        \n",
        "        # Обрабатываем ответ модели\n",
        "        llm_response = llm_response.strip().lower()\n",
        "        \n",
        "        # Проверяем, является ли ответ True или False\n",
        "        if llm_response in [\"true\", \"false\"]:\n",
        "            return llm_response == \"true\"\n",
        "        else:\n",
        "            print(f\"[ERROR] Unexpected LLM response for criterion check: {llm_response}\")\n",
        "            return False\n",
        "\n",
        "    def select_best_candidate(self, candidate_scores: list) -> int:\n",
        "        \"\"\"\n",
        "        Description:\n",
        "            Адаптивный алгоритм UCB для выбора лучшего кандидата с учетом изменяющейся природы текстов и сложности промптов.\n",
        "\n",
        "        Args:\n",
        "            candidate_scores: Оценки кандидатов.\n",
        "\n",
        "        Returns:\n",
        "            Индекс лучшего кандидата.\n",
        "        \"\"\"\n",
        "        print(\"[INFO] Selecting the best candidate using adaptive UCB...\")\n",
        "\n",
        "        N = len(candidate_scores)       # Общее количество кандидатов\n",
        "        T = np.arange(1, N + 1)         # Массив для отслеживания количества испытаний каждого кандидата\n",
        "        Q = np.array(candidate_scores)  # Оценки кандидатов\n",
        "\n",
        "        # Рассчитываем дисперсию и UCB с адаптивным коэффициентом\n",
        "        variance = np.var(Q)\n",
        "        adaptive_factor = 1 + np.log(1 + variance)  # Добавляем адаптивный коэффициент, зависящий от дисперсии оценок\n",
        "        print(f\"[DEBUG] Variance of candidate scores: {variance}, Adaptive Factor: {adaptive_factor}\")\n",
        "\n",
        "        ucb_values = Q + adaptive_factor * np.sqrt(2 * np.log(T) / (T + 1e-5)) + variance\n",
        "        print(f\"[DEBUG] UCB values: {ucb_values}\")\n",
        "\n",
        "        # Выбор индекса кандидата с максимальным значением UCB\n",
        "        best_idx = np.argmax(ucb_values)\n",
        "        print(f\"[INFO] Selected best candidate index: {best_idx}\")\n",
        "        \n",
        "        return best_idx  # Возвращаем индекс лучшего кандидата\n",
        "\n",
        "    def generate_gradient(self, prompt: str, response: str) -> str:\n",
        "        \"\"\"\n",
        "        Description:\n",
        "            Генерация градиента на основе динамического анализа ответа LLM и критериев оценки, заданных для конкретного промпта.\n",
        "\n",
        "        Args:\n",
        "            prompt: Исходный промпт.\n",
        "            response: Ответ LLM на этот промпт.\n",
        "\n",
        "        Returns:\n",
        "            Текстовый градиент, указывающий на возможные улучшения.\n",
        "        \"\"\"\n",
        "        # Шаг 1: Запрашиваем у LLM критерии оценки и градиенты для данного промпта\n",
        "        evaluation_criteria_json = self.llm(messages=[{\n",
        "            \"role\": \"user\",\n",
        "            \"content\": f\"\"\"\n",
        "                Мне нужно оценить ответ модели на следующий промпт:\n",
        "                ```\n",
        "                {prompt}\n",
        "                ```\n",
        "                В зависимости от этого промпта, определи какие критерии оценки наиболее важны для ответа модели. \n",
        "                Учти, что критерии должны быть основаны на содержании промпта, его цели, ожидаемом результате и других релевантных факторах. \n",
        "\n",
        "                Определи критерии оценки этого промпта и представь их в формате JSON.\n",
        "                Также сформируй список возможных улучшений (градиентов) для каждого критерия в формате JSON.\n",
        "                \n",
        "                Пример ответа Few-Shot Prompting:\n",
        "                {{\n",
        "                    \"criteria\": [\n",
        "                        {{\n",
        "                            \"name\": \"include_math\",\n",
        "                            \"required\": true,\n",
        "                            \"check\": \"response.count('math') > 0\",\n",
        "                            \"gradient\": \"Добавьте математические формулы для лучшего объяснения.\",\n",
        "                            \"weight\": 0.3\n",
        "                        }},\n",
        "                        {{\n",
        "                            \"name\": \"latex_formatting\",\n",
        "                            \"required\": true,\n",
        "                            \"check\": \"response.count('\\\\$') > 0\",\n",
        "                            \"gradient\": \"Убедитесь, что формулы правильно отформатированы в LaTeX.\",\n",
        "                            \"weight\": 0.3\n",
        "                        }},\n",
        "                        {{\n",
        "                            \"name\": \"clarity_and_conciseness\",\n",
        "                            \"required\": true,\n",
        "                            \"check\": \"len(response.split()) < 100\",\n",
        "                            \"gradient\": \"Обеспечьте ясность и краткость в объяснениях.\",\n",
        "                            \"weight\": 0.2\n",
        "                        }},\n",
        "                        {{\n",
        "                            \"name\": \"detailed_explanation\",\n",
        "                            \"required\": true,\n",
        "                            \"check\": \"response.count('.') > 2\",\n",
        "                            \"gradient\": \"Расширьте объяснение для повышения его полноты.\",\n",
        "                            \"weight\": 0.2\n",
        "                        }}\n",
        "                    ]\n",
        "                }}\n",
        "            Правила ответа:\n",
        "            - ВСЕГДА используйте пример ответа для структуры сообщения.\n",
        "            - ОТВЕЧАЙ ТОЛЬКО В ФОРМАТЕ JSON, КАК УКАЗАНО В ПРИМЕРЕ ОТВЕТА.\n",
        "            - НЕ ДОБАВЛЯЙ ЛЮБЫЕ ДОПОЛНИТЕЛЬНЫЕ КОММЕНТАРИИ ИЛИ ВСТУПИТЕЛЬНЫЕ ФРАЗЫ.\n",
        "            - СТРОГО следуйте примеру ответа!\n",
        "            \"\"\"\n",
        "        }])\n",
        "        # Проверяем, что ответ не пустой\n",
        "        if not evaluation_criteria_json:\n",
        "            raise ValueError(\"Получен пустой ответ от LLM\")\n",
        "\n",
        "        # Парсим JSON с критериями и градиентами\n",
        "        try:\n",
        "            self.evaluation_criteria = json.loads(evaluation_criteria_json)\n",
        "        except json.JSONDecodeError as e:\n",
        "            return \"\"\n",
        "\n",
        "        # Шаг 2: Анализируем ответ LLM на соответствие критериям и формируем градиенты\n",
        "        gradients = []\n",
        "        \n",
        "        for criterion in self.evaluation_criteria.get(\"criteria\", []):\n",
        "            criterion_name = criterion.get(\"name\")\n",
        "            criterion_required = criterion.get(\"required\")\n",
        "            criterion_gradient = criterion.get(\"gradient\")\n",
        "            criterion_check = criterion.get(\"check\")\n",
        "            \n",
        "\n",
        "            if criterion_required and not self.check_criterion(response, criterion_check):\n",
        "                print(f\"[INFO] Criterion '{criterion_name}' not met, adding gradient: {criterion_gradient}\")\n",
        "                gradients.append(criterion_gradient)\n",
        "\n",
        "        # Шаг 3: Возвращаем сгенерированные градиенты\n",
        "        generated_gradient = \" \".join(gradients)\n",
        "        \n",
        "        return generated_gradient\n",
        "\n",
        "    def visualize_embeddings(self, candidates: list):\n",
        "        \"\"\"\n",
        "        Description:\n",
        "            Визуализация эмбендингов сгенерированных кандидатов.\n",
        "\n",
        "        Args:\n",
        "            candidates: Список кандидатов.\n",
        "        \"\"\"\n",
        "        print(\"[INFO] Generating embeddings for candidates...\")\n",
        "        # Используем метод embed_documents для получения эмбендингов\n",
        "        embeddings = np.array(self.embeddings.embed_documents(candidates))\n",
        "\n",
        "        print(\"[INFO] Reducing dimensionality for visualization...\")\n",
        "        tsne = TSNE(n_components=2, perplexity=min(3, len(candidates) - 1), random_state=42)\n",
        "        reduced_embeddings = tsne.fit_transform(embeddings)\n",
        "\n",
        "        print(\"[INFO] Visualizing embeddings...\")\n",
        "        plt.figure(figsize=(8, 6))\n",
        "        plt.scatter(reduced_embeddings[:, 0], reduced_embeddings[:, 1], color='blue')\n",
        "\n",
        "        # Рисуем линии от начала координат до каждой точки\n",
        "        for i, embedding in enumerate(reduced_embeddings):\n",
        "            plt.plot([0, embedding[0]], [0, embedding[1]], color='grey', linestyle='--')\n",
        "\n",
        "        for i, candidate in enumerate(candidates):\n",
        "            plt.annotate(f'Cand {i+1}', (reduced_embeddings[i, 0], reduced_embeddings[i, 1]))\n",
        "\n",
        "        plt.title('Candidates Embeddings Visualization')\n",
        "        plt.xlabel('TSNE Component 1')\n",
        "        plt.ylabel('TSNE Component 2')\n",
        "        plt.grid(True)\n",
        "        plt.show()"
      ]
    },
    {
      "cell_type": "code",
      "execution_count": 98,
      "metadata": {},
      "outputs": [],
      "source": [
        "# # Пример использования\n",
        "# initial_prompt = \"\"\"\n",
        "# Тебе нужно помочь написать мне unit-тест\n",
        "# \"\"\"\n",
        "\n",
        "# # Инициализация файл-менеджера\n",
        "# file_manager = FileManager()\n",
        "\n",
        "# llm = BaseAgent(system_prompt = file_manager.read_document('prompts/prompt_engineering.txt'))\n",
        "\n",
        "# optimizer = UCB(llm, initial_prompt)\n",
        "# optimized_prompt = optimizer.optimize()\n",
        "\n",
        "# print(\"Оптимизированный промпт:\", optimized_prompt)"
      ]
    },
    {
      "cell_type": "markdown",
      "metadata": {},
      "source": [
        "## Техническое описание класса GoT:\n",
        "\n",
        "**Основные изменения:**\n",
        "\n",
        "1. **Внедрение графа мыслей (Thought Graph):**\n",
        "   - Добавлен класс `ThoughtGraph` для представления связей между промптами и хранения информации об их качестве, использовании и контексте.\n",
        "   - Класс `GoT` (ранее `UCB`) теперь использует `ThoughtGraph` для отслеживания истории оптимизации промпта.\n",
        "\n",
        "2. **Улучшенная генерация кандидатов:**\n",
        "   - Метод `generate_candidates` расширен для включения кандидатов, сгенерированных на основе лучших узлов в `ThoughtGraph`.\n",
        "   - Добавлен метод `generate_candidate_from_past_experience`, использующий LLM для создания новых промптов на основе анализа предыдущих успешных итераций.\n",
        "\n",
        "3. **Инспекция и улучшение промпта:**\n",
        "   - Добавлен метод `inspect_and_improve_prompt`, который использует LLM для анализа и предложения улучшений для текущего лучшего промпта на каждой итерации.\n",
        "\n",
        "**Детальное описание классов:**\n",
        "\n",
        "**1. `ThoughtGraph`:**\n",
        "\n",
        "   - **Атрибуты:**\n",
        "     - `graph`: Словарь, представляющий граф, где ключи - это узлы (промпты), а значения - списки связанных узлов.\n",
        "     - `node_info`: Словарь, хранящий информацию о каждом узле, такую как качество, количество использований, контекст, родительский узел и ответ LLM.\n",
        "     - `path_scores`: Словарь для хранения оценок качества пройденных путей в графе.\n",
        "     - `paths`: Список для хранения всех пройденных путей в графе.\n",
        "\n",
        "   - **Методы:**\n",
        "     - `add_node`: Добавляет новый узел (промпт) в граф с возможностью указания начальной информации.\n",
        "     - `add_edge`: Добавляет связь (ребро) между двумя узлами в графе.\n",
        "     - `update_node_info`: Обновляет информацию о существующем узле.\n",
        "     - `get_related_nodes`: Возвращает набор связанных узлов на заданную глубину.\n",
        "     - `get_best_nodes`: Возвращает список из n лучших узлов, отсортированных по качеству и частоте использования.\n",
        "     - `add_path_score`: Добавляет оценку качества для пройденного пути в графе.\n",
        "     - `get_paths`: Возвращает все сохраненные пути с их оценками.\n",
        "     - `visualize_graph`: Визуализирует граф с помощью NetworkX и Matplotlib.\n",
        "     - `visualize_paths`: Выводит на экран информацию о всех сохраненных путях.\n",
        "\n",
        "**2. `GoT` (наследуется от `UCB`):**\n",
        "\n",
        "   - **Атрибуты:**\n",
        "     - `thought_graph`: Экземпляр класса `ThoughtGraph`.\n",
        "     - `current_path`: Список, хранящий текущий путь в графе.\n",
        "\n",
        "   - **Методы:**\n",
        "     - `__init__`: Инициализирует класс, вызывая конструктор родительского класса и создавая экземпляр `ThoughtGraph`.\n",
        "     - `optimize`: Основной метод оптимизации, использующий `ThoughtGraph` для отслеживания прогресса и генерации кандидатов на основе прошлого опыта.\n",
        "     - `generate_candidates`: Переопределенный метод, добавляющий кандидатов из `ThoughtGraph`.\n",
        "     - `generate_candidate_from_past_experience`: Генерирует кандидата на основе информации из `ThoughtGraph`.\n",
        "     - `inspect_and_improve_prompt`: Использует LLM для анализа и улучшения текущего лучшего промпта.\n",
        "\n",
        "**Механизм работы:**\n",
        "\n",
        "1. **Инициализация:** Создается экземпляр `GoT` с начальным промптом, параметрами оптимизации и критериями оценки.\n",
        "2. **Оптимизация:**\n",
        "   - На каждой итерации генерируются кандидаты с использованием методов Монте-Карло, градиентного спуска и анализа `ThoughtGraph`.\n",
        "   - Кандидаты оцениваются с помощью заданных критериев.\n",
        "   - Лучший кандидат выбирается с помощью алгоритма UCB, анализируется и улучшается с помощью LLM.\n",
        "   - Информация о кандидатах и их оценках сохраняется в `ThoughtGraph`.\n",
        "3. **Визуализация:** После каждой итерации граф `ThoughtGraph` визуализируется для отображения связей между промптами и их качеством.\n",
        "\n",
        "**Преимущества модифицированного кода:**\n",
        "\n",
        "- **Использование прошлого опыта:** `ThoughtGraph` позволяет использовать информацию из предыдущих итераций для генерации более качественных кандидатов.\n",
        "- **Анализ и улучшение промпта:** LLM используется для анализа и предложения улучшений для текущего лучшего промпта, что повышает эффективность оптимизации.\n",
        "- **Визуализация:** Визуализация `ThoughtGraph` помогает понять процесс оптимизации и связи между различными промптами."
      ]
    },
    {
      "cell_type": "code",
      "execution_count": 99,
      "metadata": {},
      "outputs": [],
      "source": [
        "class ThoughtGraph:\n",
        "    \"\"\"\n",
        "    Description:\n",
        "        Класс для управления графом мыслей, который отслеживает связи между различными промптами и их характеристиками,\n",
        "        такими как качество, частота использования и контекст. Этот класс позволяет добавлять узлы и ребра, обновлять информацию \n",
        "        об узлах, а также извлекать связанные и лучшие узлы для дальнейшего использования.\n",
        "    \"\"\"\n",
        "\n",
        "    def __init__(self):\n",
        "        \"\"\"\n",
        "        Description:\n",
        "            Инициализация графа мыслей. Создает пустой граф и словарь для хранения информации о каждом узле.\n",
        "        \"\"\"\n",
        "        self.graph = {}       # Словарь для хранения связей между узлами (промптами)\n",
        "        self.node_info = {}   # Словарь для хранения информации о каждом узле\n",
        "        self.path_scores = {} # Словарь для хранения оценок путей в графе\n",
        "        self.paths = []       # Список для хранения всех пройденных путей\n",
        "\n",
        "    def add_node(self, node, info=None):\n",
        "        \"\"\"\n",
        "        Description:\n",
        "            Добавляет новый узел в граф. Если узел уже существует, он не будет добавлен повторно.\n",
        "\n",
        "        Args:\n",
        "            node: Узел (промпт), который необходимо добавить в граф.\n",
        "            info: Словарь с информацией об узле, такой как качество, частота использования и контекст. \n",
        "                Если информация не предоставлена, используется значение по умолчанию.\n",
        "        \"\"\"\n",
        "        if node not in self.graph:\n",
        "            default_info = {\n",
        "                \"quality\": 0,\n",
        "                \"usage_count\": 0,\n",
        "                \"context\": \"\",\n",
        "                \"parent\": None,\n",
        "                \"response\": \"\"\n",
        "            }\n",
        "            # Объединяем переданную информацию с дефолтными значениями\n",
        "            combined_info = {**default_info, **(info or {})}\n",
        "            self.graph[node] = []\n",
        "            self.node_info[node] = combined_info\n",
        "\n",
        "    def add_edge(self, from_node, to_node):\n",
        "        \"\"\"\n",
        "        Description:\n",
        "            Добавляет ребро между двумя узлами в графе, представляя связь между промптами.\n",
        "\n",
        "        Args:\n",
        "            from_node: Узел-источник, от которого идет связь.\n",
        "            to_node: Узел-приемник, к которому идет связь.\n",
        "\n",
        "        \"\"\"\n",
        "        if from_node in self.graph and to_node in self.graph:\n",
        "            self.graph[from_node].append(to_node)  # Добавление связи (ребра) между узлами\n",
        "\n",
        "    def update_node_info(self, node, quality=None, context=None, response=None):\n",
        "        \"\"\"\n",
        "        Description:\n",
        "            Обновляет информацию о конкретном узле в графе, включая его качество, контекст и частоту использования.\n",
        "\n",
        "        Args:\n",
        "            node: Узел, информацию о котором необходимо обновить.\n",
        "            quality: Новое значение качества узла (если обновляется).\n",
        "            context: Новый контекст узла (если обновляется).\n",
        "            response: Ответ LLM на данный промпт (если обновляется).\n",
        "\n",
        "        \"\"\"\n",
        "        if node in self.node_info:\n",
        "            if quality is not None:\n",
        "                self.node_info[node][\"quality\"] = quality   # Обновление качества узла\n",
        "            if context is not None:\n",
        "                self.node_info[node][\"context\"] = context   # Обновление контекста узла\n",
        "            if response is not None:\n",
        "                self.node_info[node][\"response\"] = response # Обновление ответа LLM\n",
        "            self.node_info[node][\"usage_count\"] += 1        # Увеличение счетчика использования узла\n",
        "\n",
        "    def get_related_nodes(self, node, depth=1):\n",
        "        \"\"\"\n",
        "        Description:\n",
        "            Возвращает набор узлов, связанных с указанным узлом на заданную глубину. Используется для поиска \n",
        "            связанных промптов в графе.\n",
        "\n",
        "        Args:\n",
        "            node: Узел, для которого необходимо найти связанные узлы.\n",
        "            depth: Глубина поиска связанных узлов. По умолчанию равна 1.\n",
        "\n",
        "        Returns:\n",
        "            Set: Набор связанных узлов на заданной глубине.\n",
        "\n",
        "        \"\"\"\n",
        "        related = set()\n",
        "        if node in self.graph:\n",
        "            related.update(self.graph[node])                                       # Добавление прямых связей узла\n",
        "            if depth > 1:\n",
        "                for related_node in self.graph[node]:\n",
        "                    related.update(self.get_related_nodes(related_node, depth-1))  # Рекурсивный поиск связанных узлов на глубину\n",
        "        return related\n",
        "\n",
        "    def get_best_nodes(self, n=5):\n",
        "        \"\"\"\n",
        "        Description:\n",
        "            Возвращает список из n лучших узлов в графе, отсортированных по качеству и частоте использования.\n",
        "\n",
        "        Args:\n",
        "            n: Количество лучших узлов, которые нужно вернуть. По умолчанию возвращает 5 узлов.\n",
        "\n",
        "        Returns:\n",
        "            List: Список из n узлов с наивысшими значениями качества, умноженного на частоту использования.\n",
        "\n",
        "        \"\"\"\n",
        "        return sorted(self.node_info.items(), key=lambda x: x[1][\"quality\"] * x[1][\"usage_count\"], reverse=True)[:n]  # Сортировка узлов по их \"важности\"\n",
        "    \n",
        "    def add_path_score(self, path, score):\n",
        "        \"\"\"\n",
        "        Description:\n",
        "            Добавляет оценку качества для пройденного пути в графе и сохраняет сам путь.\n",
        "\n",
        "        Args:\n",
        "            path: Список узлов, представляющих путь в графе.\n",
        "            score: Оценка качества для данного пути.\n",
        "        \"\"\"\n",
        "        self.path_scores[tuple(path)] = score\n",
        "        self.paths.append((path, score))\n",
        "\n",
        "    def get_paths(self):\n",
        "        \"\"\"\n",
        "        Description:\n",
        "            Возвращает все сохраненные пути с их оценками.\n",
        "\n",
        "        Returns:\n",
        "            List: Список путей и их оценок.\n",
        "        \"\"\"\n",
        "        return self.paths\n",
        "\n",
        "    def visualize_graph(self):\n",
        "        \"\"\"\n",
        "        Description:\n",
        "            Визуализирует граф узлов и их связей с использованием библиотеки networkx и matplotlib.\n",
        "        \"\"\"\n",
        "        G = nx.DiGraph()  # Создание направленного графа\n",
        "\n",
        "        # Добавление узлов и их информации в граф\n",
        "        for node, info in self.node_info.items():\n",
        "            quality = round(info.get('quality', 0), 3)\n",
        "            G.add_node(node, label=quality, quality=quality)\n",
        "\n",
        "        # Добавление ребер (связей) в граф\n",
        "        for from_node, to_nodes in self.graph.items():\n",
        "            for to_node in to_nodes:\n",
        "                G.add_edge(from_node, to_node)\n",
        "\n",
        "        # Вычисление позиции узлов для визуализации\n",
        "        pos = nx.spring_layout(G)\n",
        "        plt.figure(figsize=(12, 8))\n",
        "\n",
        "        # Визуализация узлов\n",
        "        node_sizes = [1000 * (G.nodes[node]['quality'] + 1) for node in G.nodes()]\n",
        "        nx.draw_networkx_nodes(G, pos, node_size=node_sizes, node_color='skyblue', alpha=0.7)\n",
        "\n",
        "        # Визуализация ребер\n",
        "        nx.draw_networkx_edges(G, pos, arrowstyle='->', arrowsize=10, edge_color='gray')\n",
        "\n",
        "        # Визуализация меток узлов (только оценки)\n",
        "        labels = {node: f\"{G.nodes[node]['quality']:.3f}\" for node in G.nodes()}\n",
        "        nx.draw_networkx_labels(G, pos, labels=labels, font_size=12)\n",
        "\n",
        "        plt.title('Thought Graph Visualization')\n",
        "        plt.show()\n",
        "\n",
        "    def visualize_paths(self):\n",
        "        \"\"\"\n",
        "        Description:\n",
        "            Визуализирует все сохраненные пути с их оценками.\n",
        "        \"\"\"\n",
        "        if not self.paths:\n",
        "            print(\"Нет сохраненных путей для визуализации.\")\n",
        "            return\n",
        "\n",
        "        for path, score in self.paths:\n",
        "            print(f\"Path: {' -> '.join(path)} | Score: {score}\")\n",
        "\n",
        "class GoT(UCB):\n",
        "    \"\"\"\n",
        "    Description:\n",
        "        Класс, наследующий логику из версии B класса PromptOptimizer и добавляющий новую функциональность.\n",
        "    \"\"\"\n",
        "    def __init__(self,\n",
        "                 llm: BaseAgent,\n",
        "                 initial_prompt: str,\n",
        "                 num_iterations: int = 1,\n",
        "                 beam_size: int = 4,\n",
        "                 steps_per_gradient: int = 2,\n",
        "                 evaluation_criteria: str = '{}'):\n",
        "        \"\"\"\n",
        "        Description:\n",
        "            Инициализация класса EnhancedPromptOptimizer.\n",
        "\n",
        "        Args:\n",
        "            llm: Экземпляр класса BaseAgent для взаимодействия с LLM.\n",
        "            initial_prompt: Исходный промпт для оптимизации.\n",
        "            num_iterations: Количество итераций оптимизации.\n",
        "            beam_size: Размер выборки для поиска лучшего кандидата.\n",
        "            steps_per_gradient: Количество шагов на градиент.\n",
        "            evaluation_criteria: Конфигурация для оценки ответов модели в формате JSON.\n",
        "        \"\"\"\n",
        "        super().__init__(llm, initial_prompt, num_iterations, beam_size, steps_per_gradient, evaluation_criteria)\n",
        "        self.thought_graph = ThoughtGraph()\n",
        "        self.current_path = [] # Список для отслеживания текущего пути в графе\n",
        "\n",
        "    def optimize(self) -> str:\n",
        "        \"\"\"\n",
        "        Description:\n",
        "            Основной метод оптимизации промпта с использованием расширенной логики.\n",
        "        \"\"\"\n",
        "        # Добавляем начальный промпт в граф\n",
        "        self.thought_graph.add_node(self.prompt, {\"quality\": 0, \"context\": \"Initial prompt\"})\n",
        "        self.current_path = [self.prompt]\n",
        "\n",
        "        for i in range(self.num_iterations):\n",
        "            print(f\"[INFO] === Iteration {i+1}/{self.num_iterations} ===\")\n",
        "            \n",
        "            # Генерируем кандидатов на основе текущего промпта и прошлого опыта\n",
        "            candidates = self.generate_candidates()\n",
        "            \n",
        "            # Оцениваем каждого кандидата\n",
        "            candidate_scores = self.evaluate_candidates(candidates, self.evaluation_criteria)\n",
        "            \n",
        "            # Проходим по каждому кандидату, чтобы сохранить его в графе\n",
        "            for idx, candidate in enumerate(candidates):\n",
        "                score = candidate_scores[idx]\n",
        "                self.thought_graph.add_node(candidate, {\"quality\": score, \"context\": f\"Candidate in iteration {i+1}\", \"parent\": self.prompt})\n",
        "                self.thought_graph.add_edge(self.prompt, candidate)\n",
        "\n",
        "            # Выбираем лучшего кандидата по результатам оценки\n",
        "            best_candidate_idx = self.select_best_candidate(candidate_scores)\n",
        "            \n",
        "            # Обновляем текущий промпт лучшим кандидатом\n",
        "            previous_prompt = self.prompt\n",
        "            self.prompt = candidates[best_candidate_idx]\n",
        "            best_score = candidate_scores[best_candidate_idx]\n",
        "            \n",
        "            print(f\"[INFO] Best prompt at iteration {i+1}: {self.prompt}\")\n",
        "            \n",
        "            # Проверка и улучшение лучшего промпта\n",
        "            self.prompt = self.inspect_and_improve_prompt(self.prompt)\n",
        "            \n",
        "            # Добавляем/обновляем лучший промпт в граф мыслей\n",
        "            self.thought_graph.add_node(self.prompt, {\"quality\": best_score, \"context\": f\"Improved in iteration {i+1}\", \"parent\": previous_prompt})\n",
        "            self.thought_graph.add_edge(previous_prompt, self.prompt)\n",
        "\n",
        "            # Обновляем текущий путь и сохраняем его\n",
        "            self.current_path.append(self.prompt)\n",
        "            self.thought_graph.add_path_score(self.current_path, best_score)\n",
        "\n",
        "            # Обновляем информацию о связанных узлах\n",
        "            related_nodes = self.thought_graph.get_related_nodes(self.prompt)\n",
        "            for node in related_nodes:\n",
        "                self.thought_graph.update_node_info(node, context=f\"Related to iteration {i+1}\")\n",
        "            \n",
        "            # Визуализируем граф\n",
        "            self.thought_graph.visualize_graph()\n",
        "\n",
        "        return self.prompt\n",
        "\n",
        "    def generate_candidates(self) -> list:\n",
        "        \"\"\"\n",
        "        Description:\n",
        "            Генерация списка кандидатов на основе расширенной логики.\n",
        "        \"\"\"\n",
        "        candidates = super().generate_candidates()\n",
        "        \n",
        "        # Добавляем кандидатов из лучших узлов графа мыслей\n",
        "        best_nodes = self.thought_graph.get_best_nodes(n=self.beam_size)\n",
        "        for node, info in best_nodes:\n",
        "            candidates.append(self.generate_candidate_from_past_experience(node, info))\n",
        "        \n",
        "        return candidates\n",
        "    \n",
        "    def generate_candidate_from_past_experience(self, past_prompt, info):\n",
        "        \"\"\"\n",
        "        Description:\n",
        "            Генерация кандидата на основе прошлого опыта.\n",
        "        \"\"\"\n",
        "        prompt_for_llm = f\"\"\"\n",
        "        <task>\n",
        "            <past_experience>\n",
        "                Используя предыдущий опыт создания промпта:\n",
        "                <prompt>{past_prompt}</prompt>\n",
        "                <context>{info['context']}</context>\n",
        "                <quality>{info['quality']}</quality>\n",
        "            </past_experience>\n",
        "\n",
        "            <current_prompt>\n",
        "                Текущий промпт:\n",
        "                <prompt>{self.prompt}</prompt>\n",
        "            </current_prompt>\n",
        "\n",
        "            <instructions>\n",
        "                1. Разбейте задачу на последовательные шаги.\n",
        "                2. Проанализируйте предыдущий опыт и текущий контекст.\n",
        "                3. Сформируйте новый промпт, объединив лучшие элементы из предыдущего опыта и текущего контекста.\n",
        "                4. Стремитесь к максимальной ясности и точности в формулировке задачи.\n",
        "            </instructions>\n",
        "\n",
        "            <output>\n",
        "                Сгенерируйте улучшенный промпт, который будет адаптирован к текущему контексту и задачам.\n",
        "            </output>\n",
        "        </task>\n",
        "        \"\"\"\n",
        "        return self.llm(messages=[{\"role\": \"user\", \"content\": prompt_for_llm}])\n",
        "\n",
        "    def inspect_and_improve_prompt(self, prompt):\n",
        "        \"\"\"\n",
        "        Description:\n",
        "            Проверка и улучшение текущего промпта.\n",
        "        \"\"\"\n",
        "        inspection_prompt = f\"\"\"\n",
        "        Проанализируйте следующий промпт и предложите улучшения:\n",
        "        {prompt}\n",
        "\n",
        "        Оцените его по следующим критериям:\n",
        "        1. Ясность и конкретность\n",
        "        2. Релевантность контексту\n",
        "        3. Потенциал для генерации качественного ответа\n",
        "\n",
        "        Предложите конкретные улучшения для каждого критерия.\n",
        "        \"\"\"\n",
        "        \n",
        "        inspection_result = self.llm(messages=[{\"role\": \"user\", \"content\": inspection_prompt}])\n",
        "        \n",
        "        improvement_prompt = f\"\"\"\n",
        "        <prompt>\n",
        "            <task>\n",
        "                <description>На основе следующего анализа и предложений по улучшению:</description>\n",
        "                <analysis>{inspection_result}</analysis>\n",
        "                <goal>Улучшите исходный промпт:</goal>\n",
        "                <original_prompt>{prompt}</original_prompt>\n",
        "            </task>\n",
        "            <output>\n",
        "                <instruction>Предоставьте улучшенную версию промпта, учитывая предложенные улучшения. Используйте четкие и структурированные формулировки, которые соответствуют целям задачи.</instruction>\n",
        "            </output>\n",
        "        </prompt>\n",
        "        \"\"\"\n",
        "        \n",
        "        improved_prompt = self.llm(messages=[{\"role\": \"user\", \"content\": improvement_prompt}])\n",
        "        \n",
        "        return improved_prompt"
      ]
    },
    {
      "cell_type": "code",
      "execution_count": 100,
      "metadata": {},
      "outputs": [
        {
          "name": "stderr",
          "output_type": "stream",
          "text": [
            "INFO:root:WORKING_DIRECTORY: /Users/cyberrunner/Documents/Code/me/ML_projects/MouseGPT/temp\n",
            "INFO:root:Attempting to read file from path: /Users/cyberrunner/Documents/Code/me/ML_projects/MouseGPT/temp/prompts/prompt_engineering.txt\n"
          ]
        },
        {
          "name": "stdout",
          "output_type": "stream",
          "text": [
            "[INFO] === Iteration 1/1 ===\n"
          ]
        },
        {
          "name": "stderr",
          "output_type": "stream",
          "text": [
            "INFO:httpx:HTTP Request: POST https://api.openai.com/v1/chat/completions \"HTTP/1.1 200 OK\"\n",
            "INFO:httpx:HTTP Request: POST https://api.openai.com/v1/chat/completions \"HTTP/1.1 200 OK\"\n",
            "INFO:httpx:HTTP Request: POST https://api.openai.com/v1/chat/completions \"HTTP/1.1 200 OK\"\n",
            "INFO:httpx:HTTP Request: POST https://api.openai.com/v1/chat/completions \"HTTP/1.1 200 OK\"\n",
            "INFO:httpx:HTTP Request: POST https://api.openai.com/v1/chat/completions \"HTTP/1.1 200 OK\"\n",
            "INFO:httpx:HTTP Request: POST https://api.openai.com/v1/chat/completions \"HTTP/1.1 200 OK\"\n",
            "INFO:httpx:HTTP Request: POST https://api.openai.com/v1/chat/completions \"HTTP/1.1 200 OK\"\n",
            "INFO:httpx:HTTP Request: POST https://api.openai.com/v1/chat/completions \"HTTP/1.1 200 OK\"\n",
            "INFO:httpx:HTTP Request: POST https://api.openai.com/v1/chat/completions \"HTTP/1.1 200 OK\"\n",
            "INFO:httpx:HTTP Request: POST https://api.openai.com/v1/chat/completions \"HTTP/1.1 200 OK\"\n",
            "INFO:httpx:HTTP Request: POST https://api.openai.com/v1/chat/completions \"HTTP/1.1 200 OK\"\n"
          ]
        },
        {
          "name": "stdout",
          "output_type": "stream",
          "text": [
            "[INFO] Criterion 'response_format' not met, adding gradient: Убедитесь, что указан правильный формат возвращаемого ответа метода.\n"
          ]
        },
        {
          "name": "stderr",
          "output_type": "stream",
          "text": [
            "INFO:httpx:HTTP Request: POST https://api.openai.com/v1/chat/completions \"HTTP/1.1 200 OK\"\n",
            "INFO:httpx:HTTP Request: POST https://api.openai.com/v1/chat/completions \"HTTP/1.1 200 OK\"\n",
            "INFO:httpx:HTTP Request: POST https://api.openai.com/v1/chat/completions \"HTTP/1.1 200 OK\"\n",
            "INFO:httpx:HTTP Request: POST https://api.openai.com/v1/chat/completions \"HTTP/1.1 200 OK\"\n",
            "INFO:httpx:HTTP Request: POST https://api.openai.com/v1/chat/completions \"HTTP/1.1 200 OK\"\n",
            "INFO:httpx:HTTP Request: POST https://api.openai.com/v1/chat/completions \"HTTP/1.1 200 OK\"\n",
            "INFO:httpx:HTTP Request: POST https://api.openai.com/v1/chat/completions \"HTTP/1.1 200 OK\"\n",
            "INFO:httpx:HTTP Request: POST https://api.openai.com/v1/chat/completions \"HTTP/1.1 200 OK\"\n",
            "INFO:httpx:HTTP Request: POST https://api.openai.com/v1/chat/completions \"HTTP/1.1 200 OK\"\n",
            "INFO:httpx:HTTP Request: POST https://api.openai.com/v1/chat/completions \"HTTP/1.1 200 OK\"\n",
            "INFO:httpx:HTTP Request: POST https://api.openai.com/v1/chat/completions \"HTTP/1.1 200 OK\"\n"
          ]
        },
        {
          "name": "stdout",
          "output_type": "stream",
          "text": [
            "[INFO] Evaluating candidates...\n"
          ]
        },
        {
          "name": "stderr",
          "output_type": "stream",
          "text": [
            "INFO:httpx:HTTP Request: POST https://api.openai.com/v1/chat/completions \"HTTP/1.1 200 OK\"\n",
            "INFO:httpx:HTTP Request: POST https://api.openai.com/v1/chat/completions \"HTTP/1.1 200 OK\"\n"
          ]
        },
        {
          "name": "stdout",
          "output_type": "stream",
          "text": [
            "[DEBUG] Evaluating criterion 'scenario_structure': Met = True, Required = True, Weight = 0.3\n"
          ]
        },
        {
          "name": "stderr",
          "output_type": "stream",
          "text": [
            "INFO:httpx:HTTP Request: POST https://api.openai.com/v1/chat/completions \"HTTP/1.1 200 OK\"\n"
          ]
        },
        {
          "name": "stdout",
          "output_type": "stream",
          "text": [
            "[DEBUG] Evaluating criterion 'validation_rules': Met = True, Required = True, Weight = 0.2\n"
          ]
        },
        {
          "name": "stderr",
          "output_type": "stream",
          "text": [
            "INFO:httpx:HTTP Request: POST https://api.openai.com/v1/chat/completions \"HTTP/1.1 200 OK\"\n"
          ]
        },
        {
          "name": "stdout",
          "output_type": "stream",
          "text": [
            "[DEBUG] Evaluating criterion 'data_sources': Met = False, Required = True, Weight = 0.2\n"
          ]
        },
        {
          "name": "stderr",
          "output_type": "stream",
          "text": [
            "INFO:httpx:HTTP Request: POST https://api.openai.com/v1/chat/completions \"HTTP/1.1 200 OK\"\n"
          ]
        },
        {
          "name": "stdout",
          "output_type": "stream",
          "text": [
            "[DEBUG] Evaluating criterion 'error_handling': Met = True, Required = True, Weight = 0.2\n"
          ]
        },
        {
          "name": "stderr",
          "output_type": "stream",
          "text": [
            "INFO:httpx:HTTP Request: POST https://api.openai.com/v1/chat/completions \"HTTP/1.1 200 OK\"\n"
          ]
        },
        {
          "name": "stdout",
          "output_type": "stream",
          "text": [
            "[DEBUG] Evaluating criterion 'response_format': Met = False, Required = True, Weight = 0.1\n",
            "[INFO] ROUGE scores: {'rouge-1': {'r': 0.14883720930232558, 'p': 0.20915032679738563, 'f': 0.17391303862018562}, 'rouge-2': {'r': 0.034482758620689655, 'p': 0.04132231404958678, 'f': 0.037593980003109935}, 'rouge-l': {'r': 0.14883720930232558, 'p': 0.20915032679738563, 'f': 0.17391303862018562}}\n",
            "[INFO] BLEU score: 4.781499124731169\n",
            "[INFO] Total score for the response: 0.4443456059734995 / 1.4 (Normalized: 0.31738971855249964)\n",
            "=====================================================================================================\n"
          ]
        },
        {
          "name": "stderr",
          "output_type": "stream",
          "text": [
            "INFO:httpx:HTTP Request: POST https://api.openai.com/v1/chat/completions \"HTTP/1.1 200 OK\"\n",
            "INFO:httpx:HTTP Request: POST https://api.openai.com/v1/chat/completions \"HTTP/1.1 200 OK\"\n"
          ]
        },
        {
          "name": "stdout",
          "output_type": "stream",
          "text": [
            "[DEBUG] Evaluating criterion 'scenario_structure': Met = False, Required = True, Weight = 0.3\n"
          ]
        },
        {
          "name": "stderr",
          "output_type": "stream",
          "text": [
            "INFO:httpx:HTTP Request: POST https://api.openai.com/v1/chat/completions \"HTTP/1.1 200 OK\"\n"
          ]
        },
        {
          "name": "stdout",
          "output_type": "stream",
          "text": [
            "[DEBUG] Evaluating criterion 'validation_rules': Met = False, Required = True, Weight = 0.2\n"
          ]
        },
        {
          "name": "stderr",
          "output_type": "stream",
          "text": [
            "INFO:httpx:HTTP Request: POST https://api.openai.com/v1/chat/completions \"HTTP/1.1 200 OK\"\n"
          ]
        },
        {
          "name": "stdout",
          "output_type": "stream",
          "text": [
            "[DEBUG] Evaluating criterion 'data_sources': Met = False, Required = True, Weight = 0.2\n"
          ]
        },
        {
          "name": "stderr",
          "output_type": "stream",
          "text": [
            "INFO:httpx:HTTP Request: POST https://api.openai.com/v1/chat/completions \"HTTP/1.1 200 OK\"\n"
          ]
        },
        {
          "name": "stdout",
          "output_type": "stream",
          "text": [
            "[DEBUG] Evaluating criterion 'error_handling': Met = False, Required = True, Weight = 0.2\n"
          ]
        },
        {
          "name": "stderr",
          "output_type": "stream",
          "text": [
            "INFO:httpx:HTTP Request: POST https://api.openai.com/v1/chat/completions \"HTTP/1.1 200 OK\"\n"
          ]
        },
        {
          "name": "stdout",
          "output_type": "stream",
          "text": [
            "[DEBUG] Evaluating criterion 'response_format': Met = False, Required = True, Weight = 0.1\n",
            "[INFO] ROUGE scores: {'rouge-1': {'r': 0.023255813953488372, 'p': 0.3333333333333333, 'f': 0.04347825965028359}, 'rouge-2': {'r': 0.0, 'p': 0.0, 'f': 0.0}, 'rouge-l': {'r': 0.018604651162790697, 'p': 0.26666666666666666, 'f': 0.034782607476370554}}\n",
            "[INFO] BLEU score: 1.1039687071369371e-08\n",
            "[INFO] Total score for the response: -0.9930434784826464 / 1.4 (Normalized: -0.7093167703447475)\n",
            "=====================================================================================================\n"
          ]
        },
        {
          "name": "stderr",
          "output_type": "stream",
          "text": [
            "INFO:httpx:HTTP Request: POST https://api.openai.com/v1/chat/completions \"HTTP/1.1 200 OK\"\n",
            "INFO:httpx:HTTP Request: POST https://api.openai.com/v1/chat/completions \"HTTP/1.1 200 OK\"\n"
          ]
        },
        {
          "name": "stdout",
          "output_type": "stream",
          "text": [
            "[DEBUG] Evaluating criterion 'scenario_structure': Met = True, Required = True, Weight = 0.3\n"
          ]
        },
        {
          "name": "stderr",
          "output_type": "stream",
          "text": [
            "INFO:httpx:HTTP Request: POST https://api.openai.com/v1/chat/completions \"HTTP/1.1 200 OK\"\n"
          ]
        },
        {
          "name": "stdout",
          "output_type": "stream",
          "text": [
            "[DEBUG] Evaluating criterion 'validation_rules': Met = True, Required = True, Weight = 0.2\n"
          ]
        },
        {
          "name": "stderr",
          "output_type": "stream",
          "text": [
            "INFO:httpx:HTTP Request: POST https://api.openai.com/v1/chat/completions \"HTTP/1.1 200 OK\"\n"
          ]
        },
        {
          "name": "stdout",
          "output_type": "stream",
          "text": [
            "[DEBUG] Evaluating criterion 'data_sources': Met = True, Required = True, Weight = 0.2\n"
          ]
        },
        {
          "name": "stderr",
          "output_type": "stream",
          "text": [
            "INFO:httpx:HTTP Request: POST https://api.openai.com/v1/chat/completions \"HTTP/1.1 200 OK\"\n"
          ]
        },
        {
          "name": "stdout",
          "output_type": "stream",
          "text": [
            "[DEBUG] Evaluating criterion 'error_handling': Met = True, Required = True, Weight = 0.2\n"
          ]
        },
        {
          "name": "stderr",
          "output_type": "stream",
          "text": [
            "INFO:httpx:HTTP Request: POST https://api.openai.com/v1/chat/completions \"HTTP/1.1 200 OK\"\n"
          ]
        },
        {
          "name": "stdout",
          "output_type": "stream",
          "text": [
            "[DEBUG] Evaluating criterion 'response_format': Met = True, Required = True, Weight = 0.1\n",
            "[INFO] ROUGE scores: {'rouge-1': {'r': 0.19534883720930232, 'p': 0.2198952879581152, 'f': 0.20689654674160998}, 'rouge-2': {'r': 0.027586206896551724, 'p': 0.028268551236749116, 'f': 0.027923206170031564}, 'rouge-l': {'r': 0.18604651162790697, 'p': 0.2094240837696335, 'f': 0.19704432999284152}}\n",
            "[INFO] BLEU score: 5.678580459139113\n",
            "[INFO] Total score for the response: 1.0507660269168466 / 1.4 (Normalized: 0.750547162083462)\n",
            "=====================================================================================================\n"
          ]
        },
        {
          "name": "stderr",
          "output_type": "stream",
          "text": [
            "INFO:httpx:HTTP Request: POST https://api.openai.com/v1/chat/completions \"HTTP/1.1 200 OK\"\n",
            "INFO:httpx:HTTP Request: POST https://api.openai.com/v1/chat/completions \"HTTP/1.1 200 OK\"\n"
          ]
        },
        {
          "name": "stdout",
          "output_type": "stream",
          "text": [
            "[DEBUG] Evaluating criterion 'scenario_structure': Met = False, Required = True, Weight = 0.3\n"
          ]
        },
        {
          "name": "stderr",
          "output_type": "stream",
          "text": [
            "INFO:httpx:HTTP Request: POST https://api.openai.com/v1/chat/completions \"HTTP/1.1 200 OK\"\n"
          ]
        },
        {
          "name": "stdout",
          "output_type": "stream",
          "text": [
            "[DEBUG] Evaluating criterion 'validation_rules': Met = False, Required = True, Weight = 0.2\n"
          ]
        },
        {
          "name": "stderr",
          "output_type": "stream",
          "text": [
            "INFO:httpx:HTTP Request: POST https://api.openai.com/v1/chat/completions \"HTTP/1.1 200 OK\"\n"
          ]
        },
        {
          "name": "stdout",
          "output_type": "stream",
          "text": [
            "[DEBUG] Evaluating criterion 'data_sources': Met = False, Required = True, Weight = 0.2\n"
          ]
        },
        {
          "name": "stderr",
          "output_type": "stream",
          "text": [
            "INFO:httpx:HTTP Request: POST https://api.openai.com/v1/chat/completions \"HTTP/1.1 200 OK\"\n"
          ]
        },
        {
          "name": "stdout",
          "output_type": "stream",
          "text": [
            "[DEBUG] Evaluating criterion 'error_handling': Met = False, Required = True, Weight = 0.2\n"
          ]
        },
        {
          "name": "stderr",
          "output_type": "stream",
          "text": [
            "INFO:httpx:HTTP Request: POST https://api.openai.com/v1/chat/completions \"HTTP/1.1 200 OK\"\n"
          ]
        },
        {
          "name": "stdout",
          "output_type": "stream",
          "text": [
            "[DEBUG] Evaluating criterion 'response_format': Met = False, Required = True, Weight = 0.1\n",
            "[INFO] ROUGE scores: {'rouge-1': {'r': 0.05116279069767442, 'p': 0.3793103448275862, 'f': 0.09016393233169852}, 'rouge-2': {'r': 0.013793103448275862, 'p': 0.13793103448275862, 'f': 0.02507836825306366}, 'rouge-l': {'r': 0.05116279069767442, 'p': 0.3793103448275862, 'f': 0.09016393233169852}}\n",
            "[INFO] BLEU score: 0.0003647713644430999\n",
            "[INFO] Total score for the response: -0.9819664839909313 / 1.4 (Normalized: -0.7014046314220939)\n",
            "=====================================================================================================\n"
          ]
        },
        {
          "name": "stderr",
          "output_type": "stream",
          "text": [
            "INFO:httpx:HTTP Request: POST https://api.openai.com/v1/chat/completions \"HTTP/1.1 200 OK\"\n",
            "INFO:httpx:HTTP Request: POST https://api.openai.com/v1/chat/completions \"HTTP/1.1 200 OK\"\n"
          ]
        },
        {
          "name": "stdout",
          "output_type": "stream",
          "text": [
            "[DEBUG] Evaluating criterion 'scenario_structure': Met = True, Required = True, Weight = 0.3\n"
          ]
        },
        {
          "name": "stderr",
          "output_type": "stream",
          "text": [
            "INFO:httpx:HTTP Request: POST https://api.openai.com/v1/chat/completions \"HTTP/1.1 200 OK\"\n"
          ]
        },
        {
          "name": "stdout",
          "output_type": "stream",
          "text": [
            "[DEBUG] Evaluating criterion 'validation_rules': Met = True, Required = True, Weight = 0.2\n"
          ]
        },
        {
          "name": "stderr",
          "output_type": "stream",
          "text": [
            "INFO:httpx:HTTP Request: POST https://api.openai.com/v1/chat/completions \"HTTP/1.1 200 OK\"\n"
          ]
        },
        {
          "name": "stdout",
          "output_type": "stream",
          "text": [
            "[DEBUG] Evaluating criterion 'data_sources': Met = True, Required = True, Weight = 0.2\n"
          ]
        },
        {
          "name": "stderr",
          "output_type": "stream",
          "text": [
            "INFO:httpx:HTTP Request: POST https://api.openai.com/v1/chat/completions \"HTTP/1.1 200 OK\"\n"
          ]
        },
        {
          "name": "stdout",
          "output_type": "stream",
          "text": [
            "[DEBUG] Evaluating criterion 'error_handling': Met = True, Required = True, Weight = 0.2\n"
          ]
        },
        {
          "name": "stderr",
          "output_type": "stream",
          "text": [
            "INFO:httpx:HTTP Request: POST https://api.openai.com/v1/chat/completions \"HTTP/1.1 200 OK\"\n"
          ]
        },
        {
          "name": "stdout",
          "output_type": "stream",
          "text": [
            "[DEBUG] Evaluating criterion 'response_format': Met = True, Required = True, Weight = 0.1\n",
            "[INFO] ROUGE scores: {'rouge-1': {'r': 0.2372093023255814, 'p': 0.20901639344262296, 'f': 0.22222221724218144}, 'rouge-2': {'r': 0.03793103448275862, 'p': 0.03089887640449438, 'f': 0.03405572260637095}, 'rouge-l': {'r': 0.21395348837209302, 'p': 0.1885245901639344, 'f': 0.20043572486745373}}\n",
            "[INFO] BLEU score: 5.013708300922956\n",
            "[INFO] Total score for the response: 1.0501145615753367 / 1.4 (Normalized: 0.7500818296966691)\n",
            "=====================================================================================================\n"
          ]
        },
        {
          "name": "stderr",
          "output_type": "stream",
          "text": [
            "INFO:httpx:HTTP Request: POST https://api.openai.com/v1/chat/completions \"HTTP/1.1 200 OK\"\n",
            "INFO:httpx:HTTP Request: POST https://api.openai.com/v1/chat/completions \"HTTP/1.1 200 OK\"\n"
          ]
        },
        {
          "name": "stdout",
          "output_type": "stream",
          "text": [
            "[DEBUG] Evaluating criterion 'scenario_structure': Met = True, Required = True, Weight = 0.3\n"
          ]
        },
        {
          "name": "stderr",
          "output_type": "stream",
          "text": [
            "INFO:httpx:HTTP Request: POST https://api.openai.com/v1/chat/completions \"HTTP/1.1 200 OK\"\n"
          ]
        },
        {
          "name": "stdout",
          "output_type": "stream",
          "text": [
            "[DEBUG] Evaluating criterion 'validation_rules': Met = True, Required = True, Weight = 0.2\n"
          ]
        },
        {
          "name": "stderr",
          "output_type": "stream",
          "text": [
            "INFO:httpx:HTTP Request: POST https://api.openai.com/v1/chat/completions \"HTTP/1.1 200 OK\"\n"
          ]
        },
        {
          "name": "stdout",
          "output_type": "stream",
          "text": [
            "[DEBUG] Evaluating criterion 'data_sources': Met = True, Required = True, Weight = 0.2\n"
          ]
        },
        {
          "name": "stderr",
          "output_type": "stream",
          "text": [
            "INFO:httpx:HTTP Request: POST https://api.openai.com/v1/chat/completions \"HTTP/1.1 200 OK\"\n"
          ]
        },
        {
          "name": "stdout",
          "output_type": "stream",
          "text": [
            "[DEBUG] Evaluating criterion 'error_handling': Met = True, Required = True, Weight = 0.2\n"
          ]
        },
        {
          "name": "stderr",
          "output_type": "stream",
          "text": [
            "INFO:httpx:HTTP Request: POST https://api.openai.com/v1/chat/completions \"HTTP/1.1 200 OK\"\n"
          ]
        },
        {
          "name": "stdout",
          "output_type": "stream",
          "text": [
            "[DEBUG] Evaluating criterion 'response_format': Met = True, Required = True, Weight = 0.1\n",
            "[INFO] ROUGE scores: {'rouge-1': {'r': 0.9488372093023256, 'p': 0.6126126126126126, 'f': 0.7445255426770873}, 'rouge-2': {'r': 0.9310344827586207, 'p': 0.536779324055666, 'f': 0.6809583812371492}, 'rouge-l': {'r': 0.9488372093023256, 'p': 0.6126126126126126, 'f': 0.7445255426770873}}\n",
            "[INFO] BLEU score: 40.98834937172545\n",
            "[INFO] Total score for the response: 1.2308818072788683 / 1.4 (Normalized: 0.8792012909134774)\n",
            "=====================================================================================================\n"
          ]
        },
        {
          "name": "stderr",
          "output_type": "stream",
          "text": [
            "INFO:httpx:HTTP Request: POST https://api.openai.com/v1/chat/completions \"HTTP/1.1 200 OK\"\n",
            "INFO:httpx:HTTP Request: POST https://api.openai.com/v1/chat/completions \"HTTP/1.1 200 OK\"\n"
          ]
        },
        {
          "name": "stdout",
          "output_type": "stream",
          "text": [
            "[DEBUG] Evaluating criterion 'scenario_structure': Met = True, Required = True, Weight = 0.3\n"
          ]
        },
        {
          "name": "stderr",
          "output_type": "stream",
          "text": [
            "INFO:httpx:HTTP Request: POST https://api.openai.com/v1/chat/completions \"HTTP/1.1 200 OK\"\n"
          ]
        },
        {
          "name": "stdout",
          "output_type": "stream",
          "text": [
            "[DEBUG] Evaluating criterion 'validation_rules': Met = True, Required = True, Weight = 0.2\n"
          ]
        },
        {
          "name": "stderr",
          "output_type": "stream",
          "text": [
            "INFO:httpx:HTTP Request: POST https://api.openai.com/v1/chat/completions \"HTTP/1.1 200 OK\"\n"
          ]
        },
        {
          "name": "stdout",
          "output_type": "stream",
          "text": [
            "[DEBUG] Evaluating criterion 'data_sources': Met = False, Required = True, Weight = 0.2\n"
          ]
        },
        {
          "name": "stderr",
          "output_type": "stream",
          "text": [
            "INFO:httpx:HTTP Request: POST https://api.openai.com/v1/chat/completions \"HTTP/1.1 200 OK\"\n"
          ]
        },
        {
          "name": "stdout",
          "output_type": "stream",
          "text": [
            "[DEBUG] Evaluating criterion 'error_handling': Met = True, Required = True, Weight = 0.2\n"
          ]
        },
        {
          "name": "stderr",
          "output_type": "stream",
          "text": [
            "INFO:httpx:HTTP Request: POST https://api.openai.com/v1/chat/completions \"HTTP/1.1 200 OK\"\n"
          ]
        },
        {
          "name": "stdout",
          "output_type": "stream",
          "text": [
            "[DEBUG] Evaluating criterion 'response_format': Met = True, Required = True, Weight = 0.1\n",
            "[INFO] ROUGE scores: {'rouge-1': {'r': 0.3302325581395349, 'p': 0.46710526315789475, 'f': 0.38692097607376996}, 'rouge-2': {'r': 0.14482758620689656, 'p': 0.2153846153846154, 'f': 0.17319587148049753}, 'rouge-l': {'r': 0.32558139534883723, 'p': 0.4605263157894737, 'f': 0.38147138479311604}}\n",
            "[INFO] BLEU score: 17.773755435784935\n",
            "[INFO] Total score for the response: 0.711841787830193 / 1.4 (Normalized: 0.5084584198787093)\n",
            "=====================================================================================================\n"
          ]
        },
        {
          "name": "stderr",
          "output_type": "stream",
          "text": [
            "INFO:httpx:HTTP Request: POST https://api.openai.com/v1/chat/completions \"HTTP/1.1 200 OK\"\n",
            "INFO:httpx:HTTP Request: POST https://api.openai.com/v1/chat/completions \"HTTP/1.1 200 OK\"\n"
          ]
        },
        {
          "name": "stdout",
          "output_type": "stream",
          "text": [
            "[DEBUG] Evaluating criterion 'scenario_structure': Met = False, Required = True, Weight = 0.3\n"
          ]
        },
        {
          "name": "stderr",
          "output_type": "stream",
          "text": [
            "INFO:httpx:HTTP Request: POST https://api.openai.com/v1/chat/completions \"HTTP/1.1 200 OK\"\n"
          ]
        },
        {
          "name": "stdout",
          "output_type": "stream",
          "text": [
            "[DEBUG] Evaluating criterion 'validation_rules': Met = False, Required = True, Weight = 0.2\n"
          ]
        },
        {
          "name": "stderr",
          "output_type": "stream",
          "text": [
            "INFO:httpx:HTTP Request: POST https://api.openai.com/v1/chat/completions \"HTTP/1.1 200 OK\"\n"
          ]
        },
        {
          "name": "stdout",
          "output_type": "stream",
          "text": [
            "[DEBUG] Evaluating criterion 'data_sources': Met = False, Required = True, Weight = 0.2\n"
          ]
        },
        {
          "name": "stderr",
          "output_type": "stream",
          "text": [
            "INFO:httpx:HTTP Request: POST https://api.openai.com/v1/chat/completions \"HTTP/1.1 200 OK\"\n"
          ]
        },
        {
          "name": "stdout",
          "output_type": "stream",
          "text": [
            "[DEBUG] Evaluating criterion 'error_handling': Met = True, Required = True, Weight = 0.2\n"
          ]
        },
        {
          "name": "stderr",
          "output_type": "stream",
          "text": [
            "INFO:httpx:HTTP Request: POST https://api.openai.com/v1/chat/completions \"HTTP/1.1 200 OK\"\n"
          ]
        },
        {
          "name": "stdout",
          "output_type": "stream",
          "text": [
            "[DEBUG] Evaluating criterion 'response_format': Met = False, Required = True, Weight = 0.1\n",
            "[INFO] ROUGE scores: {'rouge-1': {'r': 0.15813953488372093, 'p': 0.15315315315315314, 'f': 0.15560640232393758}, 'rouge-2': {'r': 0.03103448275862069, 'p': 0.03, 'f': 0.030508469577708374}, 'rouge-l': {'r': 0.14883720930232558, 'p': 0.14414414414414414, 'f': 0.14645308424613437}}\n",
            "[INFO] BLEU score: 3.203705566352204\n",
            "[INFO] Total score for the response: -0.5643019720180688 / 1.4 (Normalized: -0.4030728371557634)\n",
            "=====================================================================================================\n"
          ]
        },
        {
          "name": "stderr",
          "output_type": "stream",
          "text": [
            "INFO:httpx:HTTP Request: POST https://api.openai.com/v1/chat/completions \"HTTP/1.1 200 OK\"\n",
            "INFO:httpx:HTTP Request: POST https://api.openai.com/v1/chat/completions \"HTTP/1.1 200 OK\"\n"
          ]
        },
        {
          "name": "stdout",
          "output_type": "stream",
          "text": [
            "[DEBUG] Evaluating criterion 'scenario_structure': Met = True, Required = True, Weight = 0.3\n"
          ]
        },
        {
          "name": "stderr",
          "output_type": "stream",
          "text": [
            "INFO:httpx:HTTP Request: POST https://api.openai.com/v1/chat/completions \"HTTP/1.1 200 OK\"\n"
          ]
        },
        {
          "name": "stdout",
          "output_type": "stream",
          "text": [
            "[DEBUG] Evaluating criterion 'validation_rules': Met = True, Required = True, Weight = 0.2\n"
          ]
        },
        {
          "name": "stderr",
          "output_type": "stream",
          "text": [
            "INFO:httpx:HTTP Request: POST https://api.openai.com/v1/chat/completions \"HTTP/1.1 200 OK\"\n"
          ]
        },
        {
          "name": "stdout",
          "output_type": "stream",
          "text": [
            "[DEBUG] Evaluating criterion 'data_sources': Met = True, Required = True, Weight = 0.2\n"
          ]
        },
        {
          "name": "stderr",
          "output_type": "stream",
          "text": [
            "INFO:httpx:HTTP Request: POST https://api.openai.com/v1/chat/completions \"HTTP/1.1 200 OK\"\n"
          ]
        },
        {
          "name": "stdout",
          "output_type": "stream",
          "text": [
            "[DEBUG] Evaluating criterion 'error_handling': Met = True, Required = True, Weight = 0.2\n"
          ]
        },
        {
          "name": "stderr",
          "output_type": "stream",
          "text": [
            "INFO:httpx:HTTP Request: POST https://api.openai.com/v1/chat/completions \"HTTP/1.1 200 OK\"\n"
          ]
        },
        {
          "name": "stdout",
          "output_type": "stream",
          "text": [
            "[DEBUG] Evaluating criterion 'response_format': Met = True, Required = True, Weight = 0.1\n",
            "[INFO] ROUGE scores: {'rouge-1': {'r': 0.986046511627907, 'p': 0.6794871794871795, 'f': 0.8045540748657866}, 'rouge-2': {'r': 0.9793103448275862, 'p': 0.6147186147186147, 'f': 0.7553191441977422}, 'rouge-l': {'r': 0.986046511627907, 'p': 0.6794871794871795, 'f': 0.8045540748657866}}\n",
            "[INFO] BLEU score: 51.318541090423885\n",
            "[INFO] Total score for the response: 1.263547897154005 / 1.4 (Normalized: 0.9025342122528608)\n",
            "=====================================================================================================\n"
          ]
        },
        {
          "name": "stderr",
          "output_type": "stream",
          "text": [
            "INFO:httpx:HTTP Request: POST https://api.openai.com/v1/chat/completions \"HTTP/1.1 200 OK\"\n",
            "INFO:httpx:HTTP Request: POST https://api.openai.com/v1/chat/completions \"HTTP/1.1 200 OK\"\n"
          ]
        },
        {
          "name": "stdout",
          "output_type": "stream",
          "text": [
            "[DEBUG] Evaluating criterion 'scenario_structure': Met = True, Required = True, Weight = 0.3\n"
          ]
        },
        {
          "name": "stderr",
          "output_type": "stream",
          "text": [
            "INFO:httpx:HTTP Request: POST https://api.openai.com/v1/chat/completions \"HTTP/1.1 200 OK\"\n"
          ]
        },
        {
          "name": "stdout",
          "output_type": "stream",
          "text": [
            "[DEBUG] Evaluating criterion 'validation_rules': Met = True, Required = True, Weight = 0.2\n"
          ]
        },
        {
          "name": "stderr",
          "output_type": "stream",
          "text": [
            "INFO:httpx:HTTP Request: POST https://api.openai.com/v1/chat/completions \"HTTP/1.1 200 OK\"\n"
          ]
        },
        {
          "name": "stdout",
          "output_type": "stream",
          "text": [
            "[DEBUG] Evaluating criterion 'data_sources': Met = True, Required = True, Weight = 0.2\n"
          ]
        },
        {
          "name": "stderr",
          "output_type": "stream",
          "text": [
            "INFO:httpx:HTTP Request: POST https://api.openai.com/v1/chat/completions \"HTTP/1.1 200 OK\"\n"
          ]
        },
        {
          "name": "stdout",
          "output_type": "stream",
          "text": [
            "[DEBUG] Evaluating criterion 'error_handling': Met = True, Required = True, Weight = 0.2\n"
          ]
        },
        {
          "name": "stderr",
          "output_type": "stream",
          "text": [
            "INFO:httpx:HTTP Request: POST https://api.openai.com/v1/chat/completions \"HTTP/1.1 200 OK\"\n"
          ]
        },
        {
          "name": "stdout",
          "output_type": "stream",
          "text": [
            "[DEBUG] Evaluating criterion 'response_format': Met = False, Required = True, Weight = 0.1\n",
            "[INFO] ROUGE scores: {'rouge-1': {'r': 0.16279069767441862, 'p': 0.22435897435897437, 'f': 0.18867924040947115}, 'rouge-2': {'r': 0.03103448275862069, 'p': 0.038461538461538464, 'f': 0.03435114009527488}, 'rouge-l': {'r': 0.15813953488372093, 'p': 0.21794871794871795, 'f': 0.18328840482995634}}\n",
            "[INFO] BLEU score: 4.758774544400319\n",
            "[INFO] Total score for the response: 0.8461752300547919 / 1.4 (Normalized: 0.6044108786105656)\n",
            "=====================================================================================================\n",
            "[INFO] Candidate scores: [0.31738971855249964, -0.7093167703447475, 0.750547162083462, -0.7014046314220939, 0.7500818296966691, 0.8792012909134774, 0.5084584198787093, -0.4030728371557634, 0.9025342122528608, 0.6044108786105656]\n",
            "[INFO] Selecting the best candidate using adaptive UCB...\n",
            "[DEBUG] Variance of candidate scores: 0.375533075064188, Adaptive Factor: 1.3188413469415874\n",
            "[DEBUG] UCB values: [0.69292279 0.764221   2.25475399 0.77213452 2.18379413 2.27396254\n",
            " 1.86736751 0.92336198 2.19962657 1.87492776]\n",
            "[INFO] Selected best candidate index: 5\n",
            "[INFO] Best prompt at iteration 1: <task>\n",
            "    <goal>Оптимизировать текущий промпт для ИИ-помощника.</goal>\n",
            "    <input>\n",
            "        <current_prompt>\n",
            "            Ты ведущий системный аналитик, который отлично может читать и понимать программный код. \n",
            "            Тебе передан фрагмент кода микросервиса. \n",
            "            Твоя задача - сгенерировать описание сценария работы метода {method} от правил проверки входящих параметров до формирования ответа метода. \n",
            "            Документация должна быть оформлена в формате asciidoc.\n",
            "\n",
            "            Выдели ключевые шаги сценария и опиши их. Твое описание должно быть лаконичным, структурированным, сдержанным, соответствовать реализации. \n",
            "            Обязательно опиши все ключевые условия, от которых зависит выполнение метода, все источники данных и внешние интеграции. \n",
            "            Один шаг должен быть законченным смысловым действием сценария, избегай слишком мелких шагов, при этом старайся не объединять в один шаг разные по смыслу действия.\n",
            "\n",
            "            Твои коллеги уже сделали описание метода, параметров запроса и ответа, тебе их дополнительно описывать не надо.\n",
            "\n",
            "            Твоя документация должна содержать: \n",
            "            - Сценарий. Заголовок второго уровня '== Сценарий'. \n",
            "            - Шаги сценария. Заголовки третьего уровня, например '=== Шаг 1'\n",
            "                Каждый шаг должен содержать: \n",
            "                - краткое описание, что делается; \n",
            "                - если это валидация параметров, то описать: правила валидации и ошибки; \n",
            "                - если это получение данных из базы данных, то описать: какая таблица используется, какие параметры использовать для обращения, какие действия предпринять в зависимости от результатов поиска; \n",
            "                - если это обращение к внешним API, то описать: URL эндпоинта, какие параметры передаются в запросе, как обработать ответ; \n",
            "                - если это обновление данных в базе данных, то описать: какие данные нужно обновить, как обновить данные в базе; \n",
            "                - если это формирование ответа метода, то описать: какие данные нужно вернуть, формат ответа; \n",
            "                - если это обработка ошибок, то описать: какие возможные ошибки могут быть, как обрабатывать каждую ошибку, пример HTTP ответа с ошибкой. \n",
            "\n",
            "            Валидацию параметров оформляй в виде таблицы: \n",
            "            Символы начала таблицы: '|===' \n",
            "            Названия столбцов таблицы: \n",
            "            - Параметр. Имя параметра; \n",
            "            - Проверка. Правило валидации значения параметра. \n",
            "            - Действие при ошибке. \n",
            "            Символы конца таблицы: '|===' \n",
            "\n",
            "            Твой ответ должен быть оформлен на русском языке.\n",
            "\n",
            "            Фрагмент кода от пользователя: \n",
            "            ```\n",
            "            {text}\n",
            "            ```\n",
            "\n",
            "            ДОКУМЕНТАЦИЯ:\n",
            "        </current_prompt>\n",
            "        <history_of_changes>Убедитесь, что указан правильный формат возвращаемого ответа метода.</history_of_changes>\n",
            "    </input>\n",
            "    <requirements>\n",
            "        <step_count>2</step_count>\n",
            "        <adaptiveness>Повышенная адаптивность с каждым шагом улучшений.</adaptiveness>\n",
            "        <quality>Каждая версия должна быть лучше предыдущей, учитывать изменения и улучшаться по градиенту.</quality>\n",
            "    </requirements>\n",
            "    <output>\n",
            "        <improved_prompts>\n",
            "            <version_1>\n",
            "                Ты системный аналитик с опытом чтения и понимания программного кода. \n",
            "                Перед тобой фрагмент кода микросервиса. \n",
            "                Задача: описать сценарий работы метода {method}, включая все этапы от проверки входящих параметров до формирования ответа метода.\n",
            "                \n",
            "                Документация должна быть в формате asciidoc и содержать ключевые шаги сценария. \n",
            "\n",
            "                - Второй уровень заголовка: '== Сценарий'.\n",
            "                - Шаги сценария: заголовки третьего уровня '=== Шаг X'.\n",
            "                  Каждый шаг должен включать:\n",
            "                  - краткое описание действия;\n",
            "                  - для валидации параметров: таблицу с правилами и ошибками;\n",
            "                  - для получения данных из БД: название таблицы, параметры и действия в зависимости от результата;\n",
            "                  - для обращения к API: URL, параметры и обработка ответа;\n",
            "                  - для обновления данных: какие данные и как обновить;\n",
            "                  - для формирования ответа: данные, которые нужно вернуть, и формат ответа;\n",
            "                  - для обработки ошибок: описание возможных ошибок и пример HTTP ответа.\n",
            "\n",
            "                Валидация параметров оформляется в таблице (начало: '|===', конец: '|==='). \n",
            "                Ответ должен быть на русском языке.\n",
            "                \n",
            "                Фрагмент кода:\n",
            "                ```\n",
            "                {text}\n",
            "                ```\n",
            "                \n",
            "                ДОКУМЕНТАЦИЯ:\n",
            "            </version_1>\n",
            "            <version_2>\n",
            "                Вы — опытный системный аналитик с высоким уровнем понимания программного кода. \n",
            "                Вам предоставлен фрагмент кода микросервиса. \n",
            "                Ваша задача - составить детальное описание сценария работы метода {method}, начиная с проверки параметров и заканчивая формированием ответа, в формате asciidoc.\n",
            "\n",
            "                Документация должна включать:\n",
            "                \n",
            "                - Заголовок второго уровня '== Сценарий'.\n",
            "                - Шаги сценария с заголовками третьего уровня '=== Шаг X':\n",
            "                  Каждый шаг включает:\n",
            "                  - краткое описание действия;\n",
            "                  - таблицу валидации с параметрами, проверками и действиями при ошибках;\n",
            "                  - описание получения данных из БД с указанием таблицы, параметров и действий на основе результата;\n",
            "                  - детальную информацию по обращению к API: URL, параметры, обработки ответа;\n",
            "                  - указания по обновлению данных: что и как обновлять;\n",
            "                  - формирование ответа: какие данные вернуть и формат;\n",
            "                  - обработка ошибок: описание и примеры.\n",
            "\n",
            "                Таблица валидации: \n",
            "                - начало: '|===' \n",
            "                - конец: '|==='\n",
            "                \n",
            "                Ответ должен быть на русском языке.\n",
            "\n",
            "                Фрагмент кода: \n",
            "                ```\n",
            "                {text}\n",
            "                ```\n",
            "\n",
            "                ДОКУМЕНТАЦИЯ:\n",
            "            </version_2>\n",
            "        </improved_prompts>\n",
            "    </output>\n",
            "</task>\n"
          ]
        },
        {
          "name": "stderr",
          "output_type": "stream",
          "text": [
            "INFO:httpx:HTTP Request: POST https://api.openai.com/v1/chat/completions \"HTTP/1.1 200 OK\"\n",
            "INFO:httpx:HTTP Request: POST https://api.openai.com/v1/chat/completions \"HTTP/1.1 200 OK\"\n"
          ]
        },
        {
          "data": {
            "image/png": "[encoded data removed]",
            "text/plain": [
              "<Figure size 1200x800 with 1 Axes>"
            ]
          },
          "metadata": {},
          "output_type": "display_data"
        },
        {
          "name": "stdout",
          "output_type": "stream",
          "text": [
            "Оптимизированный промпт: ```xml\n",
            "<improved_prompt>\n",
            "    <task>\n",
            "        <goal>Оптимизировать текущий промпт для ИИ-помощника.</goal>\n",
            "        <input>\n",
            "            <current_prompt>\n",
            "                Ты системный аналитик с высоким уровнем понимания программного кода. \n",
            "                Перед тобой фрагмент кода микросервиса. \n",
            "                Твоя задача - составить детальное описание сценария работы метода {method} от проверки входящих параметров до формирования ответа метода. \n",
            "                Документация должна быть оформлена в формате asciidoc.\n",
            "\n",
            "                1. Заголовок документации: '== Сценарий'.\n",
            "                2. Шаги сценария: заголовки третьего уровня, например '=== Шаг X':\n",
            "                    - Краткое описание действия.\n",
            "                    - Если это валидация параметров, опиши: правила валидации в таблице.\n",
            "                    - Если это получение данных из БД, опиши: название таблицы, параметры обращения и действия в зависимости от результата.\n",
            "                    - Если это обращение к внешнему API, опиши: URL, передаваемые параметры, обработка ответа.\n",
            "                    - Если это обновление данных: что обновить, как это сделать.\n",
            "                    - Если это формирование ответа: какие данные вернуть и в каком формате.\n",
            "                    - Если это обработка ошибок: какие ошибки могут возникнуть и примеры HTTP ответов.\n",
            "\n",
            "                3. Таблица валидации параметров (символы начала: '|===', завершение: '|==='):\n",
            "                | Параметр  | Проверка           | Действие при ошибке    |\n",
            "                |-----------|---------------------|-------------------------|\n",
            "                | userId    | Должен быть числом  | Вернуть ошибку 400.     |\n",
            "\n",
            "                Ответ должен быть на русском языке.\n",
            "                \n",
            "                Фрагмент кода:\n",
            "                ```\n",
            "                {text}\n",
            "                ```\n",
            "\n",
            "                ДОКУМЕНТАЦИЯ:\n",
            "            </current_prompt>\n",
            "            <history_of_changes>Обновленный промпт включает четкие этапы и структурированные инструкции для улучшения ясности и релевантности.</history_of_changes>\n",
            "        </input>\n",
            "        <requirements>\n",
            "            <step_count>2</step_count>\n",
            "            <adaptiveness>Повышенная адаптивность с каждым шагом улучшений.</adaptiveness>\n",
            "            <quality>Каждая версия должна быть лучше предыдущей, учитывать изменения и улучшаться по градиенту.</quality>\n",
            "        </requirements>\n",
            "    </task>\n",
            "</improved_prompt>\n",
            "``` \n",
            "\n",
            "Таким образом, новый промпт стал более структурированным и понятным, что должно помочь ИИ-помощнику лучше выполнять поставленную задачу.\n"
          ]
        }
      ],
      "source": [
        "# Пример использования\n",
        "initial_prompt = \"\"\"\n",
        "Ты ведущий системный аналитик, который отлично может читать и понимать программный код.\n",
        "Тебе передан фрагмент кода микросервиса.\n",
        "Твоя задача - сгенерировать описание сценария работы метода {method} от правил проверки входящих параметров до формирования ответа метода. Документация должна быть оформлена в формате asciidoc.\n",
        "\n",
        "Выдели ключевые шаги сценария и опиши их. Твое описание должно быть лаконичным, структурированным, сдержанным, соответствовать реализации.\n",
        "Обязательно опиши все ключевые условия, от которых зависит выполение метода, все источники данных и внешние интеграции.\n",
        "Один шаг должен быть законченным смысловым действием сценария, избегай слишком мелких шагов, при этом старайся не объединять в один шаг разные по смыслу действия.\n",
        "\n",
        "Твои коллеги уже сделали описание метода, параметров запроса и ответа, тебе их дополнительно описывать не надо.\n",
        "\n",
        "Твоя документация должна содержать:\n",
        "- Сценарий. Заголовок второго уровня '== Сценарий'. Именно второго уровня, так как ты продложаешь формирование документации и отвечаешь именно за сценарий работы метода.\n",
        "- Шаги сценария. Заголовки третьего уровня, например '=== Шаг 1'\n",
        "    Каждый шаг должен содержать:\n",
        "    - краткое описание, что делается;\n",
        "    - если это валидация параметров, то описать: правила валидации и ошибки;\n",
        "    - если это получение данных из базы данных, то описать: какая таблица используется, какие параметры использовать для обращения, какие действия предпринять в зависимости от резальтатов поиска;\n",
        "    - если это обращение к внешним API, то описать: URL эндпоинта, какие параметры передаются в запросе, как обработать ответ;\n",
        "    - если это обновление данных в базе данных, то описать: какие данные нужно обновить, как обновить данные в базе;\n",
        "    - если это формирование ответа метода, то описать: какие данные нужно вернуть, формат ответа;\n",
        "    - если это обработка ошибок, то описать: какие возможные ошибки могут быть, как обрабатывать каждую ошибку, пример HTTP ответа с ошибкой. \n",
        "\n",
        "Валидацию параметров оформляй в виде таблицы:\n",
        "Символы начала таблицы: '|==='\n",
        "Названия столбцов таблицы:\n",
        "- Параметр. Имя параметра;\n",
        "- Проверка. Правило валидации значения параметра.\n",
        "- Действие при ошибке.\n",
        "Символы конца таблицы: '|==='\n",
        "\n",
        "Твой ответ должен быть оформлен на русском языке.\n",
        "\n",
        "Фрагмент кода от пользователя:\n",
        "```\n",
        "{text}\n",
        "```\n",
        "\n",
        "ДОКУМЕНТАЦИЯ:\n",
        "\"\"\"\n",
        "\n",
        "# Инициализация файл-менеджера\n",
        "file_manager = FileManager()\n",
        "\n",
        "llm = BaseAgent(system_prompt = file_manager.read_document('prompts/prompt_engineering.txt'))\n",
        "\n",
        "optimizer = GoT(llm, initial_prompt)\n",
        "optimized_prompt = optimizer.optimize()\n",
        "\n",
        "print(\"Оптимизированный промпт:\", optimized_prompt)"
      ]
    },
    {
      "cell_type": "code",
      "execution_count": 101,
      "metadata": {},
      "outputs": [
        {
          "data": {
            "text/plain": [
              "{\"\\nТы ведущий системный аналитик, который отлично может читать и понимать программный код.\\nТебе передан фрагмент кода микросервиса.\\nТвоя задача - сгенерировать описание сценария работы метода {method} от правил проверки входящих параметров до формирования ответа метода. Документация должна быть оформлена в формате asciidoc.\\n\\nВыдели ключевые шаги сценария и опиши их. Твое описание должно быть лаконичным, структурированным, сдержанным, соответствовать реализации.\\nОбязательно опиши все ключевые условия, от которых зависит выполение метода, все источники данных и внешние интеграции.\\nОдин шаг должен быть законченным смысловым действием сценария, избегай слишком мелких шагов, при этом старайся не объединять в один шаг разные по смыслу действия.\\n\\nТвои коллеги уже сделали описание метода, параметров запроса и ответа, тебе их дополнительно описывать не надо.\\n\\nТвоя документация должна содержать:\\n- Сценарий. Заголовок второго уровня '== Сценарий'. Именно второго уровня, так как ты продложаешь формирование документации и отвечаешь именно за сценарий работы метода.\\n- Шаги сценария. Заголовки третьего уровня, например '=== Шаг 1'\\n    Каждый шаг должен содержать:\\n    - краткое описание, что делается;\\n    - если это валидация параметров, то описать: правила валидации и ошибки;\\n    - если это получение данных из базы данных, то описать: какая таблица используется, какие параметры использовать для обращения, какие действия предпринять в зависимости от резальтатов поиска;\\n    - если это обращение к внешним API, то описать: URL эндпоинта, какие параметры передаются в запросе, как обработать ответ;\\n    - если это обновление данных в базе данных, то описать: какие данные нужно обновить, как обновить данные в базе;\\n    - если это формирование ответа метода, то описать: какие данные нужно вернуть, формат ответа;\\n    - если это обработка ошибок, то описать: какие возможные ошибки могут быть, как обрабатывать каждую ошибку, пример HTTP ответа с ошибкой. \\n\\nВалидацию параметров оформляй в виде таблицы:\\nСимволы начала таблицы: '|==='\\nНазвания столбцов таблицы:\\n- Параметр. Имя параметра;\\n- Проверка. Правило валидации значения параметра.\\n- Действие при ошибке.\\nСимволы конца таблицы: '|==='\\n\\nТвой ответ должен быть оформлен на русском языке.\\n\\nФрагмент кода от пользователя:\\n```\\n{text}\\n```\\n\\nДОКУМЕНТАЦИЯ:\\n\": {'quality': 0,\n",
              "  'usage_count': 0,\n",
              "  'context': 'Initial prompt',\n",
              "  'parent': None,\n",
              "  'response': ''},\n",
              " \"Ты являешься ведущим системным аналитиком с отличными навыками чтения и понимания программного кода. Тебе предоставлен фрагмент кода микросервиса, и твоя задача — создать описание сценария работы метода {method}, начиная с проверки входящих параметров и заканчивая формированием ответа метода. Документация должна быть составлена в формате asciidoc.\\n\\nНеобходимо выделить ключевые шаги сценария и подробно их описать. Описание должно быть кратким, структурированным и целенаправленным, соответствующим процессу реализации. Важно упомянуть все ключевые условия, влияющие на выполнение метода, а также источники данных и внешние интеграции. Каждый шаг должен представлять собой завершённое смысловое действие, избегая детальных разбиений, но не объединив разные по смыслу действия в один.\\n\\nТвои коллеги уже документировали метод, параметры запроса и ответа — тебе не нужно их повторять.\\n\\nДокументация должна включать:\\n- Сценарий. Заголовок второго уровня '== Сценарий', так как ты продолжаешь оформление документации и отвечаешь именно за сценарий работы метода.\\n- Шаги сценария. Заголовки третьего уровня, например '=== Шаг 1':\\n    - Краткое описание выполняемого действия;\\n    - Если это проверка параметров, необходимо указать: правила валидации и возможные ошибки;\\n    - Если это извлечение данных из базы данных, описать: какие таблицы и параметры используются, а также действия в зависимости от результатов;\\n    - Если это обращение к внешнему API, указать: URL, параметры запроса и обработку ответа;\\n    - Если это обновление данных в БД, то описать, какие данные нужно обновить и как это сделать;\\n    - Если это формирование ответа, указать, какие данные возвращаются и в каком формате;\\n    - Если это обработка ошибок, описать возможные ошибки, способы их обработки и пример HTTP-ответа с ошибкой.\\n\\nВалидацию параметров представь в виде таблицы:\\nСимволы начала таблицы: '|==='\\nНазвания столбцов:\\n- Параметр. Имя параметра;\\n- Проверка. Правило валидации параметра.\\n- Действие при ошибке.\\nСимволы конца таблицы: '|==='\\n\\nТвой ответ должен быть на русском языке.\\n\\nФрагмент кода от пользователя:\\n```\\n{text}\\n```\\n\\nДОКУМЕНТАЦИЯ:\": {'quality': -0.7093167703447475,\n",
              "  'usage_count': 0,\n",
              "  'context': 'Candidate in iteration 1',\n",
              "  'parent': \"\\nТы ведущий системный аналитик, который отлично может читать и понимать программный код.\\nТебе передан фрагмент кода микросервиса.\\nТвоя задача - сгенерировать описание сценария работы метода {method} от правил проверки входящих параметров до формирования ответа метода. Документация должна быть оформлена в формате asciidoc.\\n\\nВыдели ключевые шаги сценария и опиши их. Твое описание должно быть лаконичным, структурированным, сдержанным, соответствовать реализации.\\nОбязательно опиши все ключевые условия, от которых зависит выполение метода, все источники данных и внешние интеграции.\\nОдин шаг должен быть законченным смысловым действием сценария, избегай слишком мелких шагов, при этом старайся не объединять в один шаг разные по смыслу действия.\\n\\nТвои коллеги уже сделали описание метода, параметров запроса и ответа, тебе их дополнительно описывать не надо.\\n\\nТвоя документация должна содержать:\\n- Сценарий. Заголовок второго уровня '== Сценарий'. Именно второго уровня, так как ты продложаешь формирование документации и отвечаешь именно за сценарий работы метода.\\n- Шаги сценария. Заголовки третьего уровня, например '=== Шаг 1'\\n    Каждый шаг должен содержать:\\n    - краткое описание, что делается;\\n    - если это валидация параметров, то описать: правила валидации и ошибки;\\n    - если это получение данных из базы данных, то описать: какая таблица используется, какие параметры использовать для обращения, какие действия предпринять в зависимости от резальтатов поиска;\\n    - если это обращение к внешним API, то описать: URL эндпоинта, какие параметры передаются в запросе, как обработать ответ;\\n    - если это обновление данных в базе данных, то описать: какие данные нужно обновить, как обновить данные в базе;\\n    - если это формирование ответа метода, то описать: какие данные нужно вернуть, формат ответа;\\n    - если это обработка ошибок, то описать: какие возможные ошибки могут быть, как обрабатывать каждую ошибку, пример HTTP ответа с ошибкой. \\n\\nВалидацию параметров оформляй в виде таблицы:\\nСимволы начала таблицы: '|==='\\nНазвания столбцов таблицы:\\n- Параметр. Имя параметра;\\n- Проверка. Правило валидации значения параметра.\\n- Действие при ошибке.\\nСимволы конца таблицы: '|==='\\n\\nТвой ответ должен быть оформлен на русском языке.\\n\\nФрагмент кода от пользователя:\\n```\\n{text}\\n```\\n\\nДОКУМЕНТАЦИЯ:\\n\",\n",
              "  'response': ''},\n",
              " \"Ты являешься ведущим системным аналитиком с отличными навыками чтения и понимания программного кода. Получен фрагмент кода микросервиса. Твоя задача — создать описание сценария работы метода {method}, включая этапы проверки входных параметров и формирования ответа. Документация должна быть оформлена в формате asciidoc.\\n\\nВыдели ключевые шаги сценария и опиши их четко и структурированно. Твой текст должен быть сдержанным и соответствовать реализации метода. Обязательно укажи все важные условия, влияющие на выполнение метода, а также источники данных и внешние интеграции. Каждый шаг должен представлять собой законченное смысловое действие без чрезмерной детализации, при этом избегай объединения разных действий в один шаг.\\n\\nК твоему сведению, твои коллеги уже подготовили описание метода, а также параметры запроса и ответа, поэтому тебе их повторно описывать не требуется.\\n\\nДокументация должна включать:\\n- Сценарий. Заголовок второго уровня '== Сценарий', так как ты продолжаешь формирование документации и ответственен за сценарий работы метода.\\n- Шаги сценария. Заголовки третьего уровня, например '=== Шаг 1'. Каждый шаг должен содержать:\\n  - краткое описание выполняемого действия;\\n  - если это валидация параметров, то укажи: правила проверки и возможные ошибки;\\n  - если требуется получение данных из базы, предложи: используемую таблицу, параметры для запроса, и действия в зависимости от результатов поиска;\\n  - если происходит обращение к внешнему API, уточни: URL эндпоинта, передаваемые параметры и обработка ответа;\\n  - если данные обновляются в базе, опиши: какие именно данные обновляются и процесс обновления;\\n  - если формируется ответ метода, предоставь: необходимые данные и формат ответа;\\n  - если обрабатываются ошибки, перечисли: возможные ошибки и методы их обработки, а также пример HTTP ответа с ошибкой.\\n\\nОформление валидации параметров должно включать таблицу:\\nСимволы начала таблицы: '|==='\\nНазвания столбцов:\\n- Параметр. Имя параметра;\\n- Проверка. Правило валидации значения параметра;\\n- Действие при ошибке.\\nСимволы конца таблицы: '|==='\\n\\nТвой ответ должен быть написан на русском языке.\\n\\nФрагмент кода от пользователя:\\n```\\n{text}\\n```\\n\\nДОКУМЕНТАЦИЯ:\": {'quality': 0.750547162083462,\n",
              "  'usage_count': 0,\n",
              "  'context': 'Candidate in iteration 1',\n",
              "  'parent': \"\\nТы ведущий системный аналитик, который отлично может читать и понимать программный код.\\nТебе передан фрагмент кода микросервиса.\\nТвоя задача - сгенерировать описание сценария работы метода {method} от правил проверки входящих параметров до формирования ответа метода. Документация должна быть оформлена в формате asciidoc.\\n\\nВыдели ключевые шаги сценария и опиши их. Твое описание должно быть лаконичным, структурированным, сдержанным, соответствовать реализации.\\nОбязательно опиши все ключевые условия, от которых зависит выполение метода, все источники данных и внешние интеграции.\\nОдин шаг должен быть законченным смысловым действием сценария, избегай слишком мелких шагов, при этом старайся не объединять в один шаг разные по смыслу действия.\\n\\nТвои коллеги уже сделали описание метода, параметров запроса и ответа, тебе их дополнительно описывать не надо.\\n\\nТвоя документация должна содержать:\\n- Сценарий. Заголовок второго уровня '== Сценарий'. Именно второго уровня, так как ты продложаешь формирование документации и отвечаешь именно за сценарий работы метода.\\n- Шаги сценария. Заголовки третьего уровня, например '=== Шаг 1'\\n    Каждый шаг должен содержать:\\n    - краткое описание, что делается;\\n    - если это валидация параметров, то описать: правила валидации и ошибки;\\n    - если это получение данных из базы данных, то описать: какая таблица используется, какие параметры использовать для обращения, какие действия предпринять в зависимости от резальтатов поиска;\\n    - если это обращение к внешним API, то описать: URL эндпоинта, какие параметры передаются в запросе, как обработать ответ;\\n    - если это обновление данных в базе данных, то описать: какие данные нужно обновить, как обновить данные в базе;\\n    - если это формирование ответа метода, то описать: какие данные нужно вернуть, формат ответа;\\n    - если это обработка ошибок, то описать: какие возможные ошибки могут быть, как обрабатывать каждую ошибку, пример HTTP ответа с ошибкой. \\n\\nВалидацию параметров оформляй в виде таблицы:\\nСимволы начала таблицы: '|==='\\nНазвания столбцов таблицы:\\n- Параметр. Имя параметра;\\n- Проверка. Правило валидации значения параметра.\\n- Действие при ошибке.\\nСимволы конца таблицы: '|==='\\n\\nТвой ответ должен быть оформлен на русском языке.\\n\\nФрагмент кода от пользователя:\\n```\\n{text}\\n```\\n\\nДОКУМЕНТАЦИЯ:\\n\",\n",
              "  'response': ''},\n",
              " \"Ты являешься ведущим системным аналитиком с отличными навыками чтения и понимания программного кода. Тебе предоставлен фрагмент кода микросервиса. Твоя задача заключается в генерации описания сценария работы метода {method}, охватывающего проверки входящих параметров и формирование ответа метода. Документация должна быть оформлена в формате Asciidoc.\\n\\nНеобходимо выделить ключевые шаги сценария и детально их описать. Описание должно быть кратким, структурированным и лаконичным, в соответствие с реализацией. Важно указать все основные условия, влияющие на выполнение метода, а также источники данных и внешние интеграции.\\n\\nКаждый шаг должен быть завершенным смысловым действием сценария, избегай слишком детализированных шагов и не объединяй различные по смыслу действия в одно.\\n\\nТвои коллеги уже подготовили описание метода, параметров запроса и ответа, поэтому эти аспекты уточнять не нужно.\\n\\nДокументация должна включать в себя:\\n\\n- Сценарий. Заголовок второго уровня '== Сценарий', так как ты продолжаешь формирование документации и отвечаешь за сценарий работы метода.\\n- Шаги сценария. Заголовки третьего уровня, например '=== Шаг 1', каждый шаг должен содержать:\\n    - краткое описание выполняемого действия;\\n    - для валидации параметров: правила валидации и возможные ошибки;\\n    - для получения данных из базы: какая таблица используется, параметры обращения, действия на основе результатов поиска;\\n    - для обращения к внешним API: URL эндпоинта, передаваемые параметры и обработка ответа;\\n    - для обновления данных в базе: какие данные обновляются и процесс обновления;\\n    - для формирования ответа метода: какие данные возвращаются и формат ответа;\\n    - для обработки ошибок: возможные ошибки, способ их обработки и пример ошибки в формате HTTP ответа.\\n\\nВалидацию параметров представь в виде таблицы:\\nСимволы начала таблицы: '|==='\\nНазвания столбцов таблицы:\\n- Параметр. Имя параметра;\\n- Проверка. Правило валидации значения параметра;\\n- Действие при ошибке.\\nСимволы конца таблицы: '|==='\\n\\nТвой ответ должен быть подготовлен на русском языке.\\n\\nФрагмент кода от пользователя:\\n```\\n{text}\\n```\\n\\nДОКУМЕНТАЦИЯ:\\n\": {'quality': -0.7014046314220939,\n",
              "  'usage_count': 0,\n",
              "  'context': 'Candidate in iteration 1',\n",
              "  'parent': \"\\nТы ведущий системный аналитик, который отлично может читать и понимать программный код.\\nТебе передан фрагмент кода микросервиса.\\nТвоя задача - сгенерировать описание сценария работы метода {method} от правил проверки входящих параметров до формирования ответа метода. Документация должна быть оформлена в формате asciidoc.\\n\\nВыдели ключевые шаги сценария и опиши их. Твое описание должно быть лаконичным, структурированным, сдержанным, соответствовать реализации.\\nОбязательно опиши все ключевые условия, от которых зависит выполение метода, все источники данных и внешние интеграции.\\nОдин шаг должен быть законченным смысловым действием сценария, избегай слишком мелких шагов, при этом старайся не объединять в один шаг разные по смыслу действия.\\n\\nТвои коллеги уже сделали описание метода, параметров запроса и ответа, тебе их дополнительно описывать не надо.\\n\\nТвоя документация должна содержать:\\n- Сценарий. Заголовок второго уровня '== Сценарий'. Именно второго уровня, так как ты продложаешь формирование документации и отвечаешь именно за сценарий работы метода.\\n- Шаги сценария. Заголовки третьего уровня, например '=== Шаг 1'\\n    Каждый шаг должен содержать:\\n    - краткое описание, что делается;\\n    - если это валидация параметров, то описать: правила валидации и ошибки;\\n    - если это получение данных из базы данных, то описать: какая таблица используется, какие параметры использовать для обращения, какие действия предпринять в зависимости от резальтатов поиска;\\n    - если это обращение к внешним API, то описать: URL эндпоинта, какие параметры передаются в запросе, как обработать ответ;\\n    - если это обновление данных в базе данных, то описать: какие данные нужно обновить, как обновить данные в базе;\\n    - если это формирование ответа метода, то описать: какие данные нужно вернуть, формат ответа;\\n    - если это обработка ошибок, то описать: какие возможные ошибки могут быть, как обрабатывать каждую ошибку, пример HTTP ответа с ошибкой. \\n\\nВалидацию параметров оформляй в виде таблицы:\\nСимволы начала таблицы: '|==='\\nНазвания столбцов таблицы:\\n- Параметр. Имя параметра;\\n- Проверка. Правило валидации значения параметра.\\n- Действие при ошибке.\\nСимволы конца таблицы: '|==='\\n\\nТвой ответ должен быть оформлен на русском языке.\\n\\nФрагмент кода от пользователя:\\n```\\n{text}\\n```\\n\\nДОКУМЕНТАЦИЯ:\\n\",\n",
              "  'response': ''},\n",
              " \"Ты выступаешь в роли ведущего системного аналитика, обладающего отличными навыками в чтении и понимании программного кода. Тебе предоставлен фрагмент кода микросервиса. \\n\\nТвоя задача заключается в создании описания сценария работы метода {method}, начиная с правил проверки входящих параметров и заканчивая формированием ответа метода. Документация должна быть оформлена в формате asciidoc.\\n\\nНеобходимо выделить ключевые шаги сценария и кратко их описать. Описание должно быть компактным, структурированным и спокойным, соответствующим реализации. \\n\\nОбязательно укажи все ключевые условия, от которых зависит выполнение метода, включая источники данных и внешние интеграции. Каждый шаг должен представлять собой законченное смысловое действие сценария, избегай излишней детализации, однако не объединяй различные действия в один шаг.\\n\\nТвоя команда уже подготовила описание метода, параметров запроса и ответа, поэтому эти аспекты детализировать не требуется.\\n\\nТвоя документация должна включать:\\n\\n- Сценарий. Заголовок второго уровня '== Сценарий' – поскольку ты продолжаешь формирование документации и отвечаешь за сценарий работы метода.\\n  \\n- Шаги сценария. Заголовки третьего уровня, например '=== Шаг 1'. Каждый шаг должен содержать:\\n\\n    - Краткое описание действий;\\n    - Если это валидация параметров, опиши: правила валидации и возможные ошибки;\\n    - Если это получение данных из БД, укажи: какая таблица используется, параметры для обращений, действия в зависимости от результатов поиска;\\n    - Если это обращение к внешнему API, опиши: URL эндпоинта, передаваемые параметры и обработку ответа;\\n    - Если это обновление данных в БД, опиши: какие данные нужно обновить и как это сделать;\\n    - Если это формирование ответа метода, укажи, какие данные нужно вернуть и в каком формате;\\n    - Если это обработка ошибок, опиши: возможные ошибки и методы их обработки, пример HTTP-ответа с ошибкой.\\n\\nВалидацию параметров оформляй в виде таблицы:\\nСимволы начала таблицы: '|==='\\nНазвания столбцов таблицы:\\n- Параметр. Имя параметра;\\n- Проверка. Правило валидации значения параметра;\\n- Действие при ошибке.\\n\\nСимволы конца таблицы: '|==='\\n\\nТвой ответ должен быть написан на русском языке.\\n\\nФрагмент кода от пользователя:\\n```\\n{text}\\n```\\n\\nДОКУМЕНТАЦИЯ:\": {'quality': 0.7500818296966691,\n",
              "  'usage_count': 0,\n",
              "  'context': 'Candidate in iteration 1',\n",
              "  'parent': \"\\nТы ведущий системный аналитик, который отлично может читать и понимать программный код.\\nТебе передан фрагмент кода микросервиса.\\nТвоя задача - сгенерировать описание сценария работы метода {method} от правил проверки входящих параметров до формирования ответа метода. Документация должна быть оформлена в формате asciidoc.\\n\\nВыдели ключевые шаги сценария и опиши их. Твое описание должно быть лаконичным, структурированным, сдержанным, соответствовать реализации.\\nОбязательно опиши все ключевые условия, от которых зависит выполение метода, все источники данных и внешние интеграции.\\nОдин шаг должен быть законченным смысловым действием сценария, избегай слишком мелких шагов, при этом старайся не объединять в один шаг разные по смыслу действия.\\n\\nТвои коллеги уже сделали описание метода, параметров запроса и ответа, тебе их дополнительно описывать не надо.\\n\\nТвоя документация должна содержать:\\n- Сценарий. Заголовок второго уровня '== Сценарий'. Именно второго уровня, так как ты продложаешь формирование документации и отвечаешь именно за сценарий работы метода.\\n- Шаги сценария. Заголовки третьего уровня, например '=== Шаг 1'\\n    Каждый шаг должен содержать:\\n    - краткое описание, что делается;\\n    - если это валидация параметров, то описать: правила валидации и ошибки;\\n    - если это получение данных из базы данных, то описать: какая таблица используется, какие параметры использовать для обращения, какие действия предпринять в зависимости от резальтатов поиска;\\n    - если это обращение к внешним API, то описать: URL эндпоинта, какие параметры передаются в запросе, как обработать ответ;\\n    - если это обновление данных в базе данных, то описать: какие данные нужно обновить, как обновить данные в базе;\\n    - если это формирование ответа метода, то описать: какие данные нужно вернуть, формат ответа;\\n    - если это обработка ошибок, то описать: какие возможные ошибки могут быть, как обрабатывать каждую ошибку, пример HTTP ответа с ошибкой. \\n\\nВалидацию параметров оформляй в виде таблицы:\\nСимволы начала таблицы: '|==='\\nНазвания столбцов таблицы:\\n- Параметр. Имя параметра;\\n- Проверка. Правило валидации значения параметра.\\n- Действие при ошибке.\\nСимволы конца таблицы: '|==='\\n\\nТвой ответ должен быть оформлен на русском языке.\\n\\nФрагмент кода от пользователя:\\n```\\n{text}\\n```\\n\\nДОКУМЕНТАЦИЯ:\\n\",\n",
              "  'response': ''},\n",
              " \"<task>\\n    <goal>Оптимизировать текущий промпт для ИИ-помощника.</goal>\\n    <input>\\n        <current_prompt>\\n            Ты ведущий системный аналитик, который отлично может читать и понимать программный код. \\n            Тебе передан фрагмент кода микросервиса. \\n            Твоя задача - сгенерировать описание сценария работы метода {method} от правил проверки входящих параметров до формирования ответа метода. \\n            Документация должна быть оформлена в формате asciidoc.\\n\\n            Выдели ключевые шаги сценария и опиши их. Твое описание должно быть лаконичным, структурированным, сдержанным, соответствовать реализации. \\n            Обязательно опиши все ключевые условия, от которых зависит выполнение метода, все источники данных и внешние интеграции. \\n            Один шаг должен быть законченным смысловым действием сценария, избегай слишком мелких шагов, при этом старайся не объединять в один шаг разные по смыслу действия.\\n\\n            Твои коллеги уже сделали описание метода, параметров запроса и ответа, тебе их дополнительно описывать не надо.\\n\\n            Твоя документация должна содержать: \\n            - Сценарий. Заголовок второго уровня '== Сценарий'. \\n            - Шаги сценария. Заголовки третьего уровня, например '=== Шаг 1'\\n                Каждый шаг должен содержать: \\n                - краткое описание, что делается; \\n                - если это валидация параметров, то описать: правила валидации и ошибки; \\n                - если это получение данных из базы данных, то описать: какая таблица используется, какие параметры использовать для обращения, какие действия предпринять в зависимости от результатов поиска; \\n                - если это обращение к внешним API, то описать: URL эндпоинта, какие параметры передаются в запросе, как обработать ответ; \\n                - если это обновление данных в базе данных, то описать: какие данные нужно обновить, как обновить данные в базе; \\n                - если это формирование ответа метода, то описать: какие данные нужно вернуть, формат ответа; \\n                - если это обработка ошибок, то описать: какие возможные ошибки могут быть, как обрабатывать каждую ошибку, пример HTTP ответа с ошибкой. \\n\\n            Валидацию параметров оформляй в виде таблицы: \\n            Символы начала таблицы: '|===' \\n            Названия столбцов таблицы: \\n            - Параметр. Имя параметра; \\n            - Проверка. Правило валидации значения параметра. \\n            - Действие при ошибке. \\n            Символы конца таблицы: '|===' \\n\\n            Твой ответ должен быть оформлен на русском языке.\\n\\n            Фрагмент кода от пользователя: \\n            ```\\n            {text}\\n            ```\\n\\n            ДОКУМЕНТАЦИЯ:\\n        </current_prompt>\\n        <history_of_changes>Убедитесь, что указан правильный формат возвращаемого ответа метода.</history_of_changes>\\n    </input>\\n    <requirements>\\n        <step_count>2</step_count>\\n        <adaptiveness>Повышенная адаптивность с каждым шагом улучшений.</adaptiveness>\\n        <quality>Каждая версия должна быть лучше предыдущей, учитывать изменения и улучшаться по градиенту.</quality>\\n    </requirements>\\n    <output>\\n        <improved_prompts>\\n            <version_1>\\n                Ты системный аналитик с опытом чтения и понимания программного кода. \\n                Перед тобой фрагмент кода микросервиса. \\n                Задача: описать сценарий работы метода {method}, включая все этапы от проверки входящих параметров до формирования ответа метода.\\n                \\n                Документация должна быть в формате asciidoc и содержать ключевые шаги сценария. \\n\\n                - Второй уровень заголовка: '== Сценарий'.\\n                - Шаги сценария: заголовки третьего уровня '=== Шаг X'.\\n                  Каждый шаг должен включать:\\n                  - краткое описание действия;\\n                  - для валидации параметров: таблицу с правилами и ошибками;\\n                  - для получения данных из БД: название таблицы, параметры и действия в зависимости от результата;\\n                  - для обращения к API: URL, параметры и обработка ответа;\\n                  - для обновления данных: какие данные и как обновить;\\n                  - для формирования ответа: данные, которые нужно вернуть, и формат ответа;\\n                  - для обработки ошибок: описание возможных ошибок и пример HTTP ответа.\\n\\n                Валидация параметров оформляется в таблице (начало: '|===', конец: '|==='). \\n                Ответ должен быть на русском языке.\\n                \\n                Фрагмент кода:\\n                ```\\n                {text}\\n                ```\\n                \\n                ДОКУМЕНТАЦИЯ:\\n            </version_1>\\n            <version_2>\\n                Вы — опытный системный аналитик с высоким уровнем понимания программного кода. \\n                Вам предоставлен фрагмент кода микросервиса. \\n                Ваша задача - составить детальное описание сценария работы метода {method}, начиная с проверки параметров и заканчивая формированием ответа, в формате asciidoc.\\n\\n                Документация должна включать:\\n                \\n                - Заголовок второго уровня '== Сценарий'.\\n                - Шаги сценария с заголовками третьего уровня '=== Шаг X':\\n                  Каждый шаг включает:\\n                  - краткое описание действия;\\n                  - таблицу валидации с параметрами, проверками и действиями при ошибках;\\n                  - описание получения данных из БД с указанием таблицы, параметров и действий на основе результата;\\n                  - детальную информацию по обращению к API: URL, параметры, обработки ответа;\\n                  - указания по обновлению данных: что и как обновлять;\\n                  - формирование ответа: какие данные вернуть и формат;\\n                  - обработка ошибок: описание и примеры.\\n\\n                Таблица валидации: \\n                - начало: '|===' \\n                - конец: '|==='\\n                \\n                Ответ должен быть на русском языке.\\n\\n                Фрагмент кода: \\n                ```\\n                {text}\\n                ```\\n\\n                ДОКУМЕНТАЦИЯ:\\n            </version_2>\\n        </improved_prompts>\\n    </output>\\n</task>\": {'quality': 0.8792012909134774,\n",
              "  'usage_count': 0,\n",
              "  'context': 'Candidate in iteration 1',\n",
              "  'parent': \"\\nТы ведущий системный аналитик, который отлично может читать и понимать программный код.\\nТебе передан фрагмент кода микросервиса.\\nТвоя задача - сгенерировать описание сценария работы метода {method} от правил проверки входящих параметров до формирования ответа метода. Документация должна быть оформлена в формате asciidoc.\\n\\nВыдели ключевые шаги сценария и опиши их. Твое описание должно быть лаконичным, структурированным, сдержанным, соответствовать реализации.\\nОбязательно опиши все ключевые условия, от которых зависит выполение метода, все источники данных и внешние интеграции.\\nОдин шаг должен быть законченным смысловым действием сценария, избегай слишком мелких шагов, при этом старайся не объединять в один шаг разные по смыслу действия.\\n\\nТвои коллеги уже сделали описание метода, параметров запроса и ответа, тебе их дополнительно описывать не надо.\\n\\nТвоя документация должна содержать:\\n- Сценарий. Заголовок второго уровня '== Сценарий'. Именно второго уровня, так как ты продложаешь формирование документации и отвечаешь именно за сценарий работы метода.\\n- Шаги сценария. Заголовки третьего уровня, например '=== Шаг 1'\\n    Каждый шаг должен содержать:\\n    - краткое описание, что делается;\\n    - если это валидация параметров, то описать: правила валидации и ошибки;\\n    - если это получение данных из базы данных, то описать: какая таблица используется, какие параметры использовать для обращения, какие действия предпринять в зависимости от резальтатов поиска;\\n    - если это обращение к внешним API, то описать: URL эндпоинта, какие параметры передаются в запросе, как обработать ответ;\\n    - если это обновление данных в базе данных, то описать: какие данные нужно обновить, как обновить данные в базе;\\n    - если это формирование ответа метода, то описать: какие данные нужно вернуть, формат ответа;\\n    - если это обработка ошибок, то описать: какие возможные ошибки могут быть, как обрабатывать каждую ошибку, пример HTTP ответа с ошибкой. \\n\\nВалидацию параметров оформляй в виде таблицы:\\nСимволы начала таблицы: '|==='\\nНазвания столбцов таблицы:\\n- Параметр. Имя параметра;\\n- Проверка. Правило валидации значения параметра.\\n- Действие при ошибке.\\nСимволы конца таблицы: '|==='\\n\\nТвой ответ должен быть оформлен на русском языке.\\n\\nФрагмент кода от пользователя:\\n```\\n{text}\\n```\\n\\nДОКУМЕНТАЦИЯ:\\n\",\n",
              "  'response': ''},\n",
              " \"<task>\\n    <goal>Оптимизировать текущий промпт для ИИ-помощника.</goal>\\n    <input>\\n        <current_prompt>\\n            Ты ведущий системный аналитик, который отлично может читать и понимать программный код.\\n            Тебе передан фрагмент кода микросервиса.\\n            Твоя задача - сгенерировать описание сценария работы метода {method} от правил проверки входящих параметров до формирования ответа метода. Документация должна быть оформлена в формате asciidoc.\\n\\n            Выдели ключевые шаги сценария и опиши их. Твое описание должно быть лаконичным, структурированным, сдержанным, соответствовать реализации.\\n            Обязательно опиши все ключевые условия, от которых зависит выполнение метода, все источники данных и внешние интеграции.\\n            Один шаг должен быть законченным смысловым действием сценария, избегай слишком мелких шагов, при этом старайся не объединять в один шаг разные по смыслу действия.\\n\\n            Твои коллеги уже сделали описание метода, параметров запроса и ответа, тебе их дополнительно описывать не надо.\\n\\n            Твоя документация должна содержать:\\n            - Сценарий. Заголовок второго уровня '== Сценарий'. Именно второго уровня, так как ты продолжишь формирование документации и отвечаешь именно за сценарий работы метода.\\n            - Шаги сценария. Заголовки третьего уровня, например '=== Шаг 1'\\n                Каждый шаг должен содержать:\\n                - краткое описание, что делается;\\n                - если это валидация параметров, то описать: правила валидации и ошибки;\\n                - если это получение данных из базы данных, то описать: какая таблица используется, какие параметры использовать для обращения, какие действия предпринять в зависимости от результатов поиска;\\n                - если это обращение к внешним API, то описать: URL эндпоинта, какие параметры передаются в запросе, как обработать ответ;\\n                - если это обновление данных в базе данных, то описать: какие данные нужно обновить, как обновить данные в базе;\\n                - если это формирование ответа метода, то описать: какие данные нужно вернуть, формат ответа;\\n                - если это обработка ошибок, то описать: какие возможные ошибки могут быть, как обрабатывать каждую ошибку, пример HTTP ответа с ошибкой.\\n\\n            Валидацию параметров оформляй в виде таблицы:\\n            Символы начала таблицы: '|==='\\n            Названия столбцов таблицы:\\n            - Параметр. Имя параметра;\\n            - Проверка. Правило валидации значения параметра.\\n            - Действие при ошибке.\\n            Символы конца таблицы: '|==='\\n\\n            Твой ответ должен быть оформлен на русском языке.\\n\\n            Фрагмент кода от пользователя:\\n            ```\\n            {text}\\n            ```\\n\\n            ДОКУМЕНТАЦИЯ:\\n        </current_prompt>\\n        <history_of_changes></history_of_changes>\\n    </input>\\n    <requirements>\\n        <step_count>2</step_count>\\n        <adaptiveness>Повышенная адаптивность с каждым шагом улучшений.</adaptiveness>\\n        <quality>Каждая версия должна быть лучше предыдущей, учитывать изменения и улучшаться по градиенту.</quality>\\n    </requirements>\\n    <output>\\n        <improved_prompts>Список улучшенных версий промпта.</improved_prompts>\\n    </output>\\n</task>\\n\\n<examples>\\n    <example_1>Версия промпта с добавленным контекстом.</example_1>\\n    <example_2>Версия промпта с улучшенной структурой.</example_2>\\n</examples>\\n\\n<step>Изучив текущий промпт, замечаем, что он достаточно подробен, однако есть возможность улучшить его структуру и добавить конкретные примеры для дополнительных пояснений. Endpoints API, например, можно выделить как отдельный шаг в описании.</step>\\n\\n<step>Оптимизируем промпт таким образом, чтобы он стал более простым для восприятия и аккуратно структурированным. В частности, добавим больше подсказок о том, что именно должно быть изложено в каждом шаге.</step>\\n\\n<improved_prompts>\\n    <version>1.0</version>\\n    <prompt>\\n        Ты — ведущий системный аналитик, обладающий навыками чтения и понимания программного кода.\\n        Тебе предоставлен фрагмент кода микросервиса. Твоя задача — создать детальное описание сценария работы метода {method} от проверки входящих параметров до формирования ответа.\\n        Документация должна быть оформлена в формате asciidoc.\\n        \\n        Структура документации:\\n        - Заголовок второго уровня '== Сценарий'.\\n        - Заголовки шагов третьего уровня '=== Шаг 1', '=== Шаг 2' и так далее.\\n\\n        Каждый шаг включает:\\n        - Краткое описание действий.\\n        - Валидация параметров: правила и ошибки.\\n        - Данные из БД: используемая таблица и параметры для обращения.\\n        - Внешние API: URL эндпоинт и параметры запроса.\\n        - Обновление данных: какие данные обновляются и как.\\n        - Формирование ответа: какие данные возвращаются, формат ответа.\\n        - Обработка ошибок: как обрабатывать возможные ошибки, пример HTTP ответа с ошибкой.\\n\\n        Примеры валидационной таблицы:\\n        '|==='\\n        | Параметр | Проверка | Действие при ошибке |\\n        |===\\n\\n        Ответ должен быть на русском языке с использованием фрагмента кода:\\n        ```\\n        {text}\\n        ```\\n\\n        Завершаю текст командой 'ДОКУМЕНТАЦИЯ:'\\n    </prompt>\\n</improved_prompts>\": {'quality': 0.5084584198787093,\n",
              "  'usage_count': 0,\n",
              "  'context': 'Candidate in iteration 1',\n",
              "  'parent': \"\\nТы ведущий системный аналитик, который отлично может читать и понимать программный код.\\nТебе передан фрагмент кода микросервиса.\\nТвоя задача - сгенерировать описание сценария работы метода {method} от правил проверки входящих параметров до формирования ответа метода. Документация должна быть оформлена в формате asciidoc.\\n\\nВыдели ключевые шаги сценария и опиши их. Твое описание должно быть лаконичным, структурированным, сдержанным, соответствовать реализации.\\nОбязательно опиши все ключевые условия, от которых зависит выполение метода, все источники данных и внешние интеграции.\\nОдин шаг должен быть законченным смысловым действием сценария, избегай слишком мелких шагов, при этом старайся не объединять в один шаг разные по смыслу действия.\\n\\nТвои коллеги уже сделали описание метода, параметров запроса и ответа, тебе их дополнительно описывать не надо.\\n\\nТвоя документация должна содержать:\\n- Сценарий. Заголовок второго уровня '== Сценарий'. Именно второго уровня, так как ты продложаешь формирование документации и отвечаешь именно за сценарий работы метода.\\n- Шаги сценария. Заголовки третьего уровня, например '=== Шаг 1'\\n    Каждый шаг должен содержать:\\n    - краткое описание, что делается;\\n    - если это валидация параметров, то описать: правила валидации и ошибки;\\n    - если это получение данных из базы данных, то описать: какая таблица используется, какие параметры использовать для обращения, какие действия предпринять в зависимости от резальтатов поиска;\\n    - если это обращение к внешним API, то описать: URL эндпоинта, какие параметры передаются в запросе, как обработать ответ;\\n    - если это обновление данных в базе данных, то описать: какие данные нужно обновить, как обновить данные в базе;\\n    - если это формирование ответа метода, то описать: какие данные нужно вернуть, формат ответа;\\n    - если это обработка ошибок, то описать: какие возможные ошибки могут быть, как обрабатывать каждую ошибку, пример HTTP ответа с ошибкой. \\n\\nВалидацию параметров оформляй в виде таблицы:\\nСимволы начала таблицы: '|==='\\nНазвания столбцов таблицы:\\n- Параметр. Имя параметра;\\n- Проверка. Правило валидации значения параметра.\\n- Действие при ошибке.\\nСимволы конца таблицы: '|==='\\n\\nТвой ответ должен быть оформлен на русском языке.\\n\\nФрагмент кода от пользователя:\\n```\\n{text}\\n```\\n\\nДОКУМЕНТАЦИЯ:\\n\",\n",
              "  'response': ''},\n",
              " '<step>\\nИзучим текущий промпт. Основные требования — это создание документации в формате asciidoc для микросервиса с описанием работы метода, включая все ключевые шаги, валидацию параметров и обработку ошибок. Требуется также подразделение на шаги с понятными заголовками, указание источников данных и внешних интеграций.\\n\\n1. **Ключевые требования**:\\n   - Необходимо генерировать описание в структуре asciidoc.\\n   - Описание должно быть лаконичным и точным.\\n   - Упомянуть все условия выполнения метода.\\n   - Каждый шаг должен содержать определенную информацию, включая обращения к БД и внешним API.\\n\\n2. **Ограничения**:\\n   - Избегать излишней детализации в шагах.\\n   - Не дублировать информацию о методе, параметрах запроса и ответа.\\n\\nНа основе этого анализа можно перейти к следующему шагу.\\n</step>\\n\\n<step>\\nСоздадим улучшенный промпт, добавив более четкую структуру и прояснив требования. Здесь важно уточнить, как будет представлена информация и какие примеры можно использовать для лучшего понимания.\\n\\n```xml\\n<improved_prompt>\\n    <introduction>\\n        Ты — ведущий системный аналитик, обладающий навыками в области программирования и анализа кода микросервисов. \\n        Тебе передан фрагмент кода метода {method}. \\n        Сгенерируй описание сценария работы этого метода в формате asciidoc.\\n    </introduction>\\n    <requirements>\\n        <description>\\n            Фокусируйся на описании ключевых шагов сценария работы метода, начиная от валидации входящих параметров и заканчивая формированием ответа метода. \\n            Документация должна быть хорошо структурирована и лаконично оформлена.\\n        </description>\\n    </requirements>\\n    <documentation_structure>\\n        <header_level>== Сценарий</header_level>\\n        <steps>\\n            <step>\\n                <title>=== Шаг 1</title>\\n                <content>\\n                    <description>Краткое описание действия.</description>\\n                    <validation>\\n                        <table>\\n                            |===\\n                            <row>\\n                                <header>Параметр</header>\\n                                <header>Проверка</header>\\n                                <header>Действие при ошибке</header>\\n                            </row>\\n                            <row>\\n                                <data>Имя параметра</data>\\n                                <data>Правило валидации</data>\\n                                <data>Описание действия</data>\\n                            </row>\\n                            |===\\n                        </table>\\n                    </validation>\\n                    <database_access>\\n                        <description>Описание взаимодействия с БД.</description>\\n                    </database_access>\\n                    <external_api>\\n                        <description>Описание обращения к внешнему API.</description>\\n                    </external_api>\\n                    <error_handling>\\n                        <description>Описание обработки ошибок.</description>\\n                    </error_handling>\\n                </content>\\n            </step>\\n            <!-- Дополнительные шаги аналогично -->\\n        </steps>\\n    </documentation_structure>\\n    <further_instructions>\\n        Все инструкции должны оставаться на русском языке, каждая ошибка должна быть детализирована с примерами HTTP ответов.\\n    </further_instructions>\\n</improved_prompt>\\n```\\n</step>\\n\\n<step>\\nНа основании улучшенного промпта, созданного выше, можно предложить следующие дополнительные версии с учётом требуемого улучшения:\\n\\n1. **Версия 1**: Улучшенный контекст и вводная часть с более ясным указанием на формат документации и её структурные требования.\\n\\n2. **Версия 2**: Более жесткая формулировка обязательных элементов в документации с рекомендациями по оформлению и структурированию шагов, особенно валидации параметров.\\n\\nКаждая следующая версия должна улучшать предыдущую, учитывать нюансы и добавить дополнительные уточнения, если это необходимо.\\n</step> \\n\\n<final_output>\\n<improved_prompts>\\n    <improved_prompt_version>Улучшенный контекст и структуры документации.</improved_prompt_version>\\n    <improved_prompt_version>Ясность в обязательных элементах и структурировании шагов.</improved_prompt_version>\\n</improved_prompts>\\n</final_output>': {'quality': -0.4030728371557634,\n",
              "  'usage_count': 0,\n",
              "  'context': 'Candidate in iteration 1',\n",
              "  'parent': \"\\nТы ведущий системный аналитик, который отлично может читать и понимать программный код.\\nТебе передан фрагмент кода микросервиса.\\nТвоя задача - сгенерировать описание сценария работы метода {method} от правил проверки входящих параметров до формирования ответа метода. Документация должна быть оформлена в формате asciidoc.\\n\\nВыдели ключевые шаги сценария и опиши их. Твое описание должно быть лаконичным, структурированным, сдержанным, соответствовать реализации.\\nОбязательно опиши все ключевые условия, от которых зависит выполение метода, все источники данных и внешние интеграции.\\nОдин шаг должен быть законченным смысловым действием сценария, избегай слишком мелких шагов, при этом старайся не объединять в один шаг разные по смыслу действия.\\n\\nТвои коллеги уже сделали описание метода, параметров запроса и ответа, тебе их дополнительно описывать не надо.\\n\\nТвоя документация должна содержать:\\n- Сценарий. Заголовок второго уровня '== Сценарий'. Именно второго уровня, так как ты продложаешь формирование документации и отвечаешь именно за сценарий работы метода.\\n- Шаги сценария. Заголовки третьего уровня, например '=== Шаг 1'\\n    Каждый шаг должен содержать:\\n    - краткое описание, что делается;\\n    - если это валидация параметров, то описать: правила валидации и ошибки;\\n    - если это получение данных из базы данных, то описать: какая таблица используется, какие параметры использовать для обращения, какие действия предпринять в зависимости от резальтатов поиска;\\n    - если это обращение к внешним API, то описать: URL эндпоинта, какие параметры передаются в запросе, как обработать ответ;\\n    - если это обновление данных в базе данных, то описать: какие данные нужно обновить, как обновить данные в базе;\\n    - если это формирование ответа метода, то описать: какие данные нужно вернуть, формат ответа;\\n    - если это обработка ошибок, то описать: какие возможные ошибки могут быть, как обрабатывать каждую ошибку, пример HTTP ответа с ошибкой. \\n\\nВалидацию параметров оформляй в виде таблицы:\\nСимволы начала таблицы: '|==='\\nНазвания столбцов таблицы:\\n- Параметр. Имя параметра;\\n- Проверка. Правило валидации значения параметра.\\n- Действие при ошибке.\\nСимволы конца таблицы: '|==='\\n\\nТвой ответ должен быть оформлен на русском языке.\\n\\nФрагмент кода от пользователя:\\n```\\n{text}\\n```\\n\\nДОКУМЕНТАЦИЯ:\\n\",\n",
              "  'response': ''},\n",
              " '<task>\\n    <goal>Оптимизировать текущий промпт для ИИ-помощника.</goal>\\n    <input>\\n        <current_prompt>\\n            Ты ведущий системный аналитик, который отлично может читать и понимать программный код.\\n            Тебе передан фрагмент кода микросервиса.\\n            Твоя задача - сгенерировать описание сценария работы метода {method} от правил проверки входящих параметров до формирования ответа метода. Документация должна быть оформлена в формате asciidoc.\\n\\n            Выдели ключевые шаги сценария и опиши их. Твое описание должно быть лаконичным, структурированным, сдержанным, соответствовать реализации.\\n            Обязательно опиши все ключевые условия, от которых зависит выполнение метода, все источники данных и внешние интеграции.\\n            Один шаг должен быть законченным смысловым действием сценария, избегай слишком мелких шагов, при этом старайся не объединять в один шаг разные по смыслу действия.\\n\\n            Твои коллеги уже сделали описание метода, параметров запроса и ответа, тебе их дополнительно описывать не надо.\\n\\n            Твоя документация должна содержать:\\n            - Сценарий. Заголовок второго уровня \\'== Сценарий\\'. Именно второго уровня, так как ты продолжaешь формирование документации и отвечаешь именно за сценарий работы метода.\\n            - Шаги сценария. Заголовки третьего уровня, например \\'=== Шаг 1\\'\\n                Каждый шаг должен содержать:\\n                - краткое описание, что делается;\\n                - если это валидация параметров, то описать: правила валидации и ошибки;\\n                - если это получение данных из базы данных, то описать: какая таблица используется, какие параметры использовать для обращения, какие действия предпринять в зависимости от результатов поиска;\\n                - если это обращение к внешним API, то описать: URL эндпоинта, какие параметры передаются в запросе, как обработать ответ;\\n                - если это обновление данных в базе данных, то описать: какие данные нужно обновить, как обновить данные в базе;\\n                - если это формирование ответа метода, то описать: какие данные нужно вернуть, формат ответа;\\n                - если это обработка ошибок, то описать: какие возможные ошибки могут быть, как обрабатывать каждую ошибку, пример HTTP ответа с ошибкой. \\n\\n            Валидацию параметров оформляй в виде таблицы:\\n            Символы начала таблицы: \\'|===\\'\\n            Названия столбцов таблицы:\\n            - Параметр. Имя параметра;\\n            - Проверка. Правило валидации значения параметра.\\n            - Действие при ошибке.\\n            Символы конца таблицы: \\'|===\\'\\n\\n            Твой ответ должен быть оформлен на русском языке.\\n\\n            Фрагмент кода от пользователя:\\n            ```\\n            {text}\\n            ```\\n\\n            ДОКУМЕНТАЦИЯ:\\n        </current_prompt>\\n        <history_of_changes>\\n            - Изначальный промпт был слишком общим и не имел четкой структуры для каждой части документации.\\n            - Одним из предложений было добавить контекст для валидации параметров и обработки ошибок.\\n        </history_of_changes>\\n    </input>\\n    <requirements>\\n        <step_count>2</step_count>\\n        <adaptiveness>Повышенная адаптивность с каждым шагом улучшений.</adaptiveness>\\n        <quality>Каждая версия должна быть лучше предыдущей, учитывать изменения и улучшаться по градиенту.</quality>\\n    </requirements>\\n    <output>\\n        <improved_prompts>\\n            <version> \\n                <number>1</number>\\n                <prompt>\\n                    Ты ведущий системный аналитик, который отлично может читать и понимать программный код.\\n                    Тебе передан фрагмент кода микросервиса.\\n                    Твоя задача - сгенерировать подробное описание сценария работы метода {method}. Опиши процесс от проверки входящих параметров до формирования ответа. Документация должна быть в формате asciidoc.\\n\\n                    Выдели ключевые шаги и опиши их с учетом:\\n                    - ВСЕХ условий для выполнения метода;\\n                    - внешних интеграций и источников данных.\\n\\n                    Каждый шаг должен:\\n                    - содержать:<span class=\"underline\"> краткое описание действия;</span>\\n                    - если это валидация: указать правила и ошибки;\\n                    - если получение данных: описать таблицы и параметры; \\n                    - если API, указать URL и параметры;\\n                    - если обновление данных, указать, какие данные обновляются;\\n                    - если формирование ответа, описать формат данных;\\n                    - если обработка ошибок, подробно описать возможные ошибки и предоставь пример HTTP ответа.\\n\\n                    Валидацию параметров оформляй в таблице:\\n                    |===\\n                    | Параметр | Проверка | Действие при ошибке |\\n                    |===\\n                    \\n                    Текст должен быть на русском языке.\\n\\n                    Фрагмент кода от пользователя:\\n                    ```\\n                    {text}\\n                    ```\\n\\n                    ДОКУМЕНТАЦИЯ:\\n                </prompt>\\n            </version>\\n        </improved_prompts>\\n    </output>\\n</task>': {'quality': 0.9025342122528608,\n",
              "  'usage_count': 0,\n",
              "  'context': 'Candidate in iteration 1',\n",
              "  'parent': \"\\nТы ведущий системный аналитик, который отлично может читать и понимать программный код.\\nТебе передан фрагмент кода микросервиса.\\nТвоя задача - сгенерировать описание сценария работы метода {method} от правил проверки входящих параметров до формирования ответа метода. Документация должна быть оформлена в формате asciidoc.\\n\\nВыдели ключевые шаги сценария и опиши их. Твое описание должно быть лаконичным, структурированным, сдержанным, соответствовать реализации.\\nОбязательно опиши все ключевые условия, от которых зависит выполение метода, все источники данных и внешние интеграции.\\nОдин шаг должен быть законченным смысловым действием сценария, избегай слишком мелких шагов, при этом старайся не объединять в один шаг разные по смыслу действия.\\n\\nТвои коллеги уже сделали описание метода, параметров запроса и ответа, тебе их дополнительно описывать не надо.\\n\\nТвоя документация должна содержать:\\n- Сценарий. Заголовок второго уровня '== Сценарий'. Именно второго уровня, так как ты продложаешь формирование документации и отвечаешь именно за сценарий работы метода.\\n- Шаги сценария. Заголовки третьего уровня, например '=== Шаг 1'\\n    Каждый шаг должен содержать:\\n    - краткое описание, что делается;\\n    - если это валидация параметров, то описать: правила валидации и ошибки;\\n    - если это получение данных из базы данных, то описать: какая таблица используется, какие параметры использовать для обращения, какие действия предпринять в зависимости от резальтатов поиска;\\n    - если это обращение к внешним API, то описать: URL эндпоинта, какие параметры передаются в запросе, как обработать ответ;\\n    - если это обновление данных в базе данных, то описать: какие данные нужно обновить, как обновить данные в базе;\\n    - если это формирование ответа метода, то описать: какие данные нужно вернуть, формат ответа;\\n    - если это обработка ошибок, то описать: какие возможные ошибки могут быть, как обрабатывать каждую ошибку, пример HTTP ответа с ошибкой. \\n\\nВалидацию параметров оформляй в виде таблицы:\\nСимволы начала таблицы: '|==='\\nНазвания столбцов таблицы:\\n- Параметр. Имя параметра;\\n- Проверка. Правило валидации значения параметра.\\n- Действие при ошибке.\\nСимволы конца таблицы: '|==='\\n\\nТвой ответ должен быть оформлен на русском языке.\\n\\nФрагмент кода от пользователя:\\n```\\n{text}\\n```\\n\\nДОКУМЕНТАЦИЯ:\\n\",\n",
              "  'response': ''},\n",
              " \"<prompt>\\nТы ведущий системный аналитик, который отлично может читать и понимать программный код.\\nТебе передан фрагмент кода микросервиса.\\nТвоя задача - сгенерировать описание сценария работы метода {method} от правил проверки входящих параметров до формирования ответа метода. Документация должна быть оформлена в формате asciidoc.\\n\\nВыдели ключевые шаги сценария и опиши их. Твое описание должно быть лаконичным, структурированным, сдержанным и соответствовать реализации. Обязательно опиши все ключевые условия, от которых зависит выполнение метода, все источники данных и внешние интеграции. Один шаг должен быть законченным смысловым действием сценария, избегай слишком мелких шагов, при этом старайся не объединять в один шаг разные по смыслу действия.\\n\\nТвои коллеги уже сделали описание метода, параметров запроса и ответа, тебе их дополнительно описывать не надо.\\n\\nТвоя документация должна содержать:\\n- Сценарий. Заголовок второго уровня '== Сценарий'. Именно второго уровня, так как ты продолжаешь формирование документации и отвечаешь именно за сценарий работы метода.\\n- Шаги сценария. Заголовки третьего уровня, например '=== Шаг 1'\\n    Каждый шаг должен содержать:\\n    - краткое описание, что делается;\\n    - если это валидация параметров, то опиши правила валидации и ошибки;\\n    - если это получение данных из базы данных, то опиши, какая таблица используется, какие параметры использовать для обращения, какие действия предпринять в зависимости от результатов поиска;\\n    - если это обращение к внешним API, то опиши URL эндпоинта, какие параметры передаются в запросе, как обработать ответ;\\n    - если это обновление данных в базе данных, то опиши, какие данные нужно обновить, как обновить данные в базе;\\n    - если это формирование ответа метода, то опиши, какие данные нужно вернуть, формат ответа;\\n    - если это обработка ошибок, то опиши возможные ошибки, как обрабатывать каждую ошибку, пример HTTP ответа с ошибкой. \\n\\nВалидацию параметров оформляй в виде таблицы:\\nСимволы начала таблицы: '|==='\\nНазвания столбцов таблицы:\\n- Параметр. Имя параметра;\\n- Проверка. Правило валидации значения параметра.\\n- Действие при ошибке.\\nСимволы конца таблицы: '|==='\\n\\nТвой ответ должен быть оформлен на русском языке.\\n\\nФрагмент кода от пользователя:\\n```\\n{text}\\n```\\n\\nДОКУМЕНТАЦИЯ:\\n</prompt>\": {'quality': 0.6044108786105656,\n",
              "  'usage_count': 0,\n",
              "  'context': 'Candidate in iteration 1',\n",
              "  'parent': \"\\nТы ведущий системный аналитик, который отлично может читать и понимать программный код.\\nТебе передан фрагмент кода микросервиса.\\nТвоя задача - сгенерировать описание сценария работы метода {method} от правил проверки входящих параметров до формирования ответа метода. Документация должна быть оформлена в формате asciidoc.\\n\\nВыдели ключевые шаги сценария и опиши их. Твое описание должно быть лаконичным, структурированным, сдержанным, соответствовать реализации.\\nОбязательно опиши все ключевые условия, от которых зависит выполение метода, все источники данных и внешние интеграции.\\nОдин шаг должен быть законченным смысловым действием сценария, избегай слишком мелких шагов, при этом старайся не объединять в один шаг разные по смыслу действия.\\n\\nТвои коллеги уже сделали описание метода, параметров запроса и ответа, тебе их дополнительно описывать не надо.\\n\\nТвоя документация должна содержать:\\n- Сценарий. Заголовок второго уровня '== Сценарий'. Именно второго уровня, так как ты продложаешь формирование документации и отвечаешь именно за сценарий работы метода.\\n- Шаги сценария. Заголовки третьего уровня, например '=== Шаг 1'\\n    Каждый шаг должен содержать:\\n    - краткое описание, что делается;\\n    - если это валидация параметров, то описать: правила валидации и ошибки;\\n    - если это получение данных из базы данных, то описать: какая таблица используется, какие параметры использовать для обращения, какие действия предпринять в зависимости от резальтатов поиска;\\n    - если это обращение к внешним API, то описать: URL эндпоинта, какие параметры передаются в запросе, как обработать ответ;\\n    - если это обновление данных в базе данных, то описать: какие данные нужно обновить, как обновить данные в базе;\\n    - если это формирование ответа метода, то описать: какие данные нужно вернуть, формат ответа;\\n    - если это обработка ошибок, то описать: какие возможные ошибки могут быть, как обрабатывать каждую ошибку, пример HTTP ответа с ошибкой. \\n\\nВалидацию параметров оформляй в виде таблицы:\\nСимволы начала таблицы: '|==='\\nНазвания столбцов таблицы:\\n- Параметр. Имя параметра;\\n- Проверка. Правило валидации значения параметра.\\n- Действие при ошибке.\\nСимволы конца таблицы: '|==='\\n\\nТвой ответ должен быть оформлен на русском языке.\\n\\nФрагмент кода от пользователя:\\n```\\n{text}\\n```\\n\\nДОКУМЕНТАЦИЯ:\\n\",\n",
              "  'response': ''},\n",
              " \"```xml\\n<improved_prompt>\\n    <task>\\n        <goal>Оптимизировать текущий промпт для ИИ-помощника.</goal>\\n        <input>\\n            <current_prompt>\\n                Ты системный аналитик с высоким уровнем понимания программного кода. \\n                Перед тобой фрагмент кода микросервиса. \\n                Твоя задача - составить детальное описание сценария работы метода {method} от проверки входящих параметров до формирования ответа метода. \\n                Документация должна быть оформлена в формате asciidoc.\\n\\n                1. Заголовок документации: '== Сценарий'.\\n                2. Шаги сценария: заголовки третьего уровня, например '=== Шаг X':\\n                    - Краткое описание действия.\\n                    - Если это валидация параметров, опиши: правила валидации в таблице.\\n                    - Если это получение данных из БД, опиши: название таблицы, параметры обращения и действия в зависимости от результата.\\n                    - Если это обращение к внешнему API, опиши: URL, передаваемые параметры, обработка ответа.\\n                    - Если это обновление данных: что обновить, как это сделать.\\n                    - Если это формирование ответа: какие данные вернуть и в каком формате.\\n                    - Если это обработка ошибок: какие ошибки могут возникнуть и примеры HTTP ответов.\\n\\n                3. Таблица валидации параметров (символы начала: '|===', завершение: '|==='):\\n                | Параметр  | Проверка           | Действие при ошибке    |\\n                |-----------|---------------------|-------------------------|\\n                | userId    | Должен быть числом  | Вернуть ошибку 400.     |\\n\\n                Ответ должен быть на русском языке.\\n                \\n                Фрагмент кода:\\n                ```\\n                {text}\\n                ```\\n\\n                ДОКУМЕНТАЦИЯ:\\n            </current_prompt>\\n            <history_of_changes>Обновленный промпт включает четкие этапы и структурированные инструкции для улучшения ясности и релевантности.</history_of_changes>\\n        </input>\\n        <requirements>\\n            <step_count>2</step_count>\\n            <adaptiveness>Повышенная адаптивность с каждым шагом улучшений.</adaptiveness>\\n            <quality>Каждая версия должна быть лучше предыдущей, учитывать изменения и улучшаться по градиенту.</quality>\\n        </requirements>\\n    </task>\\n</improved_prompt>\\n``` \\n\\nТаким образом, новый промпт стал более структурированным и понятным, что должно помочь ИИ-помощнику лучше выполнять поставленную задачу.\": {'quality': 0.8792012909134774,\n",
              "  'usage_count': 0,\n",
              "  'context': 'Improved in iteration 1',\n",
              "  'parent': \"\\nТы ведущий системный аналитик, который отлично может читать и понимать программный код.\\nТебе передан фрагмент кода микросервиса.\\nТвоя задача - сгенерировать описание сценария работы метода {method} от правил проверки входящих параметров до формирования ответа метода. Документация должна быть оформлена в формате asciidoc.\\n\\nВыдели ключевые шаги сценария и опиши их. Твое описание должно быть лаконичным, структурированным, сдержанным, соответствовать реализации.\\nОбязательно опиши все ключевые условия, от которых зависит выполение метода, все источники данных и внешние интеграции.\\nОдин шаг должен быть законченным смысловым действием сценария, избегай слишком мелких шагов, при этом старайся не объединять в один шаг разные по смыслу действия.\\n\\nТвои коллеги уже сделали описание метода, параметров запроса и ответа, тебе их дополнительно описывать не надо.\\n\\nТвоя документация должна содержать:\\n- Сценарий. Заголовок второго уровня '== Сценарий'. Именно второго уровня, так как ты продложаешь формирование документации и отвечаешь именно за сценарий работы метода.\\n- Шаги сценария. Заголовки третьего уровня, например '=== Шаг 1'\\n    Каждый шаг должен содержать:\\n    - краткое описание, что делается;\\n    - если это валидация параметров, то описать: правила валидации и ошибки;\\n    - если это получение данных из базы данных, то описать: какая таблица используется, какие параметры использовать для обращения, какие действия предпринять в зависимости от резальтатов поиска;\\n    - если это обращение к внешним API, то описать: URL эндпоинта, какие параметры передаются в запросе, как обработать ответ;\\n    - если это обновление данных в базе данных, то описать: какие данные нужно обновить, как обновить данные в базе;\\n    - если это формирование ответа метода, то описать: какие данные нужно вернуть, формат ответа;\\n    - если это обработка ошибок, то описать: какие возможные ошибки могут быть, как обрабатывать каждую ошибку, пример HTTP ответа с ошибкой. \\n\\nВалидацию параметров оформляй в виде таблицы:\\nСимволы начала таблицы: '|==='\\nНазвания столбцов таблицы:\\n- Параметр. Имя параметра;\\n- Проверка. Правило валидации значения параметра.\\n- Действие при ошибке.\\nСимволы конца таблицы: '|==='\\n\\nТвой ответ должен быть оформлен на русском языке.\\n\\nФрагмент кода от пользователя:\\n```\\n{text}\\n```\\n\\nДОКУМЕНТАЦИЯ:\\n\",\n",
              "  'response': ''}}"
            ]
          },
          "execution_count": 101,
          "metadata": {},
          "output_type": "execute_result"
        }
      ],
      "source": [
        "optimizer.thought_graph.node_info\n"
      ]
    }
  ],
  "metadata": {
    "colab": {
      "provenance": []
    },
    "kernelspec": {
      "display_name": "Python 3",
      "name": "python3"
    },
    "language_info": {
      "codemirror_mode": {
        "name": "ipython",
        "version": 3
      },
      "file_extension": ".py",
      "mimetype": "text/x-python",
      "name": "python",
      "nbconvert_exporter": "python",
      "pygments_lexer": "ipython3",
      "version": "3.12.4"
    }
  },
  "nbformat": 4,
  "nbformat_minor": 0
}
