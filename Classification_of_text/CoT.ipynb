{
 "cells": [
  {
   "cell_type": "markdown",
   "id": "7eae4a02",
   "metadata": {},
   "source": [
    "### Тонкая настройка и оценка модели бинарной классификации юридических текстов на русском языке с использованием ruBERT 🤖📚\n",
    "\n",
    "**Цель** 🎯\n",
    "\n",
    "Целью проекта является разработка модели на основе трансформера BERT, адаптированного для бинарной классификации русскоязычных юридических текстов. Задача модели — определить, содержит ли текст юридические ошибки (класс 1) или же он юридически корректен (класс 0), с целью достижения метрики F1 не менее 0.9.\n",
    "\n",
    "**Описание** 🧪🔬\n",
    "\n",
    "Проект охватывает полный цикл машинного обучения, начиная с подготовки и анализа данных, до обучения, валидации и тестирования модели. Основная задача — эффективное использование предобученной модели BERT для русского языка, специально настроенной для задачи классификации текстов. Процесс реализации проекта включает в себя следующие этапы:\n",
    "\n",
    "**Подготовка данных:**\n",
    "\n",
    "- Анализ исходных данных, включая загрузку, предварительный анализ содержания и структуры данных.\n",
    "- Предобработка данных, что включает в себя токенизацию текстов и их преобразование в формат тензоров, подходящих для обработки моделью.\n",
    "- Разделение данных на обучающую, валидационную и тестовую выборки с учетом баланса классов, что обеспечивает честное и корректное обучение и оценку модели.\n",
    "\n",
    "**Обучение модели:**\n",
    "\n",
    "- Настройка архитектуры модели на основе BERT, включая адаптацию модели под конкретную задачу с оптимизацией гиперпараметров.\n",
    "- Обучение модифицированной модели, используя техники тонкой настройки для максимальной эффективности в задаче классификации.\n",
    "\n",
    "**Валидация и тестирование модели:**\n",
    "\n",
    "- Оценка производительности модели на валидационном наборе данных, используя метрики точности, полноты и F1-меры для оценки её способности к обобщению.\n",
    "- Тестирование модели на отдельном тестовом наборе данных для окончательной верификации её эффективности и надежности предсказаний."
   ]
  },
  {
   "cell_type": "code",
   "execution_count": 1,
   "id": "d3068a0b-0c82-4f46-9ba5-ee01fd9a6138",
   "metadata": {
    "tags": []
   },
   "outputs": [
    {
     "name": "stdout",
     "output_type": "stream",
     "text": [
      "Note: you may need to restart the kernel to use updated packages.\n"
     ]
    }
   ],
   "source": [
    "%pip install -q transformers torch"
   ]
  },
  {
   "cell_type": "code",
   "execution_count": 1,
   "id": "b3b5b5be-9a53-4263-87bb-b74ade59e962",
   "metadata": {
    "tags": []
   },
   "outputs": [],
   "source": [
    "import os\n",
    "import re\n",
    "import pickle\n",
    "import numpy as np\n",
    "import pandas as pd\n",
    "from tqdm import tqdm\n",
    "from sklearn.model_selection import train_test_split\n",
    "from sklearn.metrics import accuracy_score, precision_score, recall_score, f1_score, classification_report\n",
    "\n",
    "\n",
    "import torch\n",
    "import torch.nn as nn\n",
    "import transformers\n",
    "from transformers import AutoModel, BertTokenizer, BertConfig, BertForSequenceClassification, AdamW\n",
    "from torch.utils.data import TensorDataset, DataLoader, RandomSampler, SequentialSampler\n",
    "\n",
    "tqdm.pandas()\n",
    "\n",
    "device = torch.device('cuda' if torch.cuda.is_available() else 'cpu')"
   ]
  },
  {
   "cell_type": "code",
   "execution_count": 2,
   "id": "5c6f11e2-afe5-4baa-b31d-63a3e96497b6",
   "metadata": {
    "tags": []
   },
   "outputs": [
    {
     "name": "stderr",
     "output_type": "stream",
     "text": [
      "/opt/conda/lib/python3.11/site-packages/torch/_utils.py:831: UserWarning: TypedStorage is deprecated. It will be removed in the future and UntypedStorage will be the only storage class. This should only matter to you if you are using storages directly.  To access UntypedStorage directly, use tensor.untyped_storage() instead of tensor.storage()\n",
      "  return self.fget.__get__(instance, owner)()\n"
     ]
    }
   ],
   "source": [
    "# Загружаем предобученную модель BERT для русского языка.\n",
    "bert = AutoModel.from_pretrained('.', local_files_only=True)\n",
    "\n",
    "# Загружаем токенизатор для предобученной модели BERT, предназначенный для русского языка.\n",
    "tokenizer = BertTokenizer.from_pretrained('.', local_files_only=True)"
   ]
  },
  {
   "cell_type": "code",
   "execution_count": 2,
   "id": "463240f3-78e1-4bf5-836f-010ab1de7a61",
   "metadata": {
    "tags": []
   },
   "outputs": [],
   "source": [
    "# Загружаем данные\n",
    "train_df = pd.read_csv('balance_df.csv')"
   ]
  },
  {
   "cell_type": "code",
   "execution_count": 5,
   "id": "9d7366c8-2efb-413b-bfe1-b0d2d3e45613",
   "metadata": {},
   "outputs": [
    {
     "name": "stdout",
     "output_type": "stream",
     "text": [
      "<class 'pandas.core.frame.DataFrame'>\n",
      "RangeIndex: 10000 entries, 0 to 9999\n",
      "Data columns (total 2 columns):\n",
      " #   Column  Non-Null Count  Dtype \n",
      "---  ------  --------------  ----- \n",
      " 0   text    10000 non-null  object\n",
      " 1   target  10000 non-null  int64 \n",
      "dtypes: int64(1), object(1)\n",
      "memory usage: 156.4+ KB\n"
     ]
    }
   ],
   "source": [
    "train_df.info()"
   ]
  },
  {
   "cell_type": "code",
   "execution_count": 6,
   "id": "a7cdc9c1-1b85-40a8-b1a6-bb3494172276",
   "metadata": {},
   "outputs": [
    {
     "data": {
      "text/html": [
       "<div>\n",
       "<style scoped>\n",
       "    .dataframe tbody tr th:only-of-type {\n",
       "        vertical-align: middle;\n",
       "    }\n",
       "\n",
       "    .dataframe tbody tr th {\n",
       "        vertical-align: top;\n",
       "    }\n",
       "\n",
       "    .dataframe thead th {\n",
       "        text-align: right;\n",
       "    }\n",
       "</style>\n",
       "<table border=\"1\" class=\"dataframe\">\n",
       "  <thead>\n",
       "    <tr style=\"text-align: right;\">\n",
       "      <th></th>\n",
       "      <th>text</th>\n",
       "      <th>target</th>\n",
       "    </tr>\n",
       "  </thead>\n",
       "  <tbody>\n",
       "    <tr>\n",
       "      <th>0</th>\n",
       "      <td>РЕШЕНИЕ Именем Российской Федерации  25 июня 2...</td>\n",
       "      <td>0</td>\n",
       "    </tr>\n",
       "    <tr>\n",
       "      <th>1</th>\n",
       "      <td>1  РЕШЕНИЕ Именем Российской Федерации  19 окт...</td>\n",
       "      <td>0</td>\n",
       "    </tr>\n",
       "    <tr>\n",
       "      <th>2</th>\n",
       "      <td>...</td>\n",
       "      <td>0</td>\n",
       "    </tr>\n",
       "    <tr>\n",
       "      <th>3</th>\n",
       "      <td>РЕШЕНИЕ ИМЕНЕМ РОССИЙСКОЙ ФЕДЕРАЦИИ  дата    ...</td>\n",
       "      <td>0</td>\n",
       "    </tr>\n",
       "    <tr>\n",
       "      <th>4</th>\n",
       "      <td>РЕШЕНИЕ     Именем Российской Федерации  21 де...</td>\n",
       "      <td>0</td>\n",
       "    </tr>\n",
       "  </tbody>\n",
       "</table>\n",
       "</div>"
      ],
      "text/plain": [
       "                                                text  target\n",
       "0  РЕШЕНИЕ Именем Российской Федерации  25 июня 2...       0\n",
       "1  1  РЕШЕНИЕ Именем Российской Федерации  19 окт...       0\n",
       "2                                                ...       0\n",
       "3   РЕШЕНИЕ ИМЕНЕМ РОССИЙСКОЙ ФЕДЕРАЦИИ  дата    ...       0\n",
       "4  РЕШЕНИЕ     Именем Российской Федерации  21 де...       0"
      ]
     },
     "execution_count": 6,
     "metadata": {},
     "output_type": "execute_result"
    }
   ],
   "source": [
    "train_df.head()"
   ]
  },
  {
   "cell_type": "code",
   "execution_count": 4,
   "id": "69172e5b-cd73-4e63-82c7-f9220cd92e33",
   "metadata": {
    "tags": []
   },
   "outputs": [
    {
     "name": "stdout",
     "output_type": "stream",
     "text": [
      "Train размер: (6000, 2)\n",
      "Validation размер: (2000, 2)\n",
      "Test размер: (2000, 2)\n",
      "\n",
      "Распределение классов в Train:\n",
      "1    3000\n",
      "0    3000\n",
      "Name: target, dtype: int64\n",
      "\n",
      "Распределение классов в Validation:\n",
      "1    1000\n",
      "0    1000\n",
      "Name: target, dtype: int64\n",
      "\n",
      "Распределение классов в Test:\n",
      "0    1000\n",
      "1    1000\n",
      "Name: target, dtype: int64\n"
     ]
    }
   ],
   "source": [
    "# Разделение train_df на train и temp_df (40%) с учетом стратификации\n",
    "train_df, temp_df = train_test_split(train_df, test_size=0.4, random_state=42, stratify=train_df['target'])\n",
    "\n",
    "# Разделение temp_df на val и test (по 50%) с учетом стратификации\n",
    "val_df, test_df = train_test_split(temp_df, test_size=0.5, random_state=42, stratify=temp_df['target'])\n",
    "\n",
    "# Вывод размеров полученных DataFrame'ов для проверки пропорций\n",
    "print(\"Train размер:\", train_df.shape)\n",
    "print(\"Validation размер:\", val_df.shape)\n",
    "print(\"Test размер:\", test_df.shape)\n",
    "\n",
    "# Проверка распределения классов после разделения\n",
    "print(\"\\nРаспределение классов в Train:\")\n",
    "print(train_df['target'].value_counts())\n",
    "print(\"\\nРаспределение классов в Validation:\")\n",
    "print(val_df['target'].value_counts())\n",
    "print(\"\\nРаспределение классов в Test:\")\n",
    "print(test_df['target'].value_counts())"
   ]
  },
  {
   "cell_type": "code",
   "execution_count": 5,
   "id": "920e1465-6424-4ce3-ae7e-d04dae23b3c9",
   "metadata": {
    "tags": []
   },
   "outputs": [],
   "source": [
    "def split_text_into_segments(text, max_length=510):\n",
    "    \"\"\"\n",
    "    Разбивает текст на сегменты по max_length токенов.\n",
    "    Обратите внимание, что мы оставляем место для [CLS] и [SEP] токенов.\n",
    "    \n",
    "    :param text: Исходный текст.\n",
    "    :param max_length: Максимальная длина сегмента без учета [CLS] и [SEP].\n",
    "    :return: Список сегментов текста.\n",
    "    \"\"\"\n",
    "    # Токенизируем текст с учетом возможности разбиения на слова, а не на subwords\n",
    "    tokens = tokenizer.tokenize(text)\n",
    "    segments = [tokens[i:i + max_length] for i in range(0, len(tokens), max_length)]\n",
    "    return [\" \".join(segment) for segment in segments]"
   ]
  },
  {
   "cell_type": "code",
   "execution_count": 6,
   "id": "e402d274-d83f-4596-a05b-4e8a306a97f1",
   "metadata": {
    "tags": []
   },
   "outputs": [],
   "source": [
    "def prepare_dataset(df):\n",
    "    \"\"\"\n",
    "    Преобразует датафрейм, разбивая тексты на фрагменты, дублируя соответствующие метки,\n",
    "    и добавляя позиционные идентификаторы для каждого фрагмента.\n",
    "    \n",
    "    :param df: Исходный DataFrame с текстами и метками.\n",
    "    :return: Новый DataFrame, где каждая строка соответствует фрагменту исходного текста,\n",
    "             с добавлением позиционных идентификаторов.\n",
    "    \"\"\"\n",
    "    new_records = []\n",
    "    for _, row in df.iterrows():\n",
    "        segments = split_text_into_segments(row['text'])\n",
    "        for i, segment in enumerate(segments):  # Использование enumerate для получения индекса фрагмента\n",
    "            new_records.append({\n",
    "                'text': segment,\n",
    "                'target': row['target'],\n",
    "                'position_id': i  # Добавление позиционного идентификатора\n",
    "            })\n",
    "    return pd.DataFrame(new_records)\n",
    "\n",
    "# Применяем преобразование к тренировочному, валидационному и тестовому наборам\n",
    "train_df = prepare_dataset(train_df)\n",
    "val_df   = prepare_dataset(val_df)\n",
    "test_df  = prepare_dataset(test_df)"
   ]
  },
  {
   "cell_type": "code",
   "execution_count": 7,
   "id": "1fcc4074-e0c3-4f4a-adaf-dc52314ce25f",
   "metadata": {
    "tags": []
   },
   "outputs": [],
   "source": [
    "# Конвертация текста и меток из датафреймов в строки и целевые переменные для обучения, валидации и тестирования.\n",
    "train_text, train_labels = train_df[['text', 'position_id']].astype('str'), train_df['target']\n",
    "val_text, val_labels = val_df[['text', 'position_id']].astype('str'), val_df['target']\n",
    "test_text, test_labels = test_df[['text', 'position_id']].astype('str'), test_df['target']"
   ]
  },
  {
   "cell_type": "markdown",
   "id": "4588e840-6e11-4886-a0b6-2bc1ca21b118",
   "metadata": {},
   "source": [
    "Токенизируем текста, передадим в тензоры и загрузим в функцию DataLoader, которая будет по частям подавать наши данные для обучения и валидации в модель:"
   ]
  },
  {
   "cell_type": "code",
   "execution_count": 17,
   "id": "4447f593-c829-4829-8db9-d331e4500dd8",
   "metadata": {
    "tags": []
   },
   "outputs": [],
   "source": [
    "# Модифицируем функцию токенизации, чтобы включить логику обнуления position_id для новых текстов\n",
    "def tokenize_and_preserve_labels(df, tokenizer, max_length=512):\n",
    "    \"\"\"\n",
    "    Токенизирует тексты из датафрейма и сохраняет соответствующие метки классов,\n",
    "    учитывая при этом позиционные идентификаторы для каждого фрагмента текста.\n",
    "    \n",
    "    Данная функция предназначена для подготовки данных к обучению или тестированию модели,\n",
    "    которая требует не только токенов и масок внимания, но и позиционных идентификаторов\n",
    "    для каждого токена, чтобы учесть порядок фрагментов в исходном тексте.\n",
    "    \n",
    "    Параметры:\n",
    "        df (pandas.DataFrame): Датафрейм, содержащий тексты и метки классов, а также\n",
    "                               позиционные идентификаторы для каждого фрагмента текста.\n",
    "        tokenizer (transformers.PreTrainedTokenizer): Токенизатор, предоставляемый библиотекой\n",
    "                                                       transformers, для преобразования текста в токены.\n",
    "        max_length (int, optional): Максимальная длина токенизированной последовательности.\n",
    "                                    По умолчанию равна 512.\n",
    "    \n",
    "    Возвращает:\n",
    "        tuple: Кортеж, содержащий следующие элементы:\n",
    "            - input_ids (torch.Tensor): Тензор с идентификаторами токенов для каждого текста.\n",
    "            - attention_masks (torch.Tensor): Тензор с масками внимания для каждого текста.\n",
    "            - position_ids (torch.Tensor): Тензор с позиционными идентификаторами для каждого фрагмента текста.\n",
    "            - labels (torch.Tensor): Тензор с метками классов для каждого текста.\n",
    "    \"\"\"\n",
    "    input_ids = []\n",
    "    attention_masks = []\n",
    "    position_ids = []\n",
    "    labels = []\n",
    "\n",
    "    # Обнуляем position_id для каждого нового текста\n",
    "    current_position_id = 0\n",
    "    previous_text = \"\"\n",
    "    \n",
    "    for index, row in df.iterrows():\n",
    "        text = row['text']\n",
    "        label = row['target']\n",
    "        position_id = row['position_id']\n",
    "\n",
    "        # Проверяем, начался ли новый текст\n",
    "        if position_id == 0:\n",
    "            current_position_id = 0  # Обнуляем position_id для нового текста\n",
    "\n",
    "        # Токенизация текста\n",
    "        encoded_dict = tokenizer.encode_plus(\n",
    "            text,\n",
    "            add_special_tokens=True,  # Добавляем [CLS] и [SEP]\n",
    "            max_length=max_length,  # Ограничиваем длину входной последовательности\n",
    "            pad_to_max_length=True,  # Добавляем паддинг до максимальной длины\n",
    "            return_attention_mask=True,  # Возвращаем маску внимания\n",
    "            truncation=True  # Обрезаем до максимальной длины\n",
    "        )\n",
    "        \n",
    "        input_ids.append(encoded_dict['input_ids'])\n",
    "        attention_masks.append(encoded_dict['attention_mask'])\n",
    "        position_ids.append([current_position_id] * max_length)  # Генерируем position_ids\n",
    "        labels.append(label)\n",
    "        \n",
    "        current_position_id += 1  # Увеличиваем position_id для следующего фрагмента\n",
    "\n",
    "    # Преобразуем списки в тензоры PyTorch\n",
    "    input_ids = torch.tensor(input_ids)\n",
    "    attention_masks = torch.tensor(attention_masks)\n",
    "    position_ids = torch.tensor(position_ids)\n",
    "    labels = torch.tensor(labels, dtype=torch.long)\n",
    "\n",
    "    return input_ids, attention_masks, position_ids, labels\n",
    "\n",
    "# Размер пакета для обучения.\n",
    "batch_size = 8\n",
    "\n",
    "# Применяем функцию к датасетам\n",
    "input_ids_train, attention_masks_train, position_ids_train, labels_train = tokenize_and_preserve_labels(train_df, tokenizer)\n",
    "input_ids_val, attention_masks_val, position_ids_val, labels_val = tokenize_and_preserve_labels(val_df, tokenizer)\n",
    "input_ids_test, attention_masks_test, position_ids_test, labels_test = tokenize_and_preserve_labels(test_df, tokenizer)\n",
    "\n",
    "# Создаем DataLoader'ы\n",
    "train_data = TensorDataset(input_ids_train, attention_masks_train, position_ids_train, labels_train)\n",
    "train_dataloader = DataLoader(train_data, sampler=RandomSampler(train_data), batch_size=batch_size)\n",
    "\n",
    "val_data = TensorDataset(input_ids_val, attention_masks_val, position_ids_val, labels_val)\n",
    "val_dataloader = DataLoader(val_data, sampler=SequentialSampler(val_data), batch_size=batch_size)\n",
    "\n",
    "test_data = TensorDataset(input_ids_test, attention_masks_test, position_ids_test, labels_test)\n",
    "test_dataloader = DataLoader(test_data, sampler=SequentialSampler(test_data), batch_size=batch_size)"
   ]
  },
  {
   "cell_type": "code",
   "execution_count": null,
   "id": "695a6152-b245-43a9-bab9-524eaa6c00e3",
   "metadata": {},
   "outputs": [],
   "source": [
    "# Сохраняем DataLoader'ы\n",
    "with open('train_dataloader.pkl', 'wb') as f:\n",
    "    pickle.dump(train_dataloader, f)\n",
    "\n",
    "with open('val_dataloader.pkl', 'wb') as f:\n",
    "    pickle.dump(val_dataloader, f)\n",
    "\n",
    "with open('test_dataloader.pkl', 'wb') as f:\n",
    "    pickle.dump(test_dataloader, f)"
   ]
  },
  {
   "cell_type": "code",
   "execution_count": 5,
   "id": "b01597fe-99b5-4059-a154-a67976650373",
   "metadata": {},
   "outputs": [],
   "source": [
    "# Загружаем DataLoader'ы\n",
    "with open('train_dataloader.pkl', 'rb') as f:\n",
    "    train_dataloader = pickle.load(f)\n",
    "\n",
    "with open('val_dataloader.pkl', 'rb') as f:\n",
    "    val_dataloader = pickle.load(f)\n",
    "\n",
    "with open('test_dataloader.pkl', 'rb') as f:\n",
    "    test_dataloader = pickle.load(f)"
   ]
  },
  {
   "cell_type": "code",
   "execution_count": 6,
   "id": "dc1fbfc8",
   "metadata": {
    "tags": []
   },
   "outputs": [],
   "source": [
    "class BERT_Arch(nn.Module):\n",
    "    \"\"\"\n",
    "    Модифицированная архитектура модели на основе BERT, включающая слой внимания для агрегации фрагментов текста\n",
    "    и позиционные эмбеддинги для учета порядка фрагментов.\n",
    "    \n",
    "    Атрибуты:\n",
    "        bert (transformers.BertModel): Предобученная модель BERT.\n",
    "        attention (torch.nn.Sequential): Слой внимания, который вычисляет веса для фрагментов текста.\n",
    "        position_embeddings (torch.nn.Embedding): Позиционные эмбеддинги для учета порядка фрагментов.\n",
    "        classifier (torch.nn.Linear): Классификатор для бинарной классификации.\n",
    "        dropout (torch.nn.Dropout): Слой дропаута.\n",
    "        relu (torch.nn.ReLU): Функция активации ReLU.\n",
    "        \n",
    "    Методы:\n",
    "        forward(input_ids, attention_mask, position_ids): Выполняет прямой проход модели.\n",
    "    \"\"\"\n",
    "    \n",
    "    def __init__(self, bert, config):\n",
    "        super(BERT_Arch, self).__init__()\n",
    "        self.bert = bert      # Инициализация модели BERT\n",
    "        self.config = config  # Конфигурация модели BERT\n",
    "\n",
    "        # Слой внимания для агрегации информации из различных фрагментов текста\n",
    "        self.attention = nn.Sequential(\n",
    "            nn.Linear(self.config.hidden_size, 512),  # Преобразование размерности скрытого слоя\n",
    "            nn.Tanh(),                                # Применение функции активации Tanh\n",
    "            nn.Linear(512, 1),                        # Сужение до одного выхода для весов внимания\n",
    "            nn.Softmax(dim=1)                         # Softmax для получения весов внимания\n",
    "        )\n",
    "        \n",
    "        # Позиционные эмбеддинги для учета порядка фрагментов\n",
    "        self.position_embeddings = nn.Embedding(config.max_position_embeddings, self.config.hidden_size)\n",
    "        \n",
    "        self.classifier = nn.Linear(self.config.hidden_size, 1)  # Классификатор для бинарной классификации\n",
    "        self.dropout = nn.Dropout(0.1)                           # Слой дропаута\n",
    "        self.relu = nn.ReLU()                                    # Функция активации ReLU\n",
    "\n",
    "    def forward(self, input_ids, attention_mask, position_ids):\n",
    "        \"\"\"\n",
    "        Выполняет прямой проход модели.\n",
    "\n",
    "        Параметры:\n",
    "            input_ids (torch.Tensor): Тензор с идентификаторами токенов.\n",
    "            attention_mask (torch.Tensor): Тензор с маской внимания.\n",
    "            position_ids (torch.Tensor): Тензор с позиционными идентификаторами для каждого фрагмента.\n",
    "\n",
    "        Возвращает:\n",
    "            torch.Tensor: Логиты бинарной классификации для каждого примера.\n",
    "        \"\"\"\n",
    "        outputs = self.bert(input_ids, attention_mask=attention_mask)  # Получение выхода из BERT\n",
    "        sequence_output = outputs[0]                                   # Последний скрытый слой BERT\n",
    "\n",
    "        # Добавление позиционных эмбеддингов\n",
    "        position_embeddings = self.position_embeddings(position_ids)  # Получение позиционных эмбеддингов\n",
    "        sequence_output += position_embeddings                        # Сложение позиционных эмбеддингов с выходом BERT\n",
    "\n",
    "        # Применение слоя внимания\n",
    "        attention_weights = self.attention(sequence_output[:, 0, :])  # Вычисление весов внимания\n",
    "        # Расширяем размерность весов внимания и применяем их к каждому вектору в sequence_output\n",
    "        attention_weights = attention_weights.unsqueeze(-1).expand_as(sequence_output)\n",
    "        weighted_sum = torch.sum(attention_weights * sequence_output, dim=1)  # Агрегация с весами внимания\n",
    "\n",
    "        logits = self.classifier(self.dropout(self.relu(weighted_sum)))  # Применение классификатора\n",
    "        return logits"
   ]
  },
  {
   "cell_type": "code",
   "execution_count": 7,
   "id": "4fbc704e-94c1-416d-9c05-ac218fd5d282",
   "metadata": {
    "tags": []
   },
   "outputs": [
    {
     "name": "stdout",
     "output_type": "stream",
     "text": [
      "Модель успешно инициализирована и перемещена на устройство: cuda\n"
     ]
    }
   ],
   "source": [
    "# Получаем конфигурацию модели из загруженной модели BERT\n",
    "config = bert.config\n",
    "\n",
    "# Инициализация модифицированной архитектуры с загруженной моделью BERT и ее конфигурацией\n",
    "model = BERT_Arch(bert, config)\n",
    "\n",
    "# Перемещение модели на устройство (например, на GPU, если доступно)\n",
    "device = torch.device(\"cuda\" if torch.cuda.is_available() else \"cpu\")\n",
    "model = model.to(device)\n",
    "\n",
    "print(\"Модель успешно инициализирована и перемещена на устройство:\", device)"
   ]
  },
  {
   "cell_type": "code",
   "execution_count": null,
   "id": "73274043-25bb-4d7f-b166-75f741367190",
   "metadata": {
    "tags": []
   },
   "outputs": [],
   "source": [
    "def train(model, dataloader, optimizer, criterion, device):\n",
    "    \"\"\"\n",
    "    Функция обучения модели.\n",
    "\n",
    "    Аргументы:\n",
    "        model (torch.nn.Module): Модель для обучения.\n",
    "        dataloader (DataLoader): DataLoader для обучающего набора данных.\n",
    "        optimizer (torch.optim.Optimizer): Оптимизатор для обновления весов модели.\n",
    "        criterion (torch.nn.Module): Функция потерь.\n",
    "        device (torch.device): Устройство, на котором производится вычисление (CPU или GPU).\n",
    "\n",
    "    Возвращает:\n",
    "        float: Среднее значение потерь на обучающем наборе данных.\n",
    "    \"\"\"\n",
    "    model.train()\n",
    "    total_loss = 0\n",
    "    for batch in tqdm(dataloader, desc=\"Training\"):\n",
    "        batch = tuple(t.to(device) for t in batch)\n",
    "        input_ids, attention_mask, position_ids, labels = batch\n",
    "        labels = labels.float().unsqueeze(1)  # Преобразование меток и добавление измерения\n",
    "\n",
    "        optimizer.zero_grad()\n",
    "        \n",
    "        # Важно: обновите вызов модели, чтобы он включал position_ids\n",
    "        outputs = model(input_ids, attention_mask, position_ids)\n",
    "        loss = criterion(outputs, labels)\n",
    "        loss.backward()\n",
    "        optimizer.step()\n",
    "\n",
    "        total_loss += loss.item()\n",
    "    return total_loss / len(dataloader)\n",
    "\n",
    "def evaluate(model, dataloader, criterion, device):\n",
    "    \"\"\"\n",
    "    Функция оценки модели.\n",
    "\n",
    "    Аргументы:\n",
    "        model (torch.nn.Module): Модель для оценки.\n",
    "        dataloader (DataLoader): DataLoader для валидационного набора данных.\n",
    "        criterion (torch.nn.Module): Функция потерь.\n",
    "        device (torch.device): Устройство для вычислений.\n",
    "\n",
    "    Возвращает:\n",
    "        float: Среднее значение потерь на валидационном наборе данных.\n",
    "    \"\"\"\n",
    "    model.eval()\n",
    "    total_loss = 0\n",
    "    with torch.no_grad():\n",
    "        for batch in tqdm(dataloader, desc=\"Evaluating\"):\n",
    "            batch = tuple(t.to(device) for t in batch)\n",
    "            input_ids, attention_mask, position_ids, labels = batch\n",
    "            labels = labels.float().unsqueeze(1)  # Преобразование меток и добавление измерения\n",
    "\n",
    "            # Важно: обновите вызов модели, чтобы он включал position_ids\n",
    "            outputs = model(input_ids, attention_mask, position_ids)\n",
    "            loss = criterion(outputs, labels)\n",
    "\n",
    "            total_loss += loss.item()\n",
    "    return total_loss / len(dataloader)\n",
    "\n",
    "# Создание оптимизатора и функции потерь\n",
    "optimizer = AdamW(model.parameters(), lr=1e-3)\n",
    "# criterion = nn.CrossEntropyLoss().to(device)\n",
    "criterion = nn.BCEWithLogitsLoss().to(device)\n",
    "\n",
    "\n",
    "# Основной цикл обучения\n",
    "epochs = 4\n",
    "\n",
    "for epoch in range(epochs):\n",
    "    print(f'\\nEpoch {epoch + 1}/{epochs}')\n",
    "    train_loss = train(model, train_dataloader, optimizer, criterion, device)\n",
    "    val_loss = evaluate(model, val_dataloader, criterion, device)\n",
    "    print(f'Training loss: {train_loss}')\n",
    "    print(f'Validation loss: {val_loss}')"
   ]
  },
  {
   "cell_type": "code",
   "execution_count": 9,
   "id": "8521b548-9e9b-45d6-b363-3842166767a1",
   "metadata": {
    "tags": []
   },
   "outputs": [
    {
     "name": "stderr",
     "output_type": "stream",
     "text": [
      "Testing: 100%|██████████| 1425/1425 [01:33<00:00, 15.31it/s]\n"
     ]
    }
   ],
   "source": [
    "model.eval()  # Перевод модели в режим оценки\n",
    "total_test_loss = 0\n",
    "predictions, true_labels = [], []\n",
    "\n",
    "with torch.no_grad():\n",
    "    for batch in tqdm(test_dataloader, desc=\"Testing\"):\n",
    "        batch = tuple(t.to(device) for t in batch)\n",
    "        input_ids, attention_mask, position_ids, labels = batch\n",
    "\n",
    "        outputs = model(input_ids, attention_mask, position_ids)\n",
    "        loss = criterion(outputs, labels.float().unsqueeze(1))\n",
    "        \n",
    "        total_test_loss += loss.item()\n",
    "        \n",
    "        preds = torch.sigmoid(outputs).cpu().detach().numpy()  # Применяем сигмоиду для получения вероятностей\n",
    "        batch_labels = labels.cpu().detach().numpy()\n",
    "        \n",
    "        predictions.extend(preds)\n",
    "        true_labels.extend(batch_labels)"
   ]
  },
  {
   "cell_type": "code",
   "execution_count": 1,
   "id": "a1d38073-39a5-43cf-ada5-1026c122e3c3",
   "metadata": {
    "tags": []
   },
   "outputs": [
    {
     "name": "stdout",
     "output_type": "stream",
     "text": [
      "Accuracy: 0.8996052285288183\n",
      "Precision: 0.8996052285288183\n",
      "Recall: 0.9112874779541447\n",
      "F1 Score: 0.9053497942386817\n"
     ]
    }
   ],
   "source": [
    "# Преобразование вероятностей в бинарные предсказания\n",
    "threshold = 0.5\n",
    "binary_preds = [1 if x > threshold else 0 for x in predictions]\n",
    "\n",
    "# Рассчитываем метрики\n",
    "accuracy = accuracy_score(true_labels, binary_preds)\n",
    "precision = precision_score(true_labels, binary_preds)\n",
    "recall = recall_score(true_labels, binary_preds)\n",
    "f1 = f1_score(true_labels, binary_preds)\n",
    "\n",
    "print(f\"Accuracy: {accuracy}\") \n",
    "print(f\"Precision: {precision}\")\n",
    "print(f\"Recall: {recall}\")\n",
    "print(f\"F1 Score: {f1}\")"
   ]
  }
 ],
 "metadata": {
  "kernelspec": {
   "display_name": "Python 3.11",
   "language": "python",
   "name": "python3"
  },
  "language_info": {
   "codemirror_mode": {
    "name": "ipython",
    "version": 3
   },
   "file_extension": ".py",
   "mimetype": "text/x-python",
   "name": "python",
   "nbconvert_exporter": "python",
   "pygments_lexer": "ipython3",
   "version": "3.11.4"
  }
 },
 "nbformat": 4,
 "nbformat_minor": 5
}
